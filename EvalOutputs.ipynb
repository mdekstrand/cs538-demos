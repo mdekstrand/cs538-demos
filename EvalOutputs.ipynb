{
 "cells": [
  {
   "cell_type": "markdown",
   "id": "da4d453d",
   "metadata": {},
   "source": [
    "# Evaluate Outputs\n",
    "\n",
    "This notebook evaluates outputs of the recommendation model(s)."
   ]
  },
  {
   "cell_type": "markdown",
   "id": "cd4f5cfc",
   "metadata": {},
   "source": [
    "## Setup\n",
    "\n",
    "What data set?"
   ]
  },
  {
   "cell_type": "code",
   "execution_count": 1,
   "id": "310022d6",
   "metadata": {},
   "outputs": [],
   "source": [
    "data = 'ml-latest-small'"
   ]
  },
  {
   "cell_type": "markdown",
   "id": "eac5630d",
   "metadata": {},
   "source": [
    "Let's import some things:"
   ]
  },
  {
   "cell_type": "code",
   "execution_count": 2,
   "id": "028070f9",
   "metadata": {},
   "outputs": [],
   "source": [
    "from pathlib import Path\n",
    "import re\n",
    "import logging"
   ]
  },
  {
   "cell_type": "code",
   "execution_count": 3,
   "id": "8a6ef53d",
   "metadata": {},
   "outputs": [],
   "source": [
    "import numpy as np\n",
    "import pandas as pd\n",
    "import seaborn as sns\n",
    "import matplotlib.pyplot as plt"
   ]
  },
  {
   "cell_type": "code",
   "execution_count": 4,
   "id": "b0a0cba3",
   "metadata": {},
   "outputs": [],
   "source": [
    "from scipy.stats import ttest_rel\n",
    "import statsmodels.api as sm"
   ]
  },
  {
   "cell_type": "code",
   "execution_count": 5,
   "id": "225859f3",
   "metadata": {},
   "outputs": [],
   "source": [
    "from lenskit import topn\n",
    "from lenskit.datasets import MovieLens\n",
    "from lenskit.util.log import log_to_notebook"
   ]
  },
  {
   "cell_type": "code",
   "execution_count": 6,
   "id": "1cb4000a",
   "metadata": {},
   "outputs": [
    {
     "name": "stdout",
     "output_type": "stream",
     "text": [
      "[   INFO] lenskit.util.log notebook logging configured\n"
     ]
    }
   ],
   "source": [
    "_log = logging.getLogger('eval-notebook')\n",
    "log_to_notebook()"
   ]
  },
  {
   "cell_type": "code",
   "execution_count": 7,
   "id": "422a2bbc",
   "metadata": {},
   "outputs": [],
   "source": [
    "from tqdm.notebook import tqdm\n",
    "tqdm.pandas()"
   ]
  },
  {
   "cell_type": "markdown",
   "id": "f28e672e",
   "metadata": {},
   "source": [
    "## Load Data"
   ]
  },
  {
   "cell_type": "markdown",
   "id": "6f37d6c6",
   "metadata": {},
   "source": [
    "### Test Data\n",
    "\n",
    "We're going to start by loading the test data:"
   ]
  },
  {
   "cell_type": "code",
   "execution_count": 8,
   "id": "d6736199",
   "metadata": {},
   "outputs": [],
   "source": [
    "ml = MovieLens(f'data/{data}')\n",
    "split_dir = Path(f'data/{data}-split')"
   ]
  },
  {
   "cell_type": "code",
   "execution_count": 9,
   "id": "19d9c8f7",
   "metadata": {},
   "outputs": [
    {
     "data": {
      "text/html": [
       "<div>\n",
       "<style scoped>\n",
       "    .dataframe tbody tr th:only-of-type {\n",
       "        vertical-align: middle;\n",
       "    }\n",
       "\n",
       "    .dataframe tbody tr th {\n",
       "        vertical-align: top;\n",
       "    }\n",
       "\n",
       "    .dataframe thead th {\n",
       "        text-align: right;\n",
       "    }\n",
       "</style>\n",
       "<table border=\"1\" class=\"dataframe\">\n",
       "  <thead>\n",
       "    <tr style=\"text-align: right;\">\n",
       "      <th></th>\n",
       "      <th>title</th>\n",
       "      <th>genres</th>\n",
       "    </tr>\n",
       "    <tr>\n",
       "      <th>item</th>\n",
       "      <th></th>\n",
       "      <th></th>\n",
       "    </tr>\n",
       "  </thead>\n",
       "  <tbody>\n",
       "    <tr>\n",
       "      <th>1</th>\n",
       "      <td>Toy Story (1995)</td>\n",
       "      <td>Adventure|Animation|Children|Comedy|Fantasy</td>\n",
       "    </tr>\n",
       "    <tr>\n",
       "      <th>2</th>\n",
       "      <td>Jumanji (1995)</td>\n",
       "      <td>Adventure|Children|Fantasy</td>\n",
       "    </tr>\n",
       "    <tr>\n",
       "      <th>3</th>\n",
       "      <td>Grumpier Old Men (1995)</td>\n",
       "      <td>Comedy|Romance</td>\n",
       "    </tr>\n",
       "    <tr>\n",
       "      <th>4</th>\n",
       "      <td>Waiting to Exhale (1995)</td>\n",
       "      <td>Comedy|Drama|Romance</td>\n",
       "    </tr>\n",
       "    <tr>\n",
       "      <th>5</th>\n",
       "      <td>Father of the Bride Part II (1995)</td>\n",
       "      <td>Comedy</td>\n",
       "    </tr>\n",
       "  </tbody>\n",
       "</table>\n",
       "</div>"
      ],
      "text/plain": [
       "                                   title  \\\n",
       "item                                       \n",
       "1                       Toy Story (1995)   \n",
       "2                         Jumanji (1995)   \n",
       "3                Grumpier Old Men (1995)   \n",
       "4               Waiting to Exhale (1995)   \n",
       "5     Father of the Bride Part II (1995)   \n",
       "\n",
       "                                           genres  \n",
       "item                                               \n",
       "1     Adventure|Animation|Children|Comedy|Fantasy  \n",
       "2                      Adventure|Children|Fantasy  \n",
       "3                                  Comedy|Romance  \n",
       "4                            Comedy|Drama|Romance  \n",
       "5                                          Comedy  "
      ]
     },
     "execution_count": 9,
     "metadata": {},
     "output_type": "execute_result"
    }
   ],
   "source": [
    "movies = ml.movies\n",
    "movies.head()"
   ]
  },
  {
   "cell_type": "markdown",
   "id": "a28f2f1f",
   "metadata": {},
   "source": [
    "Scan for and load test data:"
   ]
  },
  {
   "cell_type": "code",
   "execution_count": 10,
   "id": "1aa335d8",
   "metadata": {},
   "outputs": [],
   "source": [
    "test_re = re.compile(r'^part(?P<part>\\d+)-test')\n",
    "test_frames = {}\n",
    "for file in split_dir.glob('*-test.parquet'):\n",
    "    match = test_re.match(file.name)\n",
    "    part = int(match.group('part'))\n",
    "    test_frames[part] = pd.read_parquet(file)"
   ]
  },
  {
   "cell_type": "code",
   "execution_count": 11,
   "id": "bd934eb2",
   "metadata": {},
   "outputs": [
    {
     "data": {
      "text/html": [
       "<div>\n",
       "<style scoped>\n",
       "    .dataframe tbody tr th:only-of-type {\n",
       "        vertical-align: middle;\n",
       "    }\n",
       "\n",
       "    .dataframe tbody tr th {\n",
       "        vertical-align: top;\n",
       "    }\n",
       "\n",
       "    .dataframe thead th {\n",
       "        text-align: right;\n",
       "    }\n",
       "</style>\n",
       "<table border=\"1\" class=\"dataframe\">\n",
       "  <thead>\n",
       "    <tr style=\"text-align: right;\">\n",
       "      <th></th>\n",
       "      <th>part</th>\n",
       "      <th>user</th>\n",
       "      <th>item</th>\n",
       "      <th>rating</th>\n",
       "      <th>timestamp</th>\n",
       "    </tr>\n",
       "  </thead>\n",
       "  <tbody>\n",
       "    <tr>\n",
       "      <th>0</th>\n",
       "      <td>1</td>\n",
       "      <td>3</td>\n",
       "      <td>849</td>\n",
       "      <td>5.0</td>\n",
       "      <td>1306463611</td>\n",
       "    </tr>\n",
       "    <tr>\n",
       "      <th>1</th>\n",
       "      <td>1</td>\n",
       "      <td>3</td>\n",
       "      <td>3024</td>\n",
       "      <td>4.5</td>\n",
       "      <td>1306464054</td>\n",
       "    </tr>\n",
       "    <tr>\n",
       "      <th>2</th>\n",
       "      <td>1</td>\n",
       "      <td>3</td>\n",
       "      <td>6238</td>\n",
       "      <td>0.5</td>\n",
       "      <td>1306464204</td>\n",
       "    </tr>\n",
       "    <tr>\n",
       "      <th>3</th>\n",
       "      <td>1</td>\n",
       "      <td>3</td>\n",
       "      <td>1371</td>\n",
       "      <td>3.0</td>\n",
       "      <td>1306463561</td>\n",
       "    </tr>\n",
       "    <tr>\n",
       "      <th>4</th>\n",
       "      <td>1</td>\n",
       "      <td>3</td>\n",
       "      <td>26409</td>\n",
       "      <td>4.5</td>\n",
       "      <td>1306463993</td>\n",
       "    </tr>\n",
       "  </tbody>\n",
       "</table>\n",
       "</div>"
      ],
      "text/plain": [
       "   part  user   item  rating   timestamp\n",
       "0     1     3    849     5.0  1306463611\n",
       "1     1     3   3024     4.5  1306464054\n",
       "2     1     3   6238     0.5  1306464204\n",
       "3     1     3   1371     3.0  1306463561\n",
       "4     1     3  26409     4.5  1306463993"
      ]
     },
     "execution_count": 11,
     "metadata": {},
     "output_type": "execute_result"
    }
   ],
   "source": [
    "test_ratings = pd.concat(test_frames, names=['part'])\n",
    "test_ratings = test_ratings.reset_index('part').reset_index(drop=True)\n",
    "test_ratings.head()"
   ]
  },
  {
   "cell_type": "markdown",
   "id": "f28c6604",
   "metadata": {},
   "source": [
    "### Outputs\n",
    "\n",
    "Now let's load prediction & recommendation data.\n",
    "\n",
    "A regular expression will parse file names:"
   ]
  },
  {
   "cell_type": "code",
   "execution_count": 12,
   "id": "c03f983c",
   "metadata": {},
   "outputs": [],
   "source": [
    "adn_re = re.compile(r'^(?P<data>.*?)-(?P<algo>[A-Z].*)')\n",
    "fn_re = re.compile(r'part(?P<part>\\d+)-(?:recs|preds)')"
   ]
  },
  {
   "cell_type": "markdown",
   "id": "2ee90865",
   "metadata": {},
   "source": [
    "Load predictions:"
   ]
  },
  {
   "cell_type": "code",
   "execution_count": 13,
   "id": "f8db3b32",
   "metadata": {},
   "outputs": [
    {
     "name": "stdout",
     "output_type": "stream",
     "text": [
      "[   INFO] eval-notebook loading preds/ml-latest-small-BIAS/part3-preds.parquet\n",
      "[   INFO] eval-notebook loading preds/ml-latest-small-BIAS/part2-preds.parquet\n",
      "[   INFO] eval-notebook loading preds/ml-latest-small-BIAS/part5-preds.parquet\n",
      "[   INFO] eval-notebook loading preds/ml-latest-small-BIAS/part1-preds.parquet\n",
      "[   INFO] eval-notebook loading preds/ml-latest-small-BIAS/part4-preds.parquet\n",
      "[   INFO] eval-notebook loading preds/ml-latest-small-E-MF/part1-preds.parquet\n",
      "[   INFO] eval-notebook loading preds/ml-latest-small-E-MF/part4-preds.parquet\n",
      "[   INFO] eval-notebook loading preds/ml-latest-small-E-MF/part2-preds.parquet\n",
      "[   INFO] eval-notebook loading preds/ml-latest-small-E-MF/part3-preds.parquet\n",
      "[   INFO] eval-notebook loading preds/ml-latest-small-E-MF/part5-preds.parquet\n"
     ]
    }
   ],
   "source": [
    "pred_frames = {}\n",
    "for file in Path('preds').glob(f'{data}-*/*-preds.parquet'):\n",
    "    _log.info('loading %s', file)\n",
    "    dmatch = adn_re.match(file.parent.name)\n",
    "    algo = dmatch.group('algo')\n",
    "    fmatch = fn_re.match(file.name)\n",
    "    part = int(fmatch.group('part'))\n",
    "    df = pd.read_parquet(file)\n",
    "    pred_frames[(algo, part)] = df"
   ]
  },
  {
   "cell_type": "code",
   "execution_count": 14,
   "id": "baa751de",
   "metadata": {},
   "outputs": [
    {
     "data": {
      "text/html": [
       "<div>\n",
       "<style scoped>\n",
       "    .dataframe tbody tr th:only-of-type {\n",
       "        vertical-align: middle;\n",
       "    }\n",
       "\n",
       "    .dataframe tbody tr th {\n",
       "        vertical-align: top;\n",
       "    }\n",
       "\n",
       "    .dataframe thead th {\n",
       "        text-align: right;\n",
       "    }\n",
       "</style>\n",
       "<table border=\"1\" class=\"dataframe\">\n",
       "  <thead>\n",
       "    <tr style=\"text-align: right;\">\n",
       "      <th></th>\n",
       "      <th>algo</th>\n",
       "      <th>part</th>\n",
       "      <th>user</th>\n",
       "      <th>item</th>\n",
       "      <th>rating</th>\n",
       "      <th>timestamp</th>\n",
       "      <th>prediction</th>\n",
       "    </tr>\n",
       "  </thead>\n",
       "  <tbody>\n",
       "    <tr>\n",
       "      <th>0</th>\n",
       "      <td>BIAS</td>\n",
       "      <td>3</td>\n",
       "      <td>6</td>\n",
       "      <td>145</td>\n",
       "      <td>4.0</td>\n",
       "      <td>845553966</td>\n",
       "      <td>3.525638</td>\n",
       "    </tr>\n",
       "    <tr>\n",
       "      <th>1</th>\n",
       "      <td>BIAS</td>\n",
       "      <td>3</td>\n",
       "      <td>6</td>\n",
       "      <td>267</td>\n",
       "      <td>3.0</td>\n",
       "      <td>845554376</td>\n",
       "      <td>3.233138</td>\n",
       "    </tr>\n",
       "    <tr>\n",
       "      <th>2</th>\n",
       "      <td>BIAS</td>\n",
       "      <td>3</td>\n",
       "      <td>6</td>\n",
       "      <td>207</td>\n",
       "      <td>4.0</td>\n",
       "      <td>845554024</td>\n",
       "      <td>3.695638</td>\n",
       "    </tr>\n",
       "    <tr>\n",
       "      <th>3</th>\n",
       "      <td>BIAS</td>\n",
       "      <td>3</td>\n",
       "      <td>6</td>\n",
       "      <td>370</td>\n",
       "      <td>4.0</td>\n",
       "      <td>845553794</td>\n",
       "      <td>3.339497</td>\n",
       "    </tr>\n",
       "    <tr>\n",
       "      <th>4</th>\n",
       "      <td>BIAS</td>\n",
       "      <td>3</td>\n",
       "      <td>6</td>\n",
       "      <td>440</td>\n",
       "      <td>4.0</td>\n",
       "      <td>845553457</td>\n",
       "      <td>3.835638</td>\n",
       "    </tr>\n",
       "  </tbody>\n",
       "</table>\n",
       "</div>"
      ],
      "text/plain": [
       "   algo  part  user  item  rating  timestamp  prediction\n",
       "0  BIAS     3     6   145     4.0  845553966    3.525638\n",
       "1  BIAS     3     6   267     3.0  845554376    3.233138\n",
       "2  BIAS     3     6   207     4.0  845554024    3.695638\n",
       "3  BIAS     3     6   370     4.0  845553794    3.339497\n",
       "4  BIAS     3     6   440     4.0  845553457    3.835638"
      ]
     },
     "execution_count": 14,
     "metadata": {},
     "output_type": "execute_result"
    }
   ],
   "source": [
    "preds = pd.concat(pred_frames, names=['algo', 'part'])\n",
    "preds = preds.reset_index(['algo', 'part']).reset_index(drop=True)\n",
    "preds.head()"
   ]
  },
  {
   "cell_type": "markdown",
   "id": "f43c9bdc",
   "metadata": {},
   "source": [
    "And now the recommendations:"
   ]
  },
  {
   "cell_type": "code",
   "execution_count": 15,
   "id": "8cae4e1e",
   "metadata": {},
   "outputs": [
    {
     "name": "stdout",
     "output_type": "stream",
     "text": [
      "[   INFO] eval-notebook loading recs/ml-latest-small-POP/part1-recs.parquet\n",
      "[   INFO] eval-notebook loading recs/ml-latest-small-POP/part3-recs.parquet\n",
      "[   INFO] eval-notebook loading recs/ml-latest-small-POP/part2-recs.parquet\n",
      "[   INFO] eval-notebook loading recs/ml-latest-small-POP/part5-recs.parquet\n",
      "[   INFO] eval-notebook loading recs/ml-latest-small-POP/part4-recs.parquet\n",
      "[   INFO] eval-notebook loading recs/ml-latest-small-BIAS/part4-recs.parquet\n",
      "[   INFO] eval-notebook loading recs/ml-latest-small-BIAS/part1-recs.parquet\n",
      "[   INFO] eval-notebook loading recs/ml-latest-small-BIAS/part2-recs.parquet\n",
      "[   INFO] eval-notebook loading recs/ml-latest-small-BIAS/part5-recs.parquet\n",
      "[   INFO] eval-notebook loading recs/ml-latest-small-BIAS/part3-recs.parquet\n",
      "[   INFO] eval-notebook loading recs/ml-latest-small-E-MF/part1-recs.parquet\n",
      "[   INFO] eval-notebook loading recs/ml-latest-small-E-MF/part4-recs.parquet\n",
      "[   INFO] eval-notebook loading recs/ml-latest-small-E-MF/part3-recs.parquet\n",
      "[   INFO] eval-notebook loading recs/ml-latest-small-E-MF/part5-recs.parquet\n",
      "[   INFO] eval-notebook loading recs/ml-latest-small-E-MF/part2-recs.parquet\n",
      "[   INFO] eval-notebook loading recs/ml-latest-small-I-MF/part4-recs.parquet\n",
      "[   INFO] eval-notebook loading recs/ml-latest-small-I-MF/part2-recs.parquet\n",
      "[   INFO] eval-notebook loading recs/ml-latest-small-I-MF/part3-recs.parquet\n",
      "[   INFO] eval-notebook loading recs/ml-latest-small-I-MF/part1-recs.parquet\n",
      "[   INFO] eval-notebook loading recs/ml-latest-small-I-MF/part5-recs.parquet\n",
      "[   INFO] eval-notebook loading recs/ml-latest-small-TorchIMF1/part1-recs.parquet\n",
      "[   INFO] eval-notebook loading recs/ml-latest-small-TorchIMF1/part2-recs.parquet\n",
      "[   INFO] eval-notebook loading recs/ml-latest-small-TorchIMF1/part3-recs.parquet\n",
      "[   INFO] eval-notebook loading recs/ml-latest-small-TorchIMF1/part4-recs.parquet\n",
      "[   INFO] eval-notebook loading recs/ml-latest-small-TorchIMF1/part5-recs.parquet\n"
     ]
    }
   ],
   "source": [
    "rec_frames = {}\n",
    "for file in Path('recs').glob(f'{data}-*/*-recs.parquet'):\n",
    "    _log.info('loading %s', file)\n",
    "    dmatch = adn_re.match(file.parent.name)\n",
    "    algo = dmatch.group('algo')\n",
    "    fmatch = fn_re.match(file.name)\n",
    "    part = int(fmatch.group('part'))\n",
    "    df = pd.read_parquet(file)\n",
    "    rec_frames[(algo, part)] = df"
   ]
  },
  {
   "cell_type": "code",
   "execution_count": 16,
   "id": "690bd4ca",
   "metadata": {},
   "outputs": [
    {
     "data": {
      "text/html": [
       "<div>\n",
       "<style scoped>\n",
       "    .dataframe tbody tr th:only-of-type {\n",
       "        vertical-align: middle;\n",
       "    }\n",
       "\n",
       "    .dataframe tbody tr th {\n",
       "        vertical-align: top;\n",
       "    }\n",
       "\n",
       "    .dataframe thead th {\n",
       "        text-align: right;\n",
       "    }\n",
       "</style>\n",
       "<table border=\"1\" class=\"dataframe\">\n",
       "  <thead>\n",
       "    <tr style=\"text-align: right;\">\n",
       "      <th></th>\n",
       "      <th>algo</th>\n",
       "      <th>part</th>\n",
       "      <th>item</th>\n",
       "      <th>score</th>\n",
       "      <th>user</th>\n",
       "      <th>rank</th>\n",
       "    </tr>\n",
       "  </thead>\n",
       "  <tbody>\n",
       "    <tr>\n",
       "      <th>0</th>\n",
       "      <td>POP</td>\n",
       "      <td>1</td>\n",
       "      <td>356</td>\n",
       "      <td>326.0</td>\n",
       "      <td>3</td>\n",
       "      <td>1</td>\n",
       "    </tr>\n",
       "    <tr>\n",
       "      <th>1</th>\n",
       "      <td>POP</td>\n",
       "      <td>1</td>\n",
       "      <td>318</td>\n",
       "      <td>315.0</td>\n",
       "      <td>3</td>\n",
       "      <td>2</td>\n",
       "    </tr>\n",
       "    <tr>\n",
       "      <th>2</th>\n",
       "      <td>POP</td>\n",
       "      <td>1</td>\n",
       "      <td>296</td>\n",
       "      <td>303.0</td>\n",
       "      <td>3</td>\n",
       "      <td>3</td>\n",
       "    </tr>\n",
       "    <tr>\n",
       "      <th>3</th>\n",
       "      <td>POP</td>\n",
       "      <td>1</td>\n",
       "      <td>593</td>\n",
       "      <td>275.0</td>\n",
       "      <td>3</td>\n",
       "      <td>4</td>\n",
       "    </tr>\n",
       "    <tr>\n",
       "      <th>4</th>\n",
       "      <td>POP</td>\n",
       "      <td>1</td>\n",
       "      <td>2571</td>\n",
       "      <td>274.0</td>\n",
       "      <td>3</td>\n",
       "      <td>5</td>\n",
       "    </tr>\n",
       "  </tbody>\n",
       "</table>\n",
       "</div>"
      ],
      "text/plain": [
       "  algo  part  item  score  user  rank\n",
       "0  POP     1   356  326.0     3     1\n",
       "1  POP     1   318  315.0     3     2\n",
       "2  POP     1   296  303.0     3     3\n",
       "3  POP     1   593  275.0     3     4\n",
       "4  POP     1  2571  274.0     3     5"
      ]
     },
     "execution_count": 16,
     "metadata": {},
     "output_type": "execute_result"
    }
   ],
   "source": [
    "recs = pd.concat(rec_frames, names=['algo', 'part'])\n",
    "recs = recs.reset_index(['algo', 'part']).reset_index(drop=True)\n",
    "recs.head()"
   ]
  },
  {
   "cell_type": "markdown",
   "id": "b00a7f18",
   "metadata": {},
   "source": [
    "## Prediction Accuracy\n",
    "\n",
    "Now, let's compute the per-user RMSE of each algorithm."
   ]
  },
  {
   "cell_type": "code",
   "execution_count": 17,
   "id": "58b90761",
   "metadata": {},
   "outputs": [
    {
     "data": {
      "text/html": [
       "<div>\n",
       "<style scoped>\n",
       "    .dataframe tbody tr th:only-of-type {\n",
       "        vertical-align: middle;\n",
       "    }\n",
       "\n",
       "    .dataframe tbody tr th {\n",
       "        vertical-align: top;\n",
       "    }\n",
       "\n",
       "    .dataframe thead th {\n",
       "        text-align: right;\n",
       "    }\n",
       "</style>\n",
       "<table border=\"1\" class=\"dataframe\">\n",
       "  <thead>\n",
       "    <tr style=\"text-align: right;\">\n",
       "      <th></th>\n",
       "      <th>algo</th>\n",
       "      <th>user</th>\n",
       "      <th>RMSE</th>\n",
       "    </tr>\n",
       "  </thead>\n",
       "  <tbody>\n",
       "    <tr>\n",
       "      <th>0</th>\n",
       "      <td>BIAS</td>\n",
       "      <td>1</td>\n",
       "      <td>0.562860</td>\n",
       "    </tr>\n",
       "    <tr>\n",
       "      <th>1</th>\n",
       "      <td>BIAS</td>\n",
       "      <td>2</td>\n",
       "      <td>0.533294</td>\n",
       "    </tr>\n",
       "    <tr>\n",
       "      <th>2</th>\n",
       "      <td>BIAS</td>\n",
       "      <td>3</td>\n",
       "      <td>10.611165</td>\n",
       "    </tr>\n",
       "    <tr>\n",
       "      <th>3</th>\n",
       "      <td>BIAS</td>\n",
       "      <td>4</td>\n",
       "      <td>0.974652</td>\n",
       "    </tr>\n",
       "    <tr>\n",
       "      <th>4</th>\n",
       "      <td>BIAS</td>\n",
       "      <td>5</td>\n",
       "      <td>0.407355</td>\n",
       "    </tr>\n",
       "  </tbody>\n",
       "</table>\n",
       "</div>"
      ],
      "text/plain": [
       "   algo  user       RMSE\n",
       "0  BIAS     1   0.562860\n",
       "1  BIAS     2   0.533294\n",
       "2  BIAS     3  10.611165\n",
       "3  BIAS     4   0.974652\n",
       "4  BIAS     5   0.407355"
      ]
     },
     "execution_count": 17,
     "metadata": {},
     "output_type": "execute_result"
    }
   ],
   "source": [
    "preds['sqerr'] = np.square(preds['rating'] - preds['prediction'])\n",
    "user_rmse = preds.groupby(['algo', 'user'])['sqerr'].mean()\n",
    "user_rmse = user_rmse.to_frame('RMSE').reset_index()\n",
    "user_rmse.head()"
   ]
  },
  {
   "cell_type": "markdown",
   "id": "7d66f063",
   "metadata": {},
   "source": [
    "Numeric summaries of RMSE:"
   ]
  },
  {
   "cell_type": "code",
   "execution_count": 18,
   "id": "9fdd9650",
   "metadata": {},
   "outputs": [
    {
     "data": {
      "text/html": [
       "<div>\n",
       "<style scoped>\n",
       "    .dataframe tbody tr th:only-of-type {\n",
       "        vertical-align: middle;\n",
       "    }\n",
       "\n",
       "    .dataframe tbody tr th {\n",
       "        vertical-align: top;\n",
       "    }\n",
       "\n",
       "    .dataframe thead th {\n",
       "        text-align: right;\n",
       "    }\n",
       "</style>\n",
       "<table border=\"1\" class=\"dataframe\">\n",
       "  <thead>\n",
       "    <tr style=\"text-align: right;\">\n",
       "      <th></th>\n",
       "      <th>count</th>\n",
       "      <th>mean</th>\n",
       "      <th>std</th>\n",
       "      <th>min</th>\n",
       "      <th>25%</th>\n",
       "      <th>50%</th>\n",
       "      <th>75%</th>\n",
       "      <th>max</th>\n",
       "    </tr>\n",
       "    <tr>\n",
       "      <th>algo</th>\n",
       "      <th></th>\n",
       "      <th></th>\n",
       "      <th></th>\n",
       "      <th></th>\n",
       "      <th></th>\n",
       "      <th></th>\n",
       "      <th></th>\n",
       "      <th></th>\n",
       "    </tr>\n",
       "  </thead>\n",
       "  <tbody>\n",
       "    <tr>\n",
       "      <th>BIAS</th>\n",
       "      <td>610.0</td>\n",
       "      <td>0.863622</td>\n",
       "      <td>0.868381</td>\n",
       "      <td>0.019067</td>\n",
       "      <td>0.298599</td>\n",
       "      <td>0.621093</td>\n",
       "      <td>1.134121</td>\n",
       "      <td>10.611165</td>\n",
       "    </tr>\n",
       "    <tr>\n",
       "      <th>E-MF</th>\n",
       "      <td>610.0</td>\n",
       "      <td>0.798236</td>\n",
       "      <td>0.744504</td>\n",
       "      <td>0.008215</td>\n",
       "      <td>0.298879</td>\n",
       "      <td>0.599034</td>\n",
       "      <td>1.015741</td>\n",
       "      <td>5.249447</td>\n",
       "    </tr>\n",
       "  </tbody>\n",
       "</table>\n",
       "</div>"
      ],
      "text/plain": [
       "      count      mean       std       min       25%       50%       75%  \\\n",
       "algo                                                                      \n",
       "BIAS  610.0  0.863622  0.868381  0.019067  0.298599  0.621093  1.134121   \n",
       "E-MF  610.0  0.798236  0.744504  0.008215  0.298879  0.599034  1.015741   \n",
       "\n",
       "            max  \n",
       "algo             \n",
       "BIAS  10.611165  \n",
       "E-MF   5.249447  "
      ]
     },
     "execution_count": 18,
     "metadata": {},
     "output_type": "execute_result"
    }
   ],
   "source": [
    "user_rmse.groupby('algo')['RMSE'].describe()"
   ]
  },
  {
   "cell_type": "markdown",
   "id": "17bfb650",
   "metadata": {},
   "source": [
    "Plot it:"
   ]
  },
  {
   "cell_type": "code",
   "execution_count": 19,
   "id": "d238480a",
   "metadata": {},
   "outputs": [
    {
     "data": {
      "image/png": "[encoded data removed]",
      "text/plain": [
       "<Figure size 500x500 with 1 Axes>"
      ]
     },
     "metadata": {},
     "output_type": "display_data"
    }
   ],
   "source": [
    "sns.catplot(user_rmse, x='algo', y='RMSE', kind='bar')\n",
    "plt.title('Prediction Accuracy')\n",
    "plt.show()"
   ]
  },
  {
   "cell_type": "markdown",
   "id": "36f50704",
   "metadata": {},
   "source": [
    "### Statistical Inference\n",
    "\n",
    "We have these metrics, how do we do inference on them?  The confidence intervals indicate some significance, but we haven't taken into account the **non-independence** of measurements: each RMSE depends on the user across different algorithms!\n",
    "\n",
    "For testing *two* algorithms, we can use a paired t-test:"
   ]
  },
  {
   "cell_type": "code",
   "execution_count": 37,
   "id": "46afe6be",
   "metadata": {},
   "outputs": [
    {
     "data": {
      "text/html": [
       "<div>\n",
       "<style scoped>\n",
       "    .dataframe tbody tr th:only-of-type {\n",
       "        vertical-align: middle;\n",
       "    }\n",
       "\n",
       "    .dataframe tbody tr th {\n",
       "        vertical-align: top;\n",
       "    }\n",
       "\n",
       "    .dataframe thead th {\n",
       "        text-align: right;\n",
       "    }\n",
       "</style>\n",
       "<table border=\"1\" class=\"dataframe\">\n",
       "  <thead>\n",
       "    <tr style=\"text-align: right;\">\n",
       "      <th>algo</th>\n",
       "      <th>BIAS</th>\n",
       "      <th>E-MF</th>\n",
       "    </tr>\n",
       "    <tr>\n",
       "      <th>user</th>\n",
       "      <th></th>\n",
       "      <th></th>\n",
       "    </tr>\n",
       "  </thead>\n",
       "  <tbody>\n",
       "    <tr>\n",
       "      <th>1</th>\n",
       "      <td>0.179533</td>\n",
       "      <td>NaN</td>\n",
       "    </tr>\n",
       "    <tr>\n",
       "      <th>2</th>\n",
       "      <td>1.822353</td>\n",
       "      <td>1.401274</td>\n",
       "    </tr>\n",
       "    <tr>\n",
       "      <th>3</th>\n",
       "      <td>0.394376</td>\n",
       "      <td>NaN</td>\n",
       "    </tr>\n",
       "    <tr>\n",
       "      <th>4</th>\n",
       "      <td>0.299858</td>\n",
       "      <td>NaN</td>\n",
       "    </tr>\n",
       "    <tr>\n",
       "      <th>5</th>\n",
       "      <td>0.677434</td>\n",
       "      <td>NaN</td>\n",
       "    </tr>\n",
       "  </tbody>\n",
       "</table>\n",
       "</div>"
      ],
      "text/plain": [
       "algo      BIAS      E-MF\n",
       "user                    \n",
       "1     0.179533       NaN\n",
       "2     1.822353  1.401274\n",
       "3     0.394376       NaN\n",
       "4     0.299858       NaN\n",
       "5     0.677434       NaN"
      ]
     },
     "execution_count": 37,
     "metadata": {},
     "output_type": "execute_result"
    }
   ],
   "source": [
    "rmse_wide = user_rmse.pivot(index='user', columns='algo', values='RMSE')\n",
    "rmse_wide.head()"
   ]
  },
  {
   "cell_type": "markdown",
   "id": "332bc93e",
   "metadata": {},
   "source": [
    "ttest_rel(rmse_wide['BIAS'], rmse_wide['TorchMF'])"
   ]
  },
  {
   "cell_type": "markdown",
   "id": "585ad80a",
   "metadata": {},
   "source": [
    "Now, we have a very large sample size. We are always very likely to find significance!"
   ]
  },
  {
   "cell_type": "markdown",
   "id": "4d4790da",
   "metadata": {},
   "source": [
    "For testing multiple ones at the same time, we effectively have a **repeated-measures** problem: each algorithm is measured multiple times, once for each algorithm.  We could use repeated-measures ANOVA, but this doesn't work if measures are missing for any elements, which is the case if we don't get recommendations or predictions for a user.\n",
    "\n",
    "The geneal solution is a **mixed-effects model**.\n",
    "\n",
    "- With 2 levels of our experiment variable, it is equivalent to a paired T-test\n",
    "- With complete data (every user-algo pair is observed), it is equivalent to a repeated-measures ANOVA\n",
    "\n",
    "Statsmodels provides this.\n",
    "\n",
    "We need our **exogenous** variables (in statsmodels terms), which are:\n",
    "\n",
    "- all but 1 algorithm (we will use `Bias` as our baseline)\n",
    "\n",
    "We aren't going to bother with a global intercept - we will let the per-user intercept take care of that."
   ]
  },
  {
   "cell_type": "code",
   "execution_count": 39,
   "id": "33107935",
   "metadata": {},
   "outputs": [
    {
     "data": {
      "text/html": [
       "<div>\n",
       "<style scoped>\n",
       "    .dataframe tbody tr th:only-of-type {\n",
       "        vertical-align: middle;\n",
       "    }\n",
       "\n",
       "    .dataframe tbody tr th {\n",
       "        vertical-align: top;\n",
       "    }\n",
       "\n",
       "    .dataframe thead th {\n",
       "        text-align: right;\n",
       "    }\n",
       "</style>\n",
       "<table border=\"1\" class=\"dataframe\">\n",
       "  <thead>\n",
       "    <tr style=\"text-align: right;\">\n",
       "      <th></th>\n",
       "      <th>E-MF</th>\n",
       "    </tr>\n",
       "  </thead>\n",
       "  <tbody>\n",
       "    <tr>\n",
       "      <th>0</th>\n",
       "      <td>0</td>\n",
       "    </tr>\n",
       "    <tr>\n",
       "      <th>1</th>\n",
       "      <td>0</td>\n",
       "    </tr>\n",
       "    <tr>\n",
       "      <th>2</th>\n",
       "      <td>0</td>\n",
       "    </tr>\n",
       "    <tr>\n",
       "      <th>3</th>\n",
       "      <td>0</td>\n",
       "    </tr>\n",
       "    <tr>\n",
       "      <th>4</th>\n",
       "      <td>0</td>\n",
       "    </tr>\n",
       "    <tr>\n",
       "      <th>...</th>\n",
       "      <td>...</td>\n",
       "    </tr>\n",
       "    <tr>\n",
       "      <th>193886</th>\n",
       "      <td>1</td>\n",
       "    </tr>\n",
       "    <tr>\n",
       "      <th>193887</th>\n",
       "      <td>1</td>\n",
       "    </tr>\n",
       "    <tr>\n",
       "      <th>193888</th>\n",
       "      <td>1</td>\n",
       "    </tr>\n",
       "    <tr>\n",
       "      <th>193889</th>\n",
       "      <td>1</td>\n",
       "    </tr>\n",
       "    <tr>\n",
       "      <th>193890</th>\n",
       "      <td>1</td>\n",
       "    </tr>\n",
       "  </tbody>\n",
       "</table>\n",
       "<p>193891 rows × 1 columns</p>\n",
       "</div>"
      ],
      "text/plain": [
       "        E-MF\n",
       "0          0\n",
       "1          0\n",
       "2          0\n",
       "3          0\n",
       "4          0\n",
       "...      ...\n",
       "193886     1\n",
       "193887     1\n",
       "193888     1\n",
       "193889     1\n",
       "193890     1\n",
       "\n",
       "[193891 rows x 1 columns]"
      ]
     },
     "execution_count": 39,
     "metadata": {},
     "output_type": "execute_result"
    }
   ],
   "source": [
    "rmse_algos = pd.get_dummies(user_rmse['algo']).drop(columns=['BIAS'])\n",
    "rmse_algos"
   ]
  },
  {
   "cell_type": "markdown",
   "id": "e66dd617",
   "metadata": {},
   "source": [
    "rmse_lm = sm.MixedLM(np.log(user_rmse['RMSE']), rmse_algos, user_rmse['user'])\n",
    "rmse_fit = rmse_lm.fit()\n",
    "rmse_fit.summary()"
   ]
  },
  {
   "cell_type": "markdown",
   "id": "78f6d0ee",
   "metadata": {},
   "source": [
    "rmse_resid = rmse_fit.resid"
   ]
  },
  {
   "cell_type": "markdown",
   "id": "d4465bb8",
   "metadata": {},
   "source": [
    "sm.qqplot(rmse_resid, line='45', scale=True)"
   ]
  },
  {
   "cell_type": "markdown",
   "id": "33c90ef4",
   "metadata": {},
   "source": [
    "## Recommendation Utility\n",
    "\n",
    "Now let's evaluate the top-*N* recommendations."
   ]
  },
  {
   "cell_type": "code",
   "execution_count": 20,
   "id": "b8ae198f",
   "metadata": {},
   "outputs": [
    {
     "name": "stdout",
     "output_type": "stream",
     "text": [
      "[   INFO] lenskit.topn analyzing 61000 recommendations (3050 truth rows)\n",
      "[   INFO] lenskit.topn using rec key columns ['algo', 'part', 'user']\n",
      "[   INFO] lenskit.topn using truth key columns ['part', 'user']\n",
      "[   INFO] lenskit.topn numbering truth lists\n",
      "[   INFO] lenskit.topn numbering rec lists\n",
      "[   INFO] lenskit.topn collecting metric results\n",
      "[   INFO] lenskit.topn measured 3050 lists in  31ms\n"
     ]
    },
    {
     "data": {
      "text/html": [
       "<div>\n",
       "<style scoped>\n",
       "    .dataframe tbody tr th:only-of-type {\n",
       "        vertical-align: middle;\n",
       "    }\n",
       "\n",
       "    .dataframe tbody tr th {\n",
       "        vertical-align: top;\n",
       "    }\n",
       "\n",
       "    .dataframe thead th {\n",
       "        text-align: right;\n",
       "    }\n",
       "</style>\n",
       "<table border=\"1\" class=\"dataframe\">\n",
       "  <thead>\n",
       "    <tr style=\"text-align: right;\">\n",
       "      <th></th>\n",
       "      <th>algo</th>\n",
       "      <th>part</th>\n",
       "      <th>user</th>\n",
       "      <th>nrecs</th>\n",
       "      <th>hit</th>\n",
       "      <th>recip_rank</th>\n",
       "      <th>ndcg</th>\n",
       "    </tr>\n",
       "  </thead>\n",
       "  <tbody>\n",
       "    <tr>\n",
       "      <th>0</th>\n",
       "      <td>POP</td>\n",
       "      <td>1</td>\n",
       "      <td>3</td>\n",
       "      <td>20</td>\n",
       "      <td>0.0</td>\n",
       "      <td>0.000000</td>\n",
       "      <td>0.000000</td>\n",
       "    </tr>\n",
       "    <tr>\n",
       "      <th>1</th>\n",
       "      <td>POP</td>\n",
       "      <td>1</td>\n",
       "      <td>5</td>\n",
       "      <td>20</td>\n",
       "      <td>1.0</td>\n",
       "      <td>0.166667</td>\n",
       "      <td>0.224513</td>\n",
       "    </tr>\n",
       "    <tr>\n",
       "      <th>2</th>\n",
       "      <td>POP</td>\n",
       "      <td>1</td>\n",
       "      <td>14</td>\n",
       "      <td>20</td>\n",
       "      <td>1.0</td>\n",
       "      <td>0.058824</td>\n",
       "      <td>0.052481</td>\n",
       "    </tr>\n",
       "    <tr>\n",
       "      <th>3</th>\n",
       "      <td>POP</td>\n",
       "      <td>1</td>\n",
       "      <td>17</td>\n",
       "      <td>20</td>\n",
       "      <td>1.0</td>\n",
       "      <td>1.000000</td>\n",
       "      <td>0.541232</td>\n",
       "    </tr>\n",
       "    <tr>\n",
       "      <th>4</th>\n",
       "      <td>POP</td>\n",
       "      <td>1</td>\n",
       "      <td>20</td>\n",
       "      <td>20</td>\n",
       "      <td>0.0</td>\n",
       "      <td>0.000000</td>\n",
       "      <td>0.000000</td>\n",
       "    </tr>\n",
       "    <tr>\n",
       "      <th>...</th>\n",
       "      <td>...</td>\n",
       "      <td>...</td>\n",
       "      <td>...</td>\n",
       "      <td>...</td>\n",
       "      <td>...</td>\n",
       "      <td>...</td>\n",
       "      <td>...</td>\n",
       "    </tr>\n",
       "    <tr>\n",
       "      <th>3045</th>\n",
       "      <td>TorchIMF1</td>\n",
       "      <td>5</td>\n",
       "      <td>598</td>\n",
       "      <td>20</td>\n",
       "      <td>0.0</td>\n",
       "      <td>0.000000</td>\n",
       "      <td>0.000000</td>\n",
       "    </tr>\n",
       "    <tr>\n",
       "      <th>3046</th>\n",
       "      <td>TorchIMF1</td>\n",
       "      <td>5</td>\n",
       "      <td>599</td>\n",
       "      <td>20</td>\n",
       "      <td>1.0</td>\n",
       "      <td>0.200000</td>\n",
       "      <td>0.147382</td>\n",
       "    </tr>\n",
       "    <tr>\n",
       "      <th>3047</th>\n",
       "      <td>TorchIMF1</td>\n",
       "      <td>5</td>\n",
       "      <td>602</td>\n",
       "      <td>20</td>\n",
       "      <td>0.0</td>\n",
       "      <td>0.000000</td>\n",
       "      <td>0.000000</td>\n",
       "    </tr>\n",
       "    <tr>\n",
       "      <th>3048</th>\n",
       "      <td>TorchIMF1</td>\n",
       "      <td>5</td>\n",
       "      <td>605</td>\n",
       "      <td>20</td>\n",
       "      <td>0.0</td>\n",
       "      <td>0.000000</td>\n",
       "      <td>0.000000</td>\n",
       "    </tr>\n",
       "    <tr>\n",
       "      <th>3049</th>\n",
       "      <td>TorchIMF1</td>\n",
       "      <td>5</td>\n",
       "      <td>607</td>\n",
       "      <td>20</td>\n",
       "      <td>1.0</td>\n",
       "      <td>0.333333</td>\n",
       "      <td>0.230522</td>\n",
       "    </tr>\n",
       "  </tbody>\n",
       "</table>\n",
       "<p>3050 rows × 7 columns</p>\n",
       "</div>"
      ],
      "text/plain": [
       "           algo  part  user  nrecs  hit  recip_rank      ndcg\n",
       "0           POP     1     3     20  0.0    0.000000  0.000000\n",
       "1           POP     1     5     20  1.0    0.166667  0.224513\n",
       "2           POP     1    14     20  1.0    0.058824  0.052481\n",
       "3           POP     1    17     20  1.0    1.000000  0.541232\n",
       "4           POP     1    20     20  0.0    0.000000  0.000000\n",
       "...         ...   ...   ...    ...  ...         ...       ...\n",
       "3045  TorchIMF1     5   598     20  0.0    0.000000  0.000000\n",
       "3046  TorchIMF1     5   599     20  1.0    0.200000  0.147382\n",
       "3047  TorchIMF1     5   602     20  0.0    0.000000  0.000000\n",
       "3048  TorchIMF1     5   605     20  0.0    0.000000  0.000000\n",
       "3049  TorchIMF1     5   607     20  1.0    0.333333  0.230522\n",
       "\n",
       "[3050 rows x 7 columns]"
      ]
     },
     "execution_count": 20,
     "metadata": {},
     "output_type": "execute_result"
    }
   ],
   "source": [
    "rla = topn.RecListAnalysis()\n",
    "rla.add_metric(topn.hit, k=20)\n",
    "rla.add_metric(topn.recip_rank, k=20)\n",
    "rla.add_metric(topn.ndcg, k=20)\n",
    "user_scores = rla.compute(recs, test_ratings)\n",
    "user_scores.reset_index(inplace=True)\n",
    "user_scores"
   ]
  },
  {
   "cell_type": "code",
   "execution_count": 21,
   "id": "bec37270",
   "metadata": {
    "scrolled": false
   },
   "outputs": [
    {
     "data": {
      "text/html": [
       "<div>\n",
       "<style scoped>\n",
       "    .dataframe tbody tr th:only-of-type {\n",
       "        vertical-align: middle;\n",
       "    }\n",
       "\n",
       "    .dataframe tbody tr th {\n",
       "        vertical-align: top;\n",
       "    }\n",
       "\n",
       "    .dataframe thead th {\n",
       "        text-align: right;\n",
       "    }\n",
       "</style>\n",
       "<table border=\"1\" class=\"dataframe\">\n",
       "  <thead>\n",
       "    <tr style=\"text-align: right;\">\n",
       "      <th></th>\n",
       "      <th>algo</th>\n",
       "      <th>user</th>\n",
       "      <th>Metric</th>\n",
       "      <th>value</th>\n",
       "    </tr>\n",
       "  </thead>\n",
       "  <tbody>\n",
       "    <tr>\n",
       "      <th>0</th>\n",
       "      <td>POP</td>\n",
       "      <td>3</td>\n",
       "      <td>recip_rank</td>\n",
       "      <td>0.000000</td>\n",
       "    </tr>\n",
       "    <tr>\n",
       "      <th>1</th>\n",
       "      <td>POP</td>\n",
       "      <td>5</td>\n",
       "      <td>recip_rank</td>\n",
       "      <td>0.166667</td>\n",
       "    </tr>\n",
       "    <tr>\n",
       "      <th>2</th>\n",
       "      <td>POP</td>\n",
       "      <td>14</td>\n",
       "      <td>recip_rank</td>\n",
       "      <td>0.058824</td>\n",
       "    </tr>\n",
       "    <tr>\n",
       "      <th>3</th>\n",
       "      <td>POP</td>\n",
       "      <td>17</td>\n",
       "      <td>recip_rank</td>\n",
       "      <td>1.000000</td>\n",
       "    </tr>\n",
       "    <tr>\n",
       "      <th>4</th>\n",
       "      <td>POP</td>\n",
       "      <td>20</td>\n",
       "      <td>recip_rank</td>\n",
       "      <td>0.000000</td>\n",
       "    </tr>\n",
       "    <tr>\n",
       "      <th>...</th>\n",
       "      <td>...</td>\n",
       "      <td>...</td>\n",
       "      <td>...</td>\n",
       "      <td>...</td>\n",
       "    </tr>\n",
       "    <tr>\n",
       "      <th>9145</th>\n",
       "      <td>TorchIMF1</td>\n",
       "      <td>598</td>\n",
       "      <td>ndcg</td>\n",
       "      <td>0.000000</td>\n",
       "    </tr>\n",
       "    <tr>\n",
       "      <th>9146</th>\n",
       "      <td>TorchIMF1</td>\n",
       "      <td>599</td>\n",
       "      <td>ndcg</td>\n",
       "      <td>0.147382</td>\n",
       "    </tr>\n",
       "    <tr>\n",
       "      <th>9147</th>\n",
       "      <td>TorchIMF1</td>\n",
       "      <td>602</td>\n",
       "      <td>ndcg</td>\n",
       "      <td>0.000000</td>\n",
       "    </tr>\n",
       "    <tr>\n",
       "      <th>9148</th>\n",
       "      <td>TorchIMF1</td>\n",
       "      <td>605</td>\n",
       "      <td>ndcg</td>\n",
       "      <td>0.000000</td>\n",
       "    </tr>\n",
       "    <tr>\n",
       "      <th>9149</th>\n",
       "      <td>TorchIMF1</td>\n",
       "      <td>607</td>\n",
       "      <td>ndcg</td>\n",
       "      <td>0.230522</td>\n",
       "    </tr>\n",
       "  </tbody>\n",
       "</table>\n",
       "<p>9150 rows × 4 columns</p>\n",
       "</div>"
      ],
      "text/plain": [
       "           algo  user      Metric     value\n",
       "0           POP     3  recip_rank  0.000000\n",
       "1           POP     5  recip_rank  0.166667\n",
       "2           POP    14  recip_rank  0.058824\n",
       "3           POP    17  recip_rank  1.000000\n",
       "4           POP    20  recip_rank  0.000000\n",
       "...         ...   ...         ...       ...\n",
       "9145  TorchIMF1   598        ndcg  0.000000\n",
       "9146  TorchIMF1   599        ndcg  0.147382\n",
       "9147  TorchIMF1   602        ndcg  0.000000\n",
       "9148  TorchIMF1   605        ndcg  0.000000\n",
       "9149  TorchIMF1   607        ndcg  0.230522\n",
       "\n",
       "[9150 rows x 4 columns]"
      ]
     },
     "execution_count": 21,
     "metadata": {},
     "output_type": "execute_result"
    }
   ],
   "source": [
    "us_tall = user_scores.melt(id_vars=['algo', 'user'], value_vars=['recip_rank', 'hit', 'ndcg'], var_name='Metric')\n",
    "us_tall"
   ]
  },
  {
   "cell_type": "code",
   "execution_count": 22,
   "id": "115a5aac",
   "metadata": {},
   "outputs": [
    {
     "data": {
      "image/png": "[encoded data removed]",
      "text/plain": [
       "<Figure size 1500x500 with 3 Axes>"
      ]
     },
     "metadata": {},
     "output_type": "display_data"
    }
   ],
   "source": [
    "g = sns.catplot(us_tall, x='algo', y='value', col='Metric', kind='bar', sharey=False)\n",
    "g.set_titles('{col_name}')\n",
    "g.set_xlabels(None)\n",
    "plt.show()"
   ]
  },
  {
   "cell_type": "code",
   "execution_count": null,
   "id": "6aff72f7",
   "metadata": {},
   "outputs": [],
   "source": []
  }
 ],
 "metadata": {
  "kernelspec": {
   "display_name": "Python 3 (ipykernel)",
   "language": "python",
   "name": "python3"
  },
  "language_info": {
   "codemirror_mode": {
    "name": "ipython",
    "version": 3
   },
   "file_extension": ".py",
   "mimetype": "text/x-python",
   "name": "python",
   "nbconvert_exporter": "python",
   "pygments_lexer": "ipython3",
   "version": "3.10.9"
  }
 },
 "nbformat": 4,
 "nbformat_minor": 5
}
