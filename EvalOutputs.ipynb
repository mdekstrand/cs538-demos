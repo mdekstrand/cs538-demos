{
 "cells": [
  {
   "cell_type": "markdown",
   "id": "da4d453d",
   "metadata": {},
   "source": [
    "# Evaluate Outputs\n",
    "\n",
    "This notebook evaluates outputs of the recommendation model(s)."
   ]
  },
  {
   "cell_type": "markdown",
   "id": "cd4f5cfc",
   "metadata": {},
   "source": [
    "## Setup\n",
    "\n",
    "What data set?"
   ]
  },
  {
   "cell_type": "code",
   "execution_count": 1,
   "id": "310022d6",
   "metadata": {
    "tags": [
     "parameters"
    ]
   },
   "outputs": [],
   "source": [
    "data = 'ml-20m'"
   ]
  },
  {
   "cell_type": "markdown",
   "id": "eac5630d",
   "metadata": {},
   "source": [
    "Let's import some things:"
   ]
  },
  {
   "cell_type": "code",
   "execution_count": 2,
   "id": "028070f9",
   "metadata": {},
   "outputs": [],
   "source": [
    "from pathlib import Path\n",
    "import re\n",
    "import logging"
   ]
  },
  {
   "cell_type": "code",
   "execution_count": 3,
   "id": "8a6ef53d",
   "metadata": {},
   "outputs": [],
   "source": [
    "import numpy as np\n",
    "import pandas as pd\n",
    "import seaborn as sns\n",
    "import matplotlib.pyplot as plt"
   ]
  },
  {
   "cell_type": "code",
   "execution_count": 4,
   "id": "b0a0cba3",
   "metadata": {},
   "outputs": [],
   "source": [
    "from scipy.stats import ttest_rel\n",
    "import statsmodels.api as sm"
   ]
  },
  {
   "cell_type": "code",
   "execution_count": 5,
   "id": "225859f3",
   "metadata": {},
   "outputs": [],
   "source": [
    "from lenskit import topn\n",
    "from lenskit.datasets import MovieLens\n",
    "from lenskit.util.log import log_to_notebook"
   ]
  },
  {
   "cell_type": "code",
   "execution_count": 6,
   "id": "1cb4000a",
   "metadata": {},
   "outputs": [
    {
     "name": "stdout",
     "output_type": "stream",
     "text": [
      "[   INFO] lenskit.util.log notebook logging configured\n"
     ]
    }
   ],
   "source": [
    "_log = logging.getLogger('eval-notebook')\n",
    "log_to_notebook()"
   ]
  },
  {
   "cell_type": "code",
   "execution_count": 7,
   "id": "422a2bbc",
   "metadata": {},
   "outputs": [],
   "source": [
    "from tqdm.notebook import tqdm\n",
    "tqdm.pandas()"
   ]
  },
  {
   "cell_type": "markdown",
   "id": "f28e672e",
   "metadata": {},
   "source": [
    "## Load Data"
   ]
  },
  {
   "cell_type": "markdown",
   "id": "6f37d6c6",
   "metadata": {},
   "source": [
    "### Test Data\n",
    "\n",
    "We're going to start by loading the test data:"
   ]
  },
  {
   "cell_type": "code",
   "execution_count": 8,
   "id": "d6736199",
   "metadata": {},
   "outputs": [],
   "source": [
    "ml = MovieLens(f'data/{data}')\n",
    "split_dir = Path(f'data/{data}-split')"
   ]
  },
  {
   "cell_type": "code",
   "execution_count": 9,
   "id": "19d9c8f7",
   "metadata": {},
   "outputs": [
    {
     "data": {
      "text/html": [
       "<div>\n",
       "<style scoped>\n",
       "    .dataframe tbody tr th:only-of-type {\n",
       "        vertical-align: middle;\n",
       "    }\n",
       "\n",
       "    .dataframe tbody tr th {\n",
       "        vertical-align: top;\n",
       "    }\n",
       "\n",
       "    .dataframe thead th {\n",
       "        text-align: right;\n",
       "    }\n",
       "</style>\n",
       "<table border=\"1\" class=\"dataframe\">\n",
       "  <thead>\n",
       "    <tr style=\"text-align: right;\">\n",
       "      <th></th>\n",
       "      <th>title</th>\n",
       "      <th>genres</th>\n",
       "    </tr>\n",
       "    <tr>\n",
       "      <th>item</th>\n",
       "      <th></th>\n",
       "      <th></th>\n",
       "    </tr>\n",
       "  </thead>\n",
       "  <tbody>\n",
       "    <tr>\n",
       "      <th>1</th>\n",
       "      <td>Toy Story (1995)</td>\n",
       "      <td>Adventure|Animation|Children|Comedy|Fantasy</td>\n",
       "    </tr>\n",
       "    <tr>\n",
       "      <th>2</th>\n",
       "      <td>Jumanji (1995)</td>\n",
       "      <td>Adventure|Children|Fantasy</td>\n",
       "    </tr>\n",
       "    <tr>\n",
       "      <th>3</th>\n",
       "      <td>Grumpier Old Men (1995)</td>\n",
       "      <td>Comedy|Romance</td>\n",
       "    </tr>\n",
       "    <tr>\n",
       "      <th>4</th>\n",
       "      <td>Waiting to Exhale (1995)</td>\n",
       "      <td>Comedy|Drama|Romance</td>\n",
       "    </tr>\n",
       "    <tr>\n",
       "      <th>5</th>\n",
       "      <td>Father of the Bride Part II (1995)</td>\n",
       "      <td>Comedy</td>\n",
       "    </tr>\n",
       "  </tbody>\n",
       "</table>\n",
       "</div>"
      ],
      "text/plain": [
       "                                   title  \\\n",
       "item                                       \n",
       "1                       Toy Story (1995)   \n",
       "2                         Jumanji (1995)   \n",
       "3                Grumpier Old Men (1995)   \n",
       "4               Waiting to Exhale (1995)   \n",
       "5     Father of the Bride Part II (1995)   \n",
       "\n",
       "                                           genres  \n",
       "item                                               \n",
       "1     Adventure|Animation|Children|Comedy|Fantasy  \n",
       "2                      Adventure|Children|Fantasy  \n",
       "3                                  Comedy|Romance  \n",
       "4                            Comedy|Drama|Romance  \n",
       "5                                          Comedy  "
      ]
     },
     "execution_count": 9,
     "metadata": {},
     "output_type": "execute_result"
    }
   ],
   "source": [
    "movies = ml.movies\n",
    "movies.head()"
   ]
  },
  {
   "cell_type": "markdown",
   "id": "a28f2f1f",
   "metadata": {},
   "source": [
    "Scan for and load test data:"
   ]
  },
  {
   "cell_type": "code",
   "execution_count": 10,
   "id": "1aa335d8",
   "metadata": {},
   "outputs": [],
   "source": [
    "test_re = re.compile(r'^part(?P<part>\\d+)-test')\n",
    "test_frames = {}\n",
    "for file in split_dir.glob('*-test.parquet'):\n",
    "    match = test_re.match(file.name)\n",
    "    part = int(match.group('part'))\n",
    "    test_frames[part] = pd.read_parquet(file)"
   ]
  },
  {
   "cell_type": "code",
   "execution_count": 11,
   "id": "bd934eb2",
   "metadata": {},
   "outputs": [
    {
     "data": {
      "text/html": [
       "<div>\n",
       "<style scoped>\n",
       "    .dataframe tbody tr th:only-of-type {\n",
       "        vertical-align: middle;\n",
       "    }\n",
       "\n",
       "    .dataframe tbody tr th {\n",
       "        vertical-align: top;\n",
       "    }\n",
       "\n",
       "    .dataframe thead th {\n",
       "        text-align: right;\n",
       "    }\n",
       "</style>\n",
       "<table border=\"1\" class=\"dataframe\">\n",
       "  <thead>\n",
       "    <tr style=\"text-align: right;\">\n",
       "      <th></th>\n",
       "      <th>part</th>\n",
       "      <th>user</th>\n",
       "      <th>item</th>\n",
       "      <th>rating</th>\n",
       "      <th>timestamp</th>\n",
       "    </tr>\n",
       "  </thead>\n",
       "  <tbody>\n",
       "    <tr>\n",
       "      <th>0</th>\n",
       "      <td>1</td>\n",
       "      <td>2</td>\n",
       "      <td>2291</td>\n",
       "      <td>2.0</td>\n",
       "      <td>974820748</td>\n",
       "    </tr>\n",
       "    <tr>\n",
       "      <th>1</th>\n",
       "      <td>1</td>\n",
       "      <td>2</td>\n",
       "      <td>3753</td>\n",
       "      <td>4.0</td>\n",
       "      <td>974820691</td>\n",
       "    </tr>\n",
       "    <tr>\n",
       "      <th>2</th>\n",
       "      <td>1</td>\n",
       "      <td>2</td>\n",
       "      <td>3173</td>\n",
       "      <td>4.0</td>\n",
       "      <td>974820869</td>\n",
       "    </tr>\n",
       "    <tr>\n",
       "      <th>3</th>\n",
       "      <td>1</td>\n",
       "      <td>2</td>\n",
       "      <td>2858</td>\n",
       "      <td>3.0</td>\n",
       "      <td>974820659</td>\n",
       "    </tr>\n",
       "    <tr>\n",
       "      <th>4</th>\n",
       "      <td>1</td>\n",
       "      <td>2</td>\n",
       "      <td>1214</td>\n",
       "      <td>5.0</td>\n",
       "      <td>974821014</td>\n",
       "    </tr>\n",
       "  </tbody>\n",
       "</table>\n",
       "</div>"
      ],
      "text/plain": [
       "   part  user  item  rating  timestamp\n",
       "0     1     2  2291     2.0  974820748\n",
       "1     1     2  3753     4.0  974820691\n",
       "2     1     2  3173     4.0  974820869\n",
       "3     1     2  2858     3.0  974820659\n",
       "4     1     2  1214     5.0  974821014"
      ]
     },
     "execution_count": 11,
     "metadata": {},
     "output_type": "execute_result"
    }
   ],
   "source": [
    "test_ratings = pd.concat(test_frames, names=['part'])\n",
    "test_ratings = test_ratings.reset_index('part').reset_index(drop=True)\n",
    "test_ratings.head()"
   ]
  },
  {
   "cell_type": "markdown",
   "id": "f28c6604",
   "metadata": {},
   "source": [
    "### Outputs\n",
    "\n",
    "Now let's load prediction & recommendation data.\n",
    "\n",
    "A regular expression will parse file names:"
   ]
  },
  {
   "cell_type": "code",
   "execution_count": 12,
   "id": "c03f983c",
   "metadata": {},
   "outputs": [],
   "source": [
    "adn_re = re.compile(r'^(?P<data>.*?)-(?P<algo>[A-Z].*)')\n",
    "fn_re = re.compile(r'part(?P<part>\\d+)-(?:recs|preds)')"
   ]
  },
  {
   "cell_type": "markdown",
   "id": "2ee90865",
   "metadata": {},
   "source": [
    "Load predictions:"
   ]
  },
  {
   "cell_type": "code",
   "execution_count": 13,
   "id": "f8db3b32",
   "metadata": {},
   "outputs": [
    {
     "name": "stdout",
     "output_type": "stream",
     "text": [
      "[   INFO] eval-notebook loading preds/ml-20m-BIAS/part3-preds.parquet\n",
      "[   INFO] eval-notebook loading preds/ml-20m-BIAS/part2-preds.parquet\n",
      "[   INFO] eval-notebook loading preds/ml-20m-BIAS/part5-preds.parquet\n",
      "[   INFO] eval-notebook loading preds/ml-20m-BIAS/part1-preds.parquet\n",
      "[   INFO] eval-notebook loading preds/ml-20m-BIAS/part4-preds.parquet\n",
      "[   INFO] eval-notebook loading preds/ml-20m-E-MF/part1-preds.parquet\n",
      "[   INFO] eval-notebook loading preds/ml-20m-E-MF/part4-preds.parquet\n",
      "[   INFO] eval-notebook loading preds/ml-20m-E-MF/part2-preds.parquet\n",
      "[   INFO] eval-notebook loading preds/ml-20m-E-MF/part3-preds.parquet\n",
      "[   INFO] eval-notebook loading preds/ml-20m-E-MF/part5-preds.parquet\n",
      "[   INFO] eval-notebook loading preds/ml-20m-TorchMF/part5-preds.parquet\n",
      "[   INFO] eval-notebook loading preds/ml-20m-TorchMF/part2-preds.parquet\n",
      "[   INFO] eval-notebook loading preds/ml-20m-TorchMF/part3-preds.parquet\n",
      "[   INFO] eval-notebook loading preds/ml-20m-TorchMF/part1-preds.parquet\n",
      "[   INFO] eval-notebook loading preds/ml-20m-TorchMF/part4-preds.parquet\n"
     ]
    }
   ],
   "source": [
    "pred_frames = {}\n",
    "for file in Path('preds').glob(f'{data}-*/*-preds.parquet'):\n",
    "    _log.info('loading %s', file)\n",
    "    dmatch = adn_re.match(file.parent.name)\n",
    "    algo = dmatch.group('algo')\n",
    "    fmatch = fn_re.match(file.name)\n",
    "    part = int(fmatch.group('part'))\n",
    "    df = pd.read_parquet(file)\n",
    "    pred_frames[(algo, part)] = df"
   ]
  },
  {
   "cell_type": "code",
   "execution_count": 14,
   "id": "baa751de",
   "metadata": {},
   "outputs": [
    {
     "data": {
      "text/html": [
       "<div>\n",
       "<style scoped>\n",
       "    .dataframe tbody tr th:only-of-type {\n",
       "        vertical-align: middle;\n",
       "    }\n",
       "\n",
       "    .dataframe tbody tr th {\n",
       "        vertical-align: top;\n",
       "    }\n",
       "\n",
       "    .dataframe thead th {\n",
       "        text-align: right;\n",
       "    }\n",
       "</style>\n",
       "<table border=\"1\" class=\"dataframe\">\n",
       "  <thead>\n",
       "    <tr style=\"text-align: right;\">\n",
       "      <th></th>\n",
       "      <th>algo</th>\n",
       "      <th>part</th>\n",
       "      <th>user</th>\n",
       "      <th>item</th>\n",
       "      <th>rating</th>\n",
       "      <th>timestamp</th>\n",
       "      <th>prediction</th>\n",
       "    </tr>\n",
       "  </thead>\n",
       "  <tbody>\n",
       "    <tr>\n",
       "      <th>0</th>\n",
       "      <td>BIAS</td>\n",
       "      <td>3</td>\n",
       "      <td>3</td>\n",
       "      <td>2391</td>\n",
       "      <td>5.0</td>\n",
       "      <td>944918215</td>\n",
       "      <td>4.320703</td>\n",
       "    </tr>\n",
       "    <tr>\n",
       "      <th>1</th>\n",
       "      <td>BIAS</td>\n",
       "      <td>3</td>\n",
       "      <td>3</td>\n",
       "      <td>1079</td>\n",
       "      <td>4.0</td>\n",
       "      <td>944917797</td>\n",
       "      <td>4.449816</td>\n",
       "    </tr>\n",
       "    <tr>\n",
       "      <th>2</th>\n",
       "      <td>BIAS</td>\n",
       "      <td>3</td>\n",
       "      <td>3</td>\n",
       "      <td>1762</td>\n",
       "      <td>4.0</td>\n",
       "      <td>945176072</td>\n",
       "      <td>3.349052</td>\n",
       "    </tr>\n",
       "    <tr>\n",
       "      <th>3</th>\n",
       "      <td>BIAS</td>\n",
       "      <td>3</td>\n",
       "      <td>3</td>\n",
       "      <td>2012</td>\n",
       "      <td>3.0</td>\n",
       "      <td>945176021</td>\n",
       "      <td>3.849842</td>\n",
       "    </tr>\n",
       "    <tr>\n",
       "      <th>4</th>\n",
       "      <td>BIAS</td>\n",
       "      <td>3</td>\n",
       "      <td>3</td>\n",
       "      <td>1278</td>\n",
       "      <td>5.0</td>\n",
       "      <td>944917980</td>\n",
       "      <td>4.597338</td>\n",
       "    </tr>\n",
       "  </tbody>\n",
       "</table>\n",
       "</div>"
      ],
      "text/plain": [
       "   algo  part  user  item  rating  timestamp  prediction\n",
       "0  BIAS     3     3  2391     5.0  944918215    4.320703\n",
       "1  BIAS     3     3  1079     4.0  944917797    4.449816\n",
       "2  BIAS     3     3  1762     4.0  945176072    3.349052\n",
       "3  BIAS     3     3  2012     3.0  945176021    3.849842\n",
       "4  BIAS     3     3  1278     5.0  944917980    4.597338"
      ]
     },
     "execution_count": 14,
     "metadata": {},
     "output_type": "execute_result"
    }
   ],
   "source": [
    "preds = pd.concat(pred_frames, names=['algo', 'part'])\n",
    "preds = preds.reset_index(['algo', 'part']).reset_index(drop=True)\n",
    "preds.head()"
   ]
  },
  {
   "cell_type": "markdown",
   "id": "f43c9bdc",
   "metadata": {},
   "source": [
    "And now the recommendations:"
   ]
  },
  {
   "cell_type": "code",
   "execution_count": 15,
   "id": "8cae4e1e",
   "metadata": {},
   "outputs": [
    {
     "name": "stdout",
     "output_type": "stream",
     "text": [
      "[   INFO] eval-notebook loading recs/ml-20m-POP/part1-recs.parquet\n",
      "[   INFO] eval-notebook loading recs/ml-20m-POP/part3-recs.parquet\n",
      "[   INFO] eval-notebook loading recs/ml-20m-POP/part2-recs.parquet\n",
      "[   INFO] eval-notebook loading recs/ml-20m-POP/part5-recs.parquet\n",
      "[   INFO] eval-notebook loading recs/ml-20m-POP/part4-recs.parquet\n",
      "[   INFO] eval-notebook loading recs/ml-20m-BIAS/part4-recs.parquet\n",
      "[   INFO] eval-notebook loading recs/ml-20m-BIAS/part1-recs.parquet\n",
      "[   INFO] eval-notebook loading recs/ml-20m-BIAS/part2-recs.parquet\n",
      "[   INFO] eval-notebook loading recs/ml-20m-BIAS/part5-recs.parquet\n",
      "[   INFO] eval-notebook loading recs/ml-20m-BIAS/part3-recs.parquet\n",
      "[   INFO] eval-notebook loading recs/ml-20m-E-MF/part1-recs.parquet\n",
      "[   INFO] eval-notebook loading recs/ml-20m-E-MF/part4-recs.parquet\n",
      "[   INFO] eval-notebook loading recs/ml-20m-E-MF/part3-recs.parquet\n",
      "[   INFO] eval-notebook loading recs/ml-20m-E-MF/part5-recs.parquet\n",
      "[   INFO] eval-notebook loading recs/ml-20m-E-MF/part2-recs.parquet\n",
      "[   INFO] eval-notebook loading recs/ml-20m-I-MF/part4-recs.parquet\n",
      "[   INFO] eval-notebook loading recs/ml-20m-I-MF/part2-recs.parquet\n",
      "[   INFO] eval-notebook loading recs/ml-20m-I-MF/part3-recs.parquet\n",
      "[   INFO] eval-notebook loading recs/ml-20m-I-MF/part1-recs.parquet\n",
      "[   INFO] eval-notebook loading recs/ml-20m-I-MF/part5-recs.parquet\n",
      "[   INFO] eval-notebook loading recs/ml-20m-LIFT/part2-recs.parquet\n",
      "[   INFO] eval-notebook loading recs/ml-20m-LIFT/part3-recs.parquet\n",
      "[   INFO] eval-notebook loading recs/ml-20m-LIFT/part1-recs.parquet\n",
      "[   INFO] eval-notebook loading recs/ml-20m-LIFT/part5-recs.parquet\n",
      "[   INFO] eval-notebook loading recs/ml-20m-LIFT/part4-recs.parquet\n",
      "[   INFO] eval-notebook loading recs/ml-20m-TorchMF/part2-recs.parquet\n",
      "[   INFO] eval-notebook loading recs/ml-20m-TorchMF/part3-recs.parquet\n",
      "[   INFO] eval-notebook loading recs/ml-20m-TorchMF/part1-recs.parquet\n",
      "[   INFO] eval-notebook loading recs/ml-20m-TorchMF/part5-recs.parquet\n",
      "[   INFO] eval-notebook loading recs/ml-20m-TorchMF/part4-recs.parquet\n",
      "[   INFO] eval-notebook loading recs/ml-20m-TorchIMF1/part4-recs.parquet\n",
      "[   INFO] eval-notebook loading recs/ml-20m-TorchIMF1/part5-recs.parquet\n",
      "[   INFO] eval-notebook loading recs/ml-20m-TorchIMF1/part2-recs.parquet\n",
      "[   INFO] eval-notebook loading recs/ml-20m-TorchIMF1/part1-recs.parquet\n",
      "[   INFO] eval-notebook loading recs/ml-20m-TorchIMF1/part3-recs.parquet\n",
      "[   INFO] eval-notebook loading recs/ml-20m-SampLMF/part1-recs.parquet\n"
     ]
    }
   ],
   "source": [
    "rec_frames = {}\n",
    "for file in Path('recs').glob(f'{data}-*/*-recs.parquet'):\n",
    "    _log.info('loading %s', file)\n",
    "    dmatch = adn_re.match(file.parent.name)\n",
    "    algo = dmatch.group('algo')\n",
    "    fmatch = fn_re.match(file.name)\n",
    "    part = int(fmatch.group('part'))\n",
    "    df = pd.read_parquet(file)\n",
    "    rec_frames[(algo, part)] = df"
   ]
  },
  {
   "cell_type": "code",
   "execution_count": 16,
   "id": "690bd4ca",
   "metadata": {},
   "outputs": [
    {
     "data": {
      "text/html": [
       "<div>\n",
       "<style scoped>\n",
       "    .dataframe tbody tr th:only-of-type {\n",
       "        vertical-align: middle;\n",
       "    }\n",
       "\n",
       "    .dataframe tbody tr th {\n",
       "        vertical-align: top;\n",
       "    }\n",
       "\n",
       "    .dataframe thead th {\n",
       "        text-align: right;\n",
       "    }\n",
       "</style>\n",
       "<table border=\"1\" class=\"dataframe\">\n",
       "  <thead>\n",
       "    <tr style=\"text-align: right;\">\n",
       "      <th></th>\n",
       "      <th>algo</th>\n",
       "      <th>part</th>\n",
       "      <th>item</th>\n",
       "      <th>score</th>\n",
       "      <th>user</th>\n",
       "      <th>rank</th>\n",
       "    </tr>\n",
       "  </thead>\n",
       "  <tbody>\n",
       "    <tr>\n",
       "      <th>0</th>\n",
       "      <td>POP</td>\n",
       "      <td>1</td>\n",
       "      <td>296</td>\n",
       "      <td>66465.0</td>\n",
       "      <td>2</td>\n",
       "      <td>1</td>\n",
       "    </tr>\n",
       "    <tr>\n",
       "      <th>1</th>\n",
       "      <td>POP</td>\n",
       "      <td>1</td>\n",
       "      <td>356</td>\n",
       "      <td>65402.0</td>\n",
       "      <td>2</td>\n",
       "      <td>2</td>\n",
       "    </tr>\n",
       "    <tr>\n",
       "      <th>2</th>\n",
       "      <td>POP</td>\n",
       "      <td>1</td>\n",
       "      <td>318</td>\n",
       "      <td>62527.0</td>\n",
       "      <td>2</td>\n",
       "      <td>3</td>\n",
       "    </tr>\n",
       "    <tr>\n",
       "      <th>3</th>\n",
       "      <td>POP</td>\n",
       "      <td>1</td>\n",
       "      <td>593</td>\n",
       "      <td>62493.0</td>\n",
       "      <td>2</td>\n",
       "      <td>4</td>\n",
       "    </tr>\n",
       "    <tr>\n",
       "      <th>4</th>\n",
       "      <td>POP</td>\n",
       "      <td>1</td>\n",
       "      <td>2571</td>\n",
       "      <td>50852.0</td>\n",
       "      <td>2</td>\n",
       "      <td>5</td>\n",
       "    </tr>\n",
       "  </tbody>\n",
       "</table>\n",
       "</div>"
      ],
      "text/plain": [
       "  algo  part  item    score  user  rank\n",
       "0  POP     1   296  66465.0     2     1\n",
       "1  POP     1   356  65402.0     2     2\n",
       "2  POP     1   318  62527.0     2     3\n",
       "3  POP     1   593  62493.0     2     4\n",
       "4  POP     1  2571  50852.0     2     5"
      ]
     },
     "execution_count": 16,
     "metadata": {},
     "output_type": "execute_result"
    }
   ],
   "source": [
    "recs = pd.concat(rec_frames, names=['algo', 'part'])\n",
    "recs = recs.reset_index(['algo', 'part']).reset_index(drop=True)\n",
    "recs.head()"
   ]
  },
  {
   "cell_type": "markdown",
   "id": "b00a7f18",
   "metadata": {},
   "source": [
    "## Prediction Accuracy\n",
    "\n",
    "Now, let's compute the per-user RMSE of each algorithm."
   ]
  },
  {
   "cell_type": "code",
   "execution_count": 17,
   "id": "58b90761",
   "metadata": {},
   "outputs": [
    {
     "data": {
      "text/html": [
       "<div>\n",
       "<style scoped>\n",
       "    .dataframe tbody tr th:only-of-type {\n",
       "        vertical-align: middle;\n",
       "    }\n",
       "\n",
       "    .dataframe tbody tr th {\n",
       "        vertical-align: top;\n",
       "    }\n",
       "\n",
       "    .dataframe thead th {\n",
       "        text-align: right;\n",
       "    }\n",
       "</style>\n",
       "<table border=\"1\" class=\"dataframe\">\n",
       "  <thead>\n",
       "    <tr style=\"text-align: right;\">\n",
       "      <th></th>\n",
       "      <th>algo</th>\n",
       "      <th>user</th>\n",
       "      <th>RMSE</th>\n",
       "    </tr>\n",
       "  </thead>\n",
       "  <tbody>\n",
       "    <tr>\n",
       "      <th>0</th>\n",
       "      <td>BIAS</td>\n",
       "      <td>1</td>\n",
       "      <td>0.179533</td>\n",
       "    </tr>\n",
       "    <tr>\n",
       "      <th>1</th>\n",
       "      <td>BIAS</td>\n",
       "      <td>2</td>\n",
       "      <td>1.822353</td>\n",
       "    </tr>\n",
       "    <tr>\n",
       "      <th>2</th>\n",
       "      <td>BIAS</td>\n",
       "      <td>3</td>\n",
       "      <td>0.394376</td>\n",
       "    </tr>\n",
       "    <tr>\n",
       "      <th>3</th>\n",
       "      <td>BIAS</td>\n",
       "      <td>4</td>\n",
       "      <td>0.299858</td>\n",
       "    </tr>\n",
       "    <tr>\n",
       "      <th>4</th>\n",
       "      <td>BIAS</td>\n",
       "      <td>5</td>\n",
       "      <td>0.677434</td>\n",
       "    </tr>\n",
       "  </tbody>\n",
       "</table>\n",
       "</div>"
      ],
      "text/plain": [
       "   algo  user      RMSE\n",
       "0  BIAS     1  0.179533\n",
       "1  BIAS     2  1.822353\n",
       "2  BIAS     3  0.394376\n",
       "3  BIAS     4  0.299858\n",
       "4  BIAS     5  0.677434"
      ]
     },
     "execution_count": 17,
     "metadata": {},
     "output_type": "execute_result"
    }
   ],
   "source": [
    "preds['sqerr'] = np.square(preds['rating'] - preds['prediction'])\n",
    "user_rmse = preds.groupby(['algo', 'user'])['sqerr'].mean()\n",
    "user_rmse = user_rmse.to_frame('RMSE').reset_index()\n",
    "user_rmse.head()"
   ]
  },
  {
   "cell_type": "markdown",
   "id": "7d66f063",
   "metadata": {},
   "source": [
    "Numeric summaries of RMSE:"
   ]
  },
  {
   "cell_type": "code",
   "execution_count": 18,
   "id": "9fdd9650",
   "metadata": {},
   "outputs": [
    {
     "data": {
      "text/html": [
       "<div>\n",
       "<style scoped>\n",
       "    .dataframe tbody tr th:only-of-type {\n",
       "        vertical-align: middle;\n",
       "    }\n",
       "\n",
       "    .dataframe tbody tr th {\n",
       "        vertical-align: top;\n",
       "    }\n",
       "\n",
       "    .dataframe thead th {\n",
       "        text-align: right;\n",
       "    }\n",
       "</style>\n",
       "<table border=\"1\" class=\"dataframe\">\n",
       "  <thead>\n",
       "    <tr style=\"text-align: right;\">\n",
       "      <th></th>\n",
       "      <th>count</th>\n",
       "      <th>mean</th>\n",
       "      <th>std</th>\n",
       "      <th>min</th>\n",
       "      <th>25%</th>\n",
       "      <th>50%</th>\n",
       "      <th>75%</th>\n",
       "      <th>max</th>\n",
       "    </tr>\n",
       "    <tr>\n",
       "      <th>algo</th>\n",
       "      <th></th>\n",
       "      <th></th>\n",
       "      <th></th>\n",
       "      <th></th>\n",
       "      <th></th>\n",
       "      <th></th>\n",
       "      <th></th>\n",
       "      <th></th>\n",
       "    </tr>\n",
       "  </thead>\n",
       "  <tbody>\n",
       "    <tr>\n",
       "      <th>BIAS</th>\n",
       "      <td>138493.0</td>\n",
       "      <td>0.817927</td>\n",
       "      <td>0.741992</td>\n",
       "      <td>0.002089</td>\n",
       "      <td>0.320637</td>\n",
       "      <td>0.591444</td>\n",
       "      <td>1.061369</td>\n",
       "      <td>10.585650</td>\n",
       "    </tr>\n",
       "    <tr>\n",
       "      <th>E-MF</th>\n",
       "      <td>138493.0</td>\n",
       "      <td>0.702842</td>\n",
       "      <td>0.664401</td>\n",
       "      <td>0.000343</td>\n",
       "      <td>0.265660</td>\n",
       "      <td>0.499812</td>\n",
       "      <td>0.906287</td>\n",
       "      <td>10.513610</td>\n",
       "    </tr>\n",
       "    <tr>\n",
       "      <th>TorchMF</th>\n",
       "      <td>138493.0</td>\n",
       "      <td>0.727099</td>\n",
       "      <td>0.658605</td>\n",
       "      <td>0.001931</td>\n",
       "      <td>0.287087</td>\n",
       "      <td>0.531985</td>\n",
       "      <td>0.943278</td>\n",
       "      <td>8.944472</td>\n",
       "    </tr>\n",
       "  </tbody>\n",
       "</table>\n",
       "</div>"
      ],
      "text/plain": [
       "            count      mean       std       min       25%       50%       75%  \\\n",
       "algo                                                                            \n",
       "BIAS     138493.0  0.817927  0.741992  0.002089  0.320637  0.591444  1.061369   \n",
       "E-MF     138493.0  0.702842  0.664401  0.000343  0.265660  0.499812  0.906287   \n",
       "TorchMF  138493.0  0.727099  0.658605  0.001931  0.287087  0.531985  0.943278   \n",
       "\n",
       "               max  \n",
       "algo                \n",
       "BIAS     10.585650  \n",
       "E-MF     10.513610  \n",
       "TorchMF   8.944472  "
      ]
     },
     "execution_count": 18,
     "metadata": {},
     "output_type": "execute_result"
    }
   ],
   "source": [
    "user_rmse.groupby('algo')['RMSE'].describe()"
   ]
  },
  {
   "cell_type": "markdown",
   "id": "17bfb650",
   "metadata": {},
   "source": [
    "Plot it:"
   ]
  },
  {
   "cell_type": "code",
   "execution_count": 19,
   "id": "d238480a",
   "metadata": {},
   "outputs": [
    {
     "data": {
      "image/png": "[encoded data removed]",
      "text/plain": [
       "<Figure size 500x500 with 1 Axes>"
      ]
     },
     "metadata": {},
     "output_type": "display_data"
    }
   ],
   "source": [
    "sns.catplot(user_rmse, x='algo', y='RMSE', kind='bar')\n",
    "plt.title('Prediction Accuracy')\n",
    "plt.show()"
   ]
  },
  {
   "cell_type": "markdown",
   "id": "33c90ef4",
   "metadata": {},
   "source": [
    "## Recommendation Utility\n",
    "\n",
    "Now let's evaluate the top-*N* recommendations."
   ]
  },
  {
   "cell_type": "code",
   "execution_count": 20,
   "id": "b8ae198f",
   "metadata": {},
   "outputs": [
    {
     "name": "stdout",
     "output_type": "stream",
     "text": [
      "[   INFO] lenskit.topn analyzing 19943000 recommendations (692465 truth rows)\n",
      "[   INFO] lenskit.topn using rec key columns ['algo', 'part', 'user']\n",
      "[   INFO] lenskit.topn using truth key columns ['part', 'user']\n",
      "[   INFO] lenskit.topn numbering truth lists\n",
      "[   INFO] lenskit.topn numbering rec lists\n",
      "[   INFO] lenskit.topn collecting metric results\n",
      "[   INFO] lenskit.topn measured 997150 lists in 12.16s\n"
     ]
    },
    {
     "data": {
      "text/html": [
       "<div>\n",
       "<style scoped>\n",
       "    .dataframe tbody tr th:only-of-type {\n",
       "        vertical-align: middle;\n",
       "    }\n",
       "\n",
       "    .dataframe tbody tr th {\n",
       "        vertical-align: top;\n",
       "    }\n",
       "\n",
       "    .dataframe thead th {\n",
       "        text-align: right;\n",
       "    }\n",
       "</style>\n",
       "<table border=\"1\" class=\"dataframe\">\n",
       "  <thead>\n",
       "    <tr style=\"text-align: right;\">\n",
       "      <th></th>\n",
       "      <th>algo</th>\n",
       "      <th>part</th>\n",
       "      <th>user</th>\n",
       "      <th>nrecs</th>\n",
       "      <th>hit</th>\n",
       "      <th>recip_rank</th>\n",
       "      <th>ndcg</th>\n",
       "    </tr>\n",
       "  </thead>\n",
       "  <tbody>\n",
       "    <tr>\n",
       "      <th>0</th>\n",
       "      <td>POP</td>\n",
       "      <td>1</td>\n",
       "      <td>2</td>\n",
       "      <td>20</td>\n",
       "      <td>1.0</td>\n",
       "      <td>0.076923</td>\n",
       "      <td>0.058387</td>\n",
       "    </tr>\n",
       "    <tr>\n",
       "      <th>1</th>\n",
       "      <td>POP</td>\n",
       "      <td>1</td>\n",
       "      <td>7</td>\n",
       "      <td>20</td>\n",
       "      <td>0.0</td>\n",
       "      <td>0.000000</td>\n",
       "      <td>0.000000</td>\n",
       "    </tr>\n",
       "    <tr>\n",
       "      <th>2</th>\n",
       "      <td>POP</td>\n",
       "      <td>1</td>\n",
       "      <td>10</td>\n",
       "      <td>20</td>\n",
       "      <td>0.0</td>\n",
       "      <td>0.000000</td>\n",
       "      <td>0.000000</td>\n",
       "    </tr>\n",
       "    <tr>\n",
       "      <th>3</th>\n",
       "      <td>POP</td>\n",
       "      <td>1</td>\n",
       "      <td>16</td>\n",
       "      <td>20</td>\n",
       "      <td>1.0</td>\n",
       "      <td>0.058824</td>\n",
       "      <td>0.045499</td>\n",
       "    </tr>\n",
       "    <tr>\n",
       "      <th>4</th>\n",
       "      <td>POP</td>\n",
       "      <td>1</td>\n",
       "      <td>18</td>\n",
       "      <td>20</td>\n",
       "      <td>0.0</td>\n",
       "      <td>0.000000</td>\n",
       "      <td>0.000000</td>\n",
       "    </tr>\n",
       "    <tr>\n",
       "      <th>...</th>\n",
       "      <td>...</td>\n",
       "      <td>...</td>\n",
       "      <td>...</td>\n",
       "      <td>...</td>\n",
       "      <td>...</td>\n",
       "      <td>...</td>\n",
       "      <td>...</td>\n",
       "    </tr>\n",
       "    <tr>\n",
       "      <th>997145</th>\n",
       "      <td>SampLMF</td>\n",
       "      <td>1</td>\n",
       "      <td>138476</td>\n",
       "      <td>20</td>\n",
       "      <td>1.0</td>\n",
       "      <td>0.166667</td>\n",
       "      <td>0.148915</td>\n",
       "    </tr>\n",
       "    <tr>\n",
       "      <th>997146</th>\n",
       "      <td>SampLMF</td>\n",
       "      <td>1</td>\n",
       "      <td>138480</td>\n",
       "      <td>20</td>\n",
       "      <td>1.0</td>\n",
       "      <td>0.142857</td>\n",
       "      <td>0.183287</td>\n",
       "    </tr>\n",
       "    <tr>\n",
       "      <th>997147</th>\n",
       "      <td>SampLMF</td>\n",
       "      <td>1</td>\n",
       "      <td>138481</td>\n",
       "      <td>20</td>\n",
       "      <td>0.0</td>\n",
       "      <td>0.000000</td>\n",
       "      <td>0.000000</td>\n",
       "    </tr>\n",
       "    <tr>\n",
       "      <th>997148</th>\n",
       "      <td>SampLMF</td>\n",
       "      <td>1</td>\n",
       "      <td>138483</td>\n",
       "      <td>20</td>\n",
       "      <td>1.0</td>\n",
       "      <td>0.500000</td>\n",
       "      <td>0.465655</td>\n",
       "    </tr>\n",
       "    <tr>\n",
       "      <th>997149</th>\n",
       "      <td>SampLMF</td>\n",
       "      <td>1</td>\n",
       "      <td>138488</td>\n",
       "      <td>20</td>\n",
       "      <td>1.0</td>\n",
       "      <td>0.111111</td>\n",
       "      <td>0.166893</td>\n",
       "    </tr>\n",
       "  </tbody>\n",
       "</table>\n",
       "<p>997150 rows × 7 columns</p>\n",
       "</div>"
      ],
      "text/plain": [
       "           algo  part    user  nrecs  hit  recip_rank      ndcg\n",
       "0           POP     1       2     20  1.0    0.076923  0.058387\n",
       "1           POP     1       7     20  0.0    0.000000  0.000000\n",
       "2           POP     1      10     20  0.0    0.000000  0.000000\n",
       "3           POP     1      16     20  1.0    0.058824  0.045499\n",
       "4           POP     1      18     20  0.0    0.000000  0.000000\n",
       "...         ...   ...     ...    ...  ...         ...       ...\n",
       "997145  SampLMF     1  138476     20  1.0    0.166667  0.148915\n",
       "997146  SampLMF     1  138480     20  1.0    0.142857  0.183287\n",
       "997147  SampLMF     1  138481     20  0.0    0.000000  0.000000\n",
       "997148  SampLMF     1  138483     20  1.0    0.500000  0.465655\n",
       "997149  SampLMF     1  138488     20  1.0    0.111111  0.166893\n",
       "\n",
       "[997150 rows x 7 columns]"
      ]
     },
     "execution_count": 20,
     "metadata": {},
     "output_type": "execute_result"
    }
   ],
   "source": [
    "rla = topn.RecListAnalysis()\n",
    "rla.add_metric(topn.hit, k=20)\n",
    "rla.add_metric(topn.recip_rank, k=20)\n",
    "rla.add_metric(topn.ndcg, k=20)\n",
    "user_scores = rla.compute(recs, test_ratings)\n",
    "user_scores.reset_index(inplace=True)\n",
    "user_scores"
   ]
  },
  {
   "cell_type": "code",
   "execution_count": 21,
   "id": "bec37270",
   "metadata": {
    "scrolled": false
   },
   "outputs": [
    {
     "data": {
      "text/html": [
       "<div>\n",
       "<style scoped>\n",
       "    .dataframe tbody tr th:only-of-type {\n",
       "        vertical-align: middle;\n",
       "    }\n",
       "\n",
       "    .dataframe tbody tr th {\n",
       "        vertical-align: top;\n",
       "    }\n",
       "\n",
       "    .dataframe thead th {\n",
       "        text-align: right;\n",
       "    }\n",
       "</style>\n",
       "<table border=\"1\" class=\"dataframe\">\n",
       "  <thead>\n",
       "    <tr style=\"text-align: right;\">\n",
       "      <th></th>\n",
       "      <th>algo</th>\n",
       "      <th>user</th>\n",
       "      <th>Metric</th>\n",
       "      <th>value</th>\n",
       "    </tr>\n",
       "  </thead>\n",
       "  <tbody>\n",
       "    <tr>\n",
       "      <th>0</th>\n",
       "      <td>POP</td>\n",
       "      <td>2</td>\n",
       "      <td>recip_rank</td>\n",
       "      <td>0.076923</td>\n",
       "    </tr>\n",
       "    <tr>\n",
       "      <th>1</th>\n",
       "      <td>POP</td>\n",
       "      <td>7</td>\n",
       "      <td>recip_rank</td>\n",
       "      <td>0.000000</td>\n",
       "    </tr>\n",
       "    <tr>\n",
       "      <th>2</th>\n",
       "      <td>POP</td>\n",
       "      <td>10</td>\n",
       "      <td>recip_rank</td>\n",
       "      <td>0.000000</td>\n",
       "    </tr>\n",
       "    <tr>\n",
       "      <th>3</th>\n",
       "      <td>POP</td>\n",
       "      <td>16</td>\n",
       "      <td>recip_rank</td>\n",
       "      <td>0.058824</td>\n",
       "    </tr>\n",
       "    <tr>\n",
       "      <th>4</th>\n",
       "      <td>POP</td>\n",
       "      <td>18</td>\n",
       "      <td>recip_rank</td>\n",
       "      <td>0.000000</td>\n",
       "    </tr>\n",
       "    <tr>\n",
       "      <th>...</th>\n",
       "      <td>...</td>\n",
       "      <td>...</td>\n",
       "      <td>...</td>\n",
       "      <td>...</td>\n",
       "    </tr>\n",
       "    <tr>\n",
       "      <th>2991445</th>\n",
       "      <td>SampLMF</td>\n",
       "      <td>138476</td>\n",
       "      <td>ndcg</td>\n",
       "      <td>0.148915</td>\n",
       "    </tr>\n",
       "    <tr>\n",
       "      <th>2991446</th>\n",
       "      <td>SampLMF</td>\n",
       "      <td>138480</td>\n",
       "      <td>ndcg</td>\n",
       "      <td>0.183287</td>\n",
       "    </tr>\n",
       "    <tr>\n",
       "      <th>2991447</th>\n",
       "      <td>SampLMF</td>\n",
       "      <td>138481</td>\n",
       "      <td>ndcg</td>\n",
       "      <td>0.000000</td>\n",
       "    </tr>\n",
       "    <tr>\n",
       "      <th>2991448</th>\n",
       "      <td>SampLMF</td>\n",
       "      <td>138483</td>\n",
       "      <td>ndcg</td>\n",
       "      <td>0.465655</td>\n",
       "    </tr>\n",
       "    <tr>\n",
       "      <th>2991449</th>\n",
       "      <td>SampLMF</td>\n",
       "      <td>138488</td>\n",
       "      <td>ndcg</td>\n",
       "      <td>0.166893</td>\n",
       "    </tr>\n",
       "  </tbody>\n",
       "</table>\n",
       "<p>2991450 rows × 4 columns</p>\n",
       "</div>"
      ],
      "text/plain": [
       "            algo    user      Metric     value\n",
       "0            POP       2  recip_rank  0.076923\n",
       "1            POP       7  recip_rank  0.000000\n",
       "2            POP      10  recip_rank  0.000000\n",
       "3            POP      16  recip_rank  0.058824\n",
       "4            POP      18  recip_rank  0.000000\n",
       "...          ...     ...         ...       ...\n",
       "2991445  SampLMF  138476        ndcg  0.148915\n",
       "2991446  SampLMF  138480        ndcg  0.183287\n",
       "2991447  SampLMF  138481        ndcg  0.000000\n",
       "2991448  SampLMF  138483        ndcg  0.465655\n",
       "2991449  SampLMF  138488        ndcg  0.166893\n",
       "\n",
       "[2991450 rows x 4 columns]"
      ]
     },
     "execution_count": 21,
     "metadata": {},
     "output_type": "execute_result"
    }
   ],
   "source": [
    "us_tall = user_scores.melt(id_vars=['algo', 'user'], value_vars=['recip_rank', 'hit', 'ndcg'], var_name='Metric')\n",
    "us_tall"
   ]
  },
  {
   "cell_type": "code",
   "execution_count": 24,
   "id": "115a5aac",
   "metadata": {},
   "outputs": [
    {
     "data": {
      "image/png": "[encoded data removed]",
      "text/plain": [
       "<Figure size 1500x500 with 3 Axes>"
      ]
     },
     "metadata": {},
     "output_type": "display_data"
    }
   ],
   "source": [
    "g = sns.catplot(us_tall, y='algo', x='value', col='Metric', kind='bar', sharex=False)\n",
    "g.set_titles('{col_name}')\n",
    "g.set_xlabels(None)\n",
    "plt.show()"
   ]
  },
  {
   "cell_type": "code",
   "execution_count": null,
   "id": "6aff72f7",
   "metadata": {},
   "outputs": [],
   "source": []
  }
 ],
 "metadata": {
  "kernelspec": {
   "display_name": "Python 3 (ipykernel)",
   "language": "python",
   "name": "python3"
  },
  "language_info": {
   "codemirror_mode": {
    "name": "ipython",
    "version": 3
   },
   "file_extension": ".py",
   "mimetype": "text/x-python",
   "name": "python",
   "nbconvert_exporter": "python",
   "pygments_lexer": "ipython3",
   "version": "3.10.9"
  }
 },
 "nbformat": 4,
 "nbformat_minor": 5
}
