{
 "cells": [
  {
   "cell_type": "markdown",
   "id": "da4d453d",
   "metadata": {},
   "source": [
    "# Evaluate Outputs\n",
    "\n",
    "This notebook evaluates outputs of the recommendation model(s)."
   ]
  },
  {
   "cell_type": "markdown",
   "id": "cd4f5cfc",
   "metadata": {},
   "source": [
    "## Setup\n",
    "\n",
    "What data set?"
   ]
  },
  {
   "cell_type": "code",
   "execution_count": 1,
   "id": "310022d6",
   "metadata": {},
   "outputs": [],
   "source": [
    "data = 'ml-20m'"
   ]
  },
  {
   "cell_type": "markdown",
   "id": "eac5630d",
   "metadata": {},
   "source": [
    "Let's import some things:"
   ]
  },
  {
   "cell_type": "code",
   "execution_count": 2,
   "id": "028070f9",
   "metadata": {},
   "outputs": [],
   "source": [
    "from pathlib import Path\n",
    "import re\n",
    "import logging"
   ]
  },
  {
   "cell_type": "code",
   "execution_count": 3,
   "id": "8a6ef53d",
   "metadata": {},
   "outputs": [],
   "source": [
    "import numpy as np\n",
    "import pandas as pd\n",
    "import seaborn as sns\n",
    "import matplotlib.pyplot as plt"
   ]
  },
  {
   "cell_type": "code",
   "execution_count": 4,
   "id": "b0a0cba3",
   "metadata": {},
   "outputs": [],
   "source": [
    "from scipy.stats import ttest_rel\n",
    "import statsmodels.api as sm"
   ]
  },
  {
   "cell_type": "code",
   "execution_count": 5,
   "id": "225859f3",
   "metadata": {},
   "outputs": [],
   "source": [
    "from lenskit import topn\n",
    "from lenskit.datasets import MovieLens\n",
    "from lenskit.util.log import log_to_notebook"
   ]
  },
  {
   "cell_type": "code",
   "execution_count": 6,
   "id": "1cb4000a",
   "metadata": {},
   "outputs": [
    {
     "name": "stdout",
     "output_type": "stream",
     "text": [
      "[   INFO] lenskit.util.log notebook logging configured\n"
     ]
    }
   ],
   "source": [
    "_log = logging.getLogger('eval-notebook')\n",
    "log_to_notebook()"
   ]
  },
  {
   "cell_type": "code",
   "execution_count": 7,
   "id": "422a2bbc",
   "metadata": {},
   "outputs": [],
   "source": [
    "from tqdm.notebook import tqdm\n",
    "tqdm.pandas()"
   ]
  },
  {
   "cell_type": "markdown",
   "id": "f28e672e",
   "metadata": {},
   "source": [
    "## Load Data"
   ]
  },
  {
   "cell_type": "markdown",
   "id": "6f37d6c6",
   "metadata": {},
   "source": [
    "### Test Data\n",
    "\n",
    "We're going to start by loading the test data:"
   ]
  },
  {
   "cell_type": "code",
   "execution_count": 8,
   "id": "d6736199",
   "metadata": {},
   "outputs": [],
   "source": [
    "ml = MovieLens(f'data/{data}')\n",
    "split_dir = Path(f'data/{data}-split')"
   ]
  },
  {
   "cell_type": "code",
   "execution_count": 9,
   "id": "19d9c8f7",
   "metadata": {},
   "outputs": [
    {
     "data": {
      "text/html": [
       "<div>\n",
       "<style scoped>\n",
       "    .dataframe tbody tr th:only-of-type {\n",
       "        vertical-align: middle;\n",
       "    }\n",
       "\n",
       "    .dataframe tbody tr th {\n",
       "        vertical-align: top;\n",
       "    }\n",
       "\n",
       "    .dataframe thead th {\n",
       "        text-align: right;\n",
       "    }\n",
       "</style>\n",
       "<table border=\"1\" class=\"dataframe\">\n",
       "  <thead>\n",
       "    <tr style=\"text-align: right;\">\n",
       "      <th></th>\n",
       "      <th>title</th>\n",
       "      <th>genres</th>\n",
       "    </tr>\n",
       "    <tr>\n",
       "      <th>item</th>\n",
       "      <th></th>\n",
       "      <th></th>\n",
       "    </tr>\n",
       "  </thead>\n",
       "  <tbody>\n",
       "    <tr>\n",
       "      <th>1</th>\n",
       "      <td>Toy Story (1995)</td>\n",
       "      <td>Adventure|Animation|Children|Comedy|Fantasy</td>\n",
       "    </tr>\n",
       "    <tr>\n",
       "      <th>2</th>\n",
       "      <td>Jumanji (1995)</td>\n",
       "      <td>Adventure|Children|Fantasy</td>\n",
       "    </tr>\n",
       "    <tr>\n",
       "      <th>3</th>\n",
       "      <td>Grumpier Old Men (1995)</td>\n",
       "      <td>Comedy|Romance</td>\n",
       "    </tr>\n",
       "    <tr>\n",
       "      <th>4</th>\n",
       "      <td>Waiting to Exhale (1995)</td>\n",
       "      <td>Comedy|Drama|Romance</td>\n",
       "    </tr>\n",
       "    <tr>\n",
       "      <th>5</th>\n",
       "      <td>Father of the Bride Part II (1995)</td>\n",
       "      <td>Comedy</td>\n",
       "    </tr>\n",
       "  </tbody>\n",
       "</table>\n",
       "</div>"
      ],
      "text/plain": [
       "                                   title  \\\n",
       "item                                       \n",
       "1                       Toy Story (1995)   \n",
       "2                         Jumanji (1995)   \n",
       "3                Grumpier Old Men (1995)   \n",
       "4               Waiting to Exhale (1995)   \n",
       "5     Father of the Bride Part II (1995)   \n",
       "\n",
       "                                           genres  \n",
       "item                                               \n",
       "1     Adventure|Animation|Children|Comedy|Fantasy  \n",
       "2                      Adventure|Children|Fantasy  \n",
       "3                                  Comedy|Romance  \n",
       "4                            Comedy|Drama|Romance  \n",
       "5                                          Comedy  "
      ]
     },
     "execution_count": 9,
     "metadata": {},
     "output_type": "execute_result"
    }
   ],
   "source": [
    "movies = ml.movies\n",
    "movies.head()"
   ]
  },
  {
   "cell_type": "markdown",
   "id": "a28f2f1f",
   "metadata": {},
   "source": [
    "Scan for and load test data:"
   ]
  },
  {
   "cell_type": "code",
   "execution_count": 10,
   "id": "1aa335d8",
   "metadata": {},
   "outputs": [],
   "source": [
    "test_re = re.compile(r'^part(?P<part>\\d+)-test')\n",
    "test_frames = {}\n",
    "for file in split_dir.glob('*-test.parquet'):\n",
    "    match = test_re.match(file.name)\n",
    "    part = int(match.group('part'))\n",
    "    test_frames[part] = pd.read_parquet(file)"
   ]
  },
  {
   "cell_type": "code",
   "execution_count": 11,
   "id": "bd934eb2",
   "metadata": {},
   "outputs": [
    {
     "data": {
      "text/html": [
       "<div>\n",
       "<style scoped>\n",
       "    .dataframe tbody tr th:only-of-type {\n",
       "        vertical-align: middle;\n",
       "    }\n",
       "\n",
       "    .dataframe tbody tr th {\n",
       "        vertical-align: top;\n",
       "    }\n",
       "\n",
       "    .dataframe thead th {\n",
       "        text-align: right;\n",
       "    }\n",
       "</style>\n",
       "<table border=\"1\" class=\"dataframe\">\n",
       "  <thead>\n",
       "    <tr style=\"text-align: right;\">\n",
       "      <th></th>\n",
       "      <th>part</th>\n",
       "      <th>user</th>\n",
       "      <th>item</th>\n",
       "      <th>rating</th>\n",
       "      <th>timestamp</th>\n",
       "    </tr>\n",
       "  </thead>\n",
       "  <tbody>\n",
       "    <tr>\n",
       "      <th>0</th>\n",
       "      <td>1</td>\n",
       "      <td>2</td>\n",
       "      <td>2291</td>\n",
       "      <td>2.0</td>\n",
       "      <td>974820748</td>\n",
       "    </tr>\n",
       "    <tr>\n",
       "      <th>1</th>\n",
       "      <td>1</td>\n",
       "      <td>2</td>\n",
       "      <td>3753</td>\n",
       "      <td>4.0</td>\n",
       "      <td>974820691</td>\n",
       "    </tr>\n",
       "    <tr>\n",
       "      <th>2</th>\n",
       "      <td>1</td>\n",
       "      <td>2</td>\n",
       "      <td>3173</td>\n",
       "      <td>4.0</td>\n",
       "      <td>974820869</td>\n",
       "    </tr>\n",
       "    <tr>\n",
       "      <th>3</th>\n",
       "      <td>1</td>\n",
       "      <td>2</td>\n",
       "      <td>2858</td>\n",
       "      <td>3.0</td>\n",
       "      <td>974820659</td>\n",
       "    </tr>\n",
       "    <tr>\n",
       "      <th>4</th>\n",
       "      <td>1</td>\n",
       "      <td>2</td>\n",
       "      <td>1214</td>\n",
       "      <td>5.0</td>\n",
       "      <td>974821014</td>\n",
       "    </tr>\n",
       "  </tbody>\n",
       "</table>\n",
       "</div>"
      ],
      "text/plain": [
       "   part  user  item  rating  timestamp\n",
       "0     1     2  2291     2.0  974820748\n",
       "1     1     2  3753     4.0  974820691\n",
       "2     1     2  3173     4.0  974820869\n",
       "3     1     2  2858     3.0  974820659\n",
       "4     1     2  1214     5.0  974821014"
      ]
     },
     "execution_count": 11,
     "metadata": {},
     "output_type": "execute_result"
    }
   ],
   "source": [
    "test_ratings = pd.concat(test_frames, names=['part'])\n",
    "test_ratings = test_ratings.reset_index('part').reset_index(drop=True)\n",
    "test_ratings.head()"
   ]
  },
  {
   "cell_type": "markdown",
   "id": "f28c6604",
   "metadata": {},
   "source": [
    "### Outputs\n",
    "\n",
    "Now let's load prediction & recommendation data.\n",
    "\n",
    "A regular expression will parse file names:"
   ]
  },
  {
   "cell_type": "code",
   "execution_count": 29,
   "id": "c03f983c",
   "metadata": {},
   "outputs": [],
   "source": [
    "adn_re = re.compile(r'^(?P<data>.*?)-(?P<algo>[A-Z].*)')\n",
    "fn_re = re.compile(r'part(?P<part>\\d+)-(?:recs|preds)')"
   ]
  },
  {
   "cell_type": "markdown",
   "id": "2ee90865",
   "metadata": {},
   "source": [
    "Load predictions:"
   ]
  },
  {
   "cell_type": "code",
   "execution_count": 30,
   "id": "f8db3b32",
   "metadata": {},
   "outputs": [
    {
     "name": "stdout",
     "output_type": "stream",
     "text": [
      "[   INFO] eval-notebook loading preds/ml-20m-BIAS/part3-preds.parquet\n",
      "[   INFO] eval-notebook loading preds/ml-20m-BIAS/part2-preds.parquet\n",
      "[   INFO] eval-notebook loading preds/ml-20m-BIAS/part5-preds.parquet\n",
      "[   INFO] eval-notebook loading preds/ml-20m-BIAS/part1-preds.parquet\n",
      "[   INFO] eval-notebook loading preds/ml-20m-BIAS/part4-preds.parquet\n",
      "[   INFO] eval-notebook loading preds/ml-20m-E-MF/part1-preds.parquet\n",
      "[   INFO] eval-notebook loading preds/ml-20m-E-MF/part2-preds.parquet\n"
     ]
    }
   ],
   "source": [
    "pred_frames = {}\n",
    "for file in Path('preds').glob(f'{data}-*/*-preds.parquet'):\n",
    "    _log.info('loading %s', file)\n",
    "    dmatch = adn_re.match(file.parent.name)\n",
    "    algo = dmatch.group('algo')\n",
    "    fmatch = fn_re.match(file.name)\n",
    "    part = int(fmatch.group('part'))\n",
    "    df = pd.read_parquet(file)\n",
    "    pred_frames[(algo, part)] = df"
   ]
  },
  {
   "cell_type": "code",
   "execution_count": 31,
   "id": "baa751de",
   "metadata": {},
   "outputs": [
    {
     "data": {
      "text/html": [
       "<div>\n",
       "<style scoped>\n",
       "    .dataframe tbody tr th:only-of-type {\n",
       "        vertical-align: middle;\n",
       "    }\n",
       "\n",
       "    .dataframe tbody tr th {\n",
       "        vertical-align: top;\n",
       "    }\n",
       "\n",
       "    .dataframe thead th {\n",
       "        text-align: right;\n",
       "    }\n",
       "</style>\n",
       "<table border=\"1\" class=\"dataframe\">\n",
       "  <thead>\n",
       "    <tr style=\"text-align: right;\">\n",
       "      <th></th>\n",
       "      <th>algo</th>\n",
       "      <th>part</th>\n",
       "      <th>user</th>\n",
       "      <th>item</th>\n",
       "      <th>rating</th>\n",
       "      <th>timestamp</th>\n",
       "      <th>prediction</th>\n",
       "    </tr>\n",
       "  </thead>\n",
       "  <tbody>\n",
       "    <tr>\n",
       "      <th>0</th>\n",
       "      <td>BIAS</td>\n",
       "      <td>3</td>\n",
       "      <td>3</td>\n",
       "      <td>2391</td>\n",
       "      <td>5.0</td>\n",
       "      <td>944918215</td>\n",
       "      <td>4.320703</td>\n",
       "    </tr>\n",
       "    <tr>\n",
       "      <th>1</th>\n",
       "      <td>BIAS</td>\n",
       "      <td>3</td>\n",
       "      <td>3</td>\n",
       "      <td>1079</td>\n",
       "      <td>4.0</td>\n",
       "      <td>944917797</td>\n",
       "      <td>4.449816</td>\n",
       "    </tr>\n",
       "    <tr>\n",
       "      <th>2</th>\n",
       "      <td>BIAS</td>\n",
       "      <td>3</td>\n",
       "      <td>3</td>\n",
       "      <td>1762</td>\n",
       "      <td>4.0</td>\n",
       "      <td>945176072</td>\n",
       "      <td>3.349052</td>\n",
       "    </tr>\n",
       "    <tr>\n",
       "      <th>3</th>\n",
       "      <td>BIAS</td>\n",
       "      <td>3</td>\n",
       "      <td>3</td>\n",
       "      <td>2012</td>\n",
       "      <td>3.0</td>\n",
       "      <td>945176021</td>\n",
       "      <td>3.849842</td>\n",
       "    </tr>\n",
       "    <tr>\n",
       "      <th>4</th>\n",
       "      <td>BIAS</td>\n",
       "      <td>3</td>\n",
       "      <td>3</td>\n",
       "      <td>1278</td>\n",
       "      <td>5.0</td>\n",
       "      <td>944917980</td>\n",
       "      <td>4.597338</td>\n",
       "    </tr>\n",
       "  </tbody>\n",
       "</table>\n",
       "</div>"
      ],
      "text/plain": [
       "   algo  part  user  item  rating  timestamp  prediction\n",
       "0  BIAS     3     3  2391     5.0  944918215    4.320703\n",
       "1  BIAS     3     3  1079     4.0  944917797    4.449816\n",
       "2  BIAS     3     3  1762     4.0  945176072    3.349052\n",
       "3  BIAS     3     3  2012     3.0  945176021    3.849842\n",
       "4  BIAS     3     3  1278     5.0  944917980    4.597338"
      ]
     },
     "execution_count": 31,
     "metadata": {},
     "output_type": "execute_result"
    }
   ],
   "source": [
    "preds = pd.concat(pred_frames, names=['algo', 'part'])\n",
    "preds = preds.reset_index(['algo', 'part']).reset_index(drop=True)\n",
    "preds.head()"
   ]
  },
  {
   "cell_type": "markdown",
   "id": "f43c9bdc",
   "metadata": {},
   "source": [
    "And now the recommendations:"
   ]
  },
  {
   "cell_type": "code",
   "execution_count": 32,
   "id": "8cae4e1e",
   "metadata": {},
   "outputs": [
    {
     "name": "stdout",
     "output_type": "stream",
     "text": [
      "[   INFO] eval-notebook loading recs/ml-20m-POP/part1-recs.parquet\n",
      "[   INFO] eval-notebook loading recs/ml-20m-POP/part3-recs.parquet\n",
      "[   INFO] eval-notebook loading recs/ml-20m-POP/part2-recs.parquet\n",
      "[   INFO] eval-notebook loading recs/ml-20m-POP/part5-recs.parquet\n",
      "[   INFO] eval-notebook loading recs/ml-20m-POP/part4-recs.parquet\n",
      "[   INFO] eval-notebook loading recs/ml-20m-BIAS/part4-recs.parquet\n",
      "[   INFO] eval-notebook loading recs/ml-20m-BIAS/part1-recs.parquet\n",
      "[   INFO] eval-notebook loading recs/ml-20m-BIAS/part2-recs.parquet\n",
      "[   INFO] eval-notebook loading recs/ml-20m-BIAS/part5-recs.parquet\n",
      "[   INFO] eval-notebook loading recs/ml-20m-BIAS/part3-recs.parquet\n",
      "[   INFO] eval-notebook loading recs/ml-20m-E-MF/part1-recs.parquet\n"
     ]
    }
   ],
   "source": [
    "rec_frames = {}\n",
    "for file in Path('recs').glob(f'{data}-*/*-recs.parquet'):\n",
    "    _log.info('loading %s', file)\n",
    "    dmatch = adn_re.match(file.parent.name)\n",
    "    algo = dmatch.group('algo')\n",
    "    fmatch = fn_re.match(file.name)\n",
    "    part = int(fmatch.group('part'))\n",
    "    df = pd.read_parquet(file)\n",
    "    rec_frames[(algo, part)] = df"
   ]
  },
  {
   "cell_type": "code",
   "execution_count": 33,
   "id": "690bd4ca",
   "metadata": {},
   "outputs": [
    {
     "data": {
      "text/html": [
       "<div>\n",
       "<style scoped>\n",
       "    .dataframe tbody tr th:only-of-type {\n",
       "        vertical-align: middle;\n",
       "    }\n",
       "\n",
       "    .dataframe tbody tr th {\n",
       "        vertical-align: top;\n",
       "    }\n",
       "\n",
       "    .dataframe thead th {\n",
       "        text-align: right;\n",
       "    }\n",
       "</style>\n",
       "<table border=\"1\" class=\"dataframe\">\n",
       "  <thead>\n",
       "    <tr style=\"text-align: right;\">\n",
       "      <th></th>\n",
       "      <th>algo</th>\n",
       "      <th>part</th>\n",
       "      <th>item</th>\n",
       "      <th>score</th>\n",
       "      <th>user</th>\n",
       "      <th>rank</th>\n",
       "    </tr>\n",
       "  </thead>\n",
       "  <tbody>\n",
       "    <tr>\n",
       "      <th>0</th>\n",
       "      <td>POP</td>\n",
       "      <td>1</td>\n",
       "      <td>296</td>\n",
       "      <td>66465.0</td>\n",
       "      <td>2</td>\n",
       "      <td>1</td>\n",
       "    </tr>\n",
       "    <tr>\n",
       "      <th>1</th>\n",
       "      <td>POP</td>\n",
       "      <td>1</td>\n",
       "      <td>356</td>\n",
       "      <td>65402.0</td>\n",
       "      <td>2</td>\n",
       "      <td>2</td>\n",
       "    </tr>\n",
       "    <tr>\n",
       "      <th>2</th>\n",
       "      <td>POP</td>\n",
       "      <td>1</td>\n",
       "      <td>318</td>\n",
       "      <td>62527.0</td>\n",
       "      <td>2</td>\n",
       "      <td>3</td>\n",
       "    </tr>\n",
       "    <tr>\n",
       "      <th>3</th>\n",
       "      <td>POP</td>\n",
       "      <td>1</td>\n",
       "      <td>593</td>\n",
       "      <td>62493.0</td>\n",
       "      <td>2</td>\n",
       "      <td>4</td>\n",
       "    </tr>\n",
       "    <tr>\n",
       "      <th>4</th>\n",
       "      <td>POP</td>\n",
       "      <td>1</td>\n",
       "      <td>2571</td>\n",
       "      <td>50852.0</td>\n",
       "      <td>2</td>\n",
       "      <td>5</td>\n",
       "    </tr>\n",
       "  </tbody>\n",
       "</table>\n",
       "</div>"
      ],
      "text/plain": [
       "  algo  part  item    score  user  rank\n",
       "0  POP     1   296  66465.0     2     1\n",
       "1  POP     1   356  65402.0     2     2\n",
       "2  POP     1   318  62527.0     2     3\n",
       "3  POP     1   593  62493.0     2     4\n",
       "4  POP     1  2571  50852.0     2     5"
      ]
     },
     "execution_count": 33,
     "metadata": {},
     "output_type": "execute_result"
    }
   ],
   "source": [
    "recs = pd.concat(rec_frames, names=['algo', 'part'])\n",
    "recs = recs.reset_index(['algo', 'part']).reset_index(drop=True)\n",
    "recs.head()"
   ]
  },
  {
   "cell_type": "markdown",
   "id": "b00a7f18",
   "metadata": {},
   "source": [
    "## Prediction Accuracy\n",
    "\n",
    "Now, let's compute the per-user RMSE of each algorithm."
   ]
  },
  {
   "cell_type": "code",
   "execution_count": 34,
   "id": "58b90761",
   "metadata": {},
   "outputs": [
    {
     "data": {
      "text/html": [
       "<div>\n",
       "<style scoped>\n",
       "    .dataframe tbody tr th:only-of-type {\n",
       "        vertical-align: middle;\n",
       "    }\n",
       "\n",
       "    .dataframe tbody tr th {\n",
       "        vertical-align: top;\n",
       "    }\n",
       "\n",
       "    .dataframe thead th {\n",
       "        text-align: right;\n",
       "    }\n",
       "</style>\n",
       "<table border=\"1\" class=\"dataframe\">\n",
       "  <thead>\n",
       "    <tr style=\"text-align: right;\">\n",
       "      <th></th>\n",
       "      <th>algo</th>\n",
       "      <th>user</th>\n",
       "      <th>RMSE</th>\n",
       "    </tr>\n",
       "  </thead>\n",
       "  <tbody>\n",
       "    <tr>\n",
       "      <th>0</th>\n",
       "      <td>BIAS</td>\n",
       "      <td>1</td>\n",
       "      <td>0.179533</td>\n",
       "    </tr>\n",
       "    <tr>\n",
       "      <th>1</th>\n",
       "      <td>BIAS</td>\n",
       "      <td>2</td>\n",
       "      <td>1.822353</td>\n",
       "    </tr>\n",
       "    <tr>\n",
       "      <th>2</th>\n",
       "      <td>BIAS</td>\n",
       "      <td>3</td>\n",
       "      <td>0.394376</td>\n",
       "    </tr>\n",
       "    <tr>\n",
       "      <th>3</th>\n",
       "      <td>BIAS</td>\n",
       "      <td>4</td>\n",
       "      <td>0.299858</td>\n",
       "    </tr>\n",
       "    <tr>\n",
       "      <th>4</th>\n",
       "      <td>BIAS</td>\n",
       "      <td>5</td>\n",
       "      <td>0.677434</td>\n",
       "    </tr>\n",
       "  </tbody>\n",
       "</table>\n",
       "</div>"
      ],
      "text/plain": [
       "   algo  user      RMSE\n",
       "0  BIAS     1  0.179533\n",
       "1  BIAS     2  1.822353\n",
       "2  BIAS     3  0.394376\n",
       "3  BIAS     4  0.299858\n",
       "4  BIAS     5  0.677434"
      ]
     },
     "execution_count": 34,
     "metadata": {},
     "output_type": "execute_result"
    }
   ],
   "source": [
    "preds['sqerr'] = np.square(preds['rating'] - preds['prediction'])\n",
    "user_rmse = preds.groupby(['algo', 'user'])['sqerr'].mean()\n",
    "user_rmse = user_rmse.to_frame('RMSE').reset_index()\n",
    "user_rmse.head()"
   ]
  },
  {
   "cell_type": "markdown",
   "id": "7d66f063",
   "metadata": {},
   "source": [
    "Numeric summaries of RMSE:"
   ]
  },
  {
   "cell_type": "code",
   "execution_count": 35,
   "id": "9fdd9650",
   "metadata": {},
   "outputs": [
    {
     "data": {
      "text/html": [
       "<div>\n",
       "<style scoped>\n",
       "    .dataframe tbody tr th:only-of-type {\n",
       "        vertical-align: middle;\n",
       "    }\n",
       "\n",
       "    .dataframe tbody tr th {\n",
       "        vertical-align: top;\n",
       "    }\n",
       "\n",
       "    .dataframe thead th {\n",
       "        text-align: right;\n",
       "    }\n",
       "</style>\n",
       "<table border=\"1\" class=\"dataframe\">\n",
       "  <thead>\n",
       "    <tr style=\"text-align: right;\">\n",
       "      <th></th>\n",
       "      <th>count</th>\n",
       "      <th>mean</th>\n",
       "      <th>std</th>\n",
       "      <th>min</th>\n",
       "      <th>25%</th>\n",
       "      <th>50%</th>\n",
       "      <th>75%</th>\n",
       "      <th>max</th>\n",
       "    </tr>\n",
       "    <tr>\n",
       "      <th>algo</th>\n",
       "      <th></th>\n",
       "      <th></th>\n",
       "      <th></th>\n",
       "      <th></th>\n",
       "      <th></th>\n",
       "      <th></th>\n",
       "      <th></th>\n",
       "      <th></th>\n",
       "    </tr>\n",
       "  </thead>\n",
       "  <tbody>\n",
       "    <tr>\n",
       "      <th>BIAS</th>\n",
       "      <td>138493.0</td>\n",
       "      <td>0.817927</td>\n",
       "      <td>0.741992</td>\n",
       "      <td>0.002089</td>\n",
       "      <td>0.320637</td>\n",
       "      <td>0.591444</td>\n",
       "      <td>1.061369</td>\n",
       "      <td>10.58565</td>\n",
       "    </tr>\n",
       "    <tr>\n",
       "      <th>E-MF</th>\n",
       "      <td>55398.0</td>\n",
       "      <td>0.699098</td>\n",
       "      <td>0.662569</td>\n",
       "      <td>0.002304</td>\n",
       "      <td>0.264393</td>\n",
       "      <td>0.496378</td>\n",
       "      <td>0.902319</td>\n",
       "      <td>10.51361</td>\n",
       "    </tr>\n",
       "  </tbody>\n",
       "</table>\n",
       "</div>"
      ],
      "text/plain": [
       "         count      mean       std       min       25%       50%       75%  \\\n",
       "algo                                                                         \n",
       "BIAS  138493.0  0.817927  0.741992  0.002089  0.320637  0.591444  1.061369   \n",
       "E-MF   55398.0  0.699098  0.662569  0.002304  0.264393  0.496378  0.902319   \n",
       "\n",
       "           max  \n",
       "algo            \n",
       "BIAS  10.58565  \n",
       "E-MF  10.51361  "
      ]
     },
     "execution_count": 35,
     "metadata": {},
     "output_type": "execute_result"
    }
   ],
   "source": [
    "user_rmse.groupby('algo')['RMSE'].describe()"
   ]
  },
  {
   "cell_type": "markdown",
   "id": "17bfb650",
   "metadata": {},
   "source": [
    "Plot it:"
   ]
  },
  {
   "cell_type": "code",
   "execution_count": 36,
   "id": "d238480a",
   "metadata": {},
   "outputs": [
    {
     "data": {
      "image/png": "[encoded data removed]",
      "text/plain": [
       "<Figure size 500x500 with 1 Axes>"
      ]
     },
     "metadata": {},
     "output_type": "display_data"
    }
   ],
   "source": [
    "sns.catplot(user_rmse, x='algo', y='RMSE', kind='bar')\n",
    "plt.title('Prediction Accuracy')\n",
    "plt.show()"
   ]
  },
  {
   "cell_type": "markdown",
   "id": "36f50704",
   "metadata": {},
   "source": [
    "### Statistical Inference\n",
    "\n",
    "We have these metrics, how do we do inference on them?  The confidence intervals indicate some significance, but we haven't taken into account the **non-independence** of measurements: each RMSE depends on the user across different algorithms!\n",
    "\n",
    "For testing *two* algorithms, we can use a paired t-test:"
   ]
  },
  {
   "cell_type": "code",
   "execution_count": 37,
   "id": "46afe6be",
   "metadata": {},
   "outputs": [
    {
     "data": {
      "text/html": [
       "<div>\n",
       "<style scoped>\n",
       "    .dataframe tbody tr th:only-of-type {\n",
       "        vertical-align: middle;\n",
       "    }\n",
       "\n",
       "    .dataframe tbody tr th {\n",
       "        vertical-align: top;\n",
       "    }\n",
       "\n",
       "    .dataframe thead th {\n",
       "        text-align: right;\n",
       "    }\n",
       "</style>\n",
       "<table border=\"1\" class=\"dataframe\">\n",
       "  <thead>\n",
       "    <tr style=\"text-align: right;\">\n",
       "      <th>algo</th>\n",
       "      <th>BIAS</th>\n",
       "      <th>E-MF</th>\n",
       "    </tr>\n",
       "    <tr>\n",
       "      <th>user</th>\n",
       "      <th></th>\n",
       "      <th></th>\n",
       "    </tr>\n",
       "  </thead>\n",
       "  <tbody>\n",
       "    <tr>\n",
       "      <th>1</th>\n",
       "      <td>0.179533</td>\n",
       "      <td>NaN</td>\n",
       "    </tr>\n",
       "    <tr>\n",
       "      <th>2</th>\n",
       "      <td>1.822353</td>\n",
       "      <td>1.401274</td>\n",
       "    </tr>\n",
       "    <tr>\n",
       "      <th>3</th>\n",
       "      <td>0.394376</td>\n",
       "      <td>NaN</td>\n",
       "    </tr>\n",
       "    <tr>\n",
       "      <th>4</th>\n",
       "      <td>0.299858</td>\n",
       "      <td>NaN</td>\n",
       "    </tr>\n",
       "    <tr>\n",
       "      <th>5</th>\n",
       "      <td>0.677434</td>\n",
       "      <td>NaN</td>\n",
       "    </tr>\n",
       "  </tbody>\n",
       "</table>\n",
       "</div>"
      ],
      "text/plain": [
       "algo      BIAS      E-MF\n",
       "user                    \n",
       "1     0.179533       NaN\n",
       "2     1.822353  1.401274\n",
       "3     0.394376       NaN\n",
       "4     0.299858       NaN\n",
       "5     0.677434       NaN"
      ]
     },
     "execution_count": 37,
     "metadata": {},
     "output_type": "execute_result"
    }
   ],
   "source": [
    "rmse_wide = user_rmse.pivot(index='user', columns='algo', values='RMSE')\n",
    "rmse_wide.head()"
   ]
  },
  {
   "cell_type": "markdown",
   "id": "332bc93e",
   "metadata": {},
   "source": [
    "ttest_rel(rmse_wide['BIAS'], rmse_wide['TorchMF'])"
   ]
  },
  {
   "cell_type": "markdown",
   "id": "585ad80a",
   "metadata": {},
   "source": [
    "Now, we have a very large sample size. We are always very likely to find significance!"
   ]
  },
  {
   "cell_type": "markdown",
   "id": "4d4790da",
   "metadata": {},
   "source": [
    "For testing multiple ones at the same time, we effectively have a **repeated-measures** problem: each algorithm is measured multiple times, once for each algorithm.  We could use repeated-measures ANOVA, but this doesn't work if measures are missing for any elements, which is the case if we don't get recommendations or predictions for a user.\n",
    "\n",
    "The geneal solution is a **mixed-effects model**.\n",
    "\n",
    "- With 2 levels of our experiment variable, it is equivalent to a paired T-test\n",
    "- With complete data (every user-algo pair is observed), it is equivalent to a repeated-measures ANOVA\n",
    "\n",
    "Statsmodels provides this.\n",
    "\n",
    "We need our **exogenous** variables (in statsmodels terms), which are:\n",
    "\n",
    "- all but 1 algorithm (we will use `Bias` as our baseline)\n",
    "\n",
    "We aren't going to bother with a global intercept - we will let the per-user intercept take care of that."
   ]
  },
  {
   "cell_type": "code",
   "execution_count": 39,
   "id": "33107935",
   "metadata": {},
   "outputs": [
    {
     "data": {
      "text/html": [
       "<div>\n",
       "<style scoped>\n",
       "    .dataframe tbody tr th:only-of-type {\n",
       "        vertical-align: middle;\n",
       "    }\n",
       "\n",
       "    .dataframe tbody tr th {\n",
       "        vertical-align: top;\n",
       "    }\n",
       "\n",
       "    .dataframe thead th {\n",
       "        text-align: right;\n",
       "    }\n",
       "</style>\n",
       "<table border=\"1\" class=\"dataframe\">\n",
       "  <thead>\n",
       "    <tr style=\"text-align: right;\">\n",
       "      <th></th>\n",
       "      <th>E-MF</th>\n",
       "    </tr>\n",
       "  </thead>\n",
       "  <tbody>\n",
       "    <tr>\n",
       "      <th>0</th>\n",
       "      <td>0</td>\n",
       "    </tr>\n",
       "    <tr>\n",
       "      <th>1</th>\n",
       "      <td>0</td>\n",
       "    </tr>\n",
       "    <tr>\n",
       "      <th>2</th>\n",
       "      <td>0</td>\n",
       "    </tr>\n",
       "    <tr>\n",
       "      <th>3</th>\n",
       "      <td>0</td>\n",
       "    </tr>\n",
       "    <tr>\n",
       "      <th>4</th>\n",
       "      <td>0</td>\n",
       "    </tr>\n",
       "    <tr>\n",
       "      <th>...</th>\n",
       "      <td>...</td>\n",
       "    </tr>\n",
       "    <tr>\n",
       "      <th>193886</th>\n",
       "      <td>1</td>\n",
       "    </tr>\n",
       "    <tr>\n",
       "      <th>193887</th>\n",
       "      <td>1</td>\n",
       "    </tr>\n",
       "    <tr>\n",
       "      <th>193888</th>\n",
       "      <td>1</td>\n",
       "    </tr>\n",
       "    <tr>\n",
       "      <th>193889</th>\n",
       "      <td>1</td>\n",
       "    </tr>\n",
       "    <tr>\n",
       "      <th>193890</th>\n",
       "      <td>1</td>\n",
       "    </tr>\n",
       "  </tbody>\n",
       "</table>\n",
       "<p>193891 rows × 1 columns</p>\n",
       "</div>"
      ],
      "text/plain": [
       "        E-MF\n",
       "0          0\n",
       "1          0\n",
       "2          0\n",
       "3          0\n",
       "4          0\n",
       "...      ...\n",
       "193886     1\n",
       "193887     1\n",
       "193888     1\n",
       "193889     1\n",
       "193890     1\n",
       "\n",
       "[193891 rows x 1 columns]"
      ]
     },
     "execution_count": 39,
     "metadata": {},
     "output_type": "execute_result"
    }
   ],
   "source": [
    "rmse_algos = pd.get_dummies(user_rmse['algo']).drop(columns=['BIAS'])\n",
    "rmse_algos"
   ]
  },
  {
   "cell_type": "markdown",
   "id": "e66dd617",
   "metadata": {},
   "source": [
    "rmse_lm = sm.MixedLM(np.log(user_rmse['RMSE']), rmse_algos, user_rmse['user'])\n",
    "rmse_fit = rmse_lm.fit()\n",
    "rmse_fit.summary()"
   ]
  },
  {
   "cell_type": "markdown",
   "id": "78f6d0ee",
   "metadata": {},
   "source": [
    "rmse_resid = rmse_fit.resid"
   ]
  },
  {
   "cell_type": "markdown",
   "id": "d4465bb8",
   "metadata": {},
   "source": [
    "sm.qqplot(rmse_resid, line='45', scale=True)"
   ]
  },
  {
   "cell_type": "markdown",
   "id": "33c90ef4",
   "metadata": {},
   "source": [
    "## Recommendation Utility\n",
    "\n",
    "Now let's evaluate the top-*N* recommendations."
   ]
  },
  {
   "cell_type": "code",
   "execution_count": 41,
   "id": "b8ae198f",
   "metadata": {},
   "outputs": [
    {
     "name": "stdout",
     "output_type": "stream",
     "text": [
      "[   INFO] lenskit.topn analyzing 6093700 recommendations (692465 truth rows)\n",
      "[   INFO] lenskit.topn using rec key columns ['algo', 'part', 'user']\n",
      "[   INFO] lenskit.topn using truth key columns ['part', 'user']\n",
      "[   INFO] lenskit.topn numbering truth lists\n",
      "[   INFO] lenskit.topn numbering rec lists\n",
      "[   INFO] lenskit.topn collecting metric results\n",
      "[   INFO] lenskit.topn measured 304685 lists in 4.91s\n"
     ]
    },
    {
     "data": {
      "text/html": [
       "<div>\n",
       "<style scoped>\n",
       "    .dataframe tbody tr th:only-of-type {\n",
       "        vertical-align: middle;\n",
       "    }\n",
       "\n",
       "    .dataframe tbody tr th {\n",
       "        vertical-align: top;\n",
       "    }\n",
       "\n",
       "    .dataframe thead th {\n",
       "        text-align: right;\n",
       "    }\n",
       "</style>\n",
       "<table border=\"1\" class=\"dataframe\">\n",
       "  <thead>\n",
       "    <tr style=\"text-align: right;\">\n",
       "      <th></th>\n",
       "      <th>algo</th>\n",
       "      <th>part</th>\n",
       "      <th>user</th>\n",
       "      <th>nrecs</th>\n",
       "      <th>hit</th>\n",
       "      <th>recip_rank</th>\n",
       "      <th>ndcg</th>\n",
       "    </tr>\n",
       "  </thead>\n",
       "  <tbody>\n",
       "    <tr>\n",
       "      <th>0</th>\n",
       "      <td>POP</td>\n",
       "      <td>1</td>\n",
       "      <td>2</td>\n",
       "      <td>20</td>\n",
       "      <td>1.0</td>\n",
       "      <td>0.076923</td>\n",
       "      <td>0.058387</td>\n",
       "    </tr>\n",
       "    <tr>\n",
       "      <th>1</th>\n",
       "      <td>POP</td>\n",
       "      <td>1</td>\n",
       "      <td>7</td>\n",
       "      <td>20</td>\n",
       "      <td>0.0</td>\n",
       "      <td>0.000000</td>\n",
       "      <td>0.000000</td>\n",
       "    </tr>\n",
       "    <tr>\n",
       "      <th>2</th>\n",
       "      <td>POP</td>\n",
       "      <td>1</td>\n",
       "      <td>10</td>\n",
       "      <td>20</td>\n",
       "      <td>0.0</td>\n",
       "      <td>0.000000</td>\n",
       "      <td>0.000000</td>\n",
       "    </tr>\n",
       "    <tr>\n",
       "      <th>3</th>\n",
       "      <td>POP</td>\n",
       "      <td>1</td>\n",
       "      <td>16</td>\n",
       "      <td>20</td>\n",
       "      <td>1.0</td>\n",
       "      <td>0.058824</td>\n",
       "      <td>0.045499</td>\n",
       "    </tr>\n",
       "    <tr>\n",
       "      <th>4</th>\n",
       "      <td>POP</td>\n",
       "      <td>1</td>\n",
       "      <td>18</td>\n",
       "      <td>20</td>\n",
       "      <td>0.0</td>\n",
       "      <td>0.000000</td>\n",
       "      <td>0.000000</td>\n",
       "    </tr>\n",
       "    <tr>\n",
       "      <th>...</th>\n",
       "      <td>...</td>\n",
       "      <td>...</td>\n",
       "      <td>...</td>\n",
       "      <td>...</td>\n",
       "      <td>...</td>\n",
       "      <td>...</td>\n",
       "      <td>...</td>\n",
       "    </tr>\n",
       "    <tr>\n",
       "      <th>304680</th>\n",
       "      <td>E-MF</td>\n",
       "      <td>1</td>\n",
       "      <td>138476</td>\n",
       "      <td>20</td>\n",
       "      <td>1.0</td>\n",
       "      <td>0.125000</td>\n",
       "      <td>0.128313</td>\n",
       "    </tr>\n",
       "    <tr>\n",
       "      <th>304681</th>\n",
       "      <td>E-MF</td>\n",
       "      <td>1</td>\n",
       "      <td>138480</td>\n",
       "      <td>20</td>\n",
       "      <td>0.0</td>\n",
       "      <td>0.000000</td>\n",
       "      <td>0.000000</td>\n",
       "    </tr>\n",
       "    <tr>\n",
       "      <th>304682</th>\n",
       "      <td>E-MF</td>\n",
       "      <td>1</td>\n",
       "      <td>138481</td>\n",
       "      <td>20</td>\n",
       "      <td>0.0</td>\n",
       "      <td>0.000000</td>\n",
       "      <td>0.000000</td>\n",
       "    </tr>\n",
       "    <tr>\n",
       "      <th>304683</th>\n",
       "      <td>E-MF</td>\n",
       "      <td>1</td>\n",
       "      <td>138483</td>\n",
       "      <td>20</td>\n",
       "      <td>0.0</td>\n",
       "      <td>0.000000</td>\n",
       "      <td>0.000000</td>\n",
       "    </tr>\n",
       "    <tr>\n",
       "      <th>304684</th>\n",
       "      <td>E-MF</td>\n",
       "      <td>1</td>\n",
       "      <td>138488</td>\n",
       "      <td>20</td>\n",
       "      <td>0.0</td>\n",
       "      <td>0.000000</td>\n",
       "      <td>0.000000</td>\n",
       "    </tr>\n",
       "  </tbody>\n",
       "</table>\n",
       "<p>304685 rows × 7 columns</p>\n",
       "</div>"
      ],
      "text/plain": [
       "        algo  part    user  nrecs  hit  recip_rank      ndcg\n",
       "0        POP     1       2     20  1.0    0.076923  0.058387\n",
       "1        POP     1       7     20  0.0    0.000000  0.000000\n",
       "2        POP     1      10     20  0.0    0.000000  0.000000\n",
       "3        POP     1      16     20  1.0    0.058824  0.045499\n",
       "4        POP     1      18     20  0.0    0.000000  0.000000\n",
       "...      ...   ...     ...    ...  ...         ...       ...\n",
       "304680  E-MF     1  138476     20  1.0    0.125000  0.128313\n",
       "304681  E-MF     1  138480     20  0.0    0.000000  0.000000\n",
       "304682  E-MF     1  138481     20  0.0    0.000000  0.000000\n",
       "304683  E-MF     1  138483     20  0.0    0.000000  0.000000\n",
       "304684  E-MF     1  138488     20  0.0    0.000000  0.000000\n",
       "\n",
       "[304685 rows x 7 columns]"
      ]
     },
     "execution_count": 41,
     "metadata": {},
     "output_type": "execute_result"
    }
   ],
   "source": [
    "rla = topn.RecListAnalysis()\n",
    "rla.add_metric(topn.hit, k=20)\n",
    "rla.add_metric(topn.recip_rank, k=20)\n",
    "rla.add_metric(topn.ndcg, k=20)\n",
    "user_scores = rla.compute(recs, test_ratings)\n",
    "user_scores.reset_index(inplace=True)\n",
    "user_scores"
   ]
  },
  {
   "cell_type": "code",
   "execution_count": 42,
   "id": "bec37270",
   "metadata": {
    "scrolled": false
   },
   "outputs": [
    {
     "data": {
      "text/html": [
       "<div>\n",
       "<style scoped>\n",
       "    .dataframe tbody tr th:only-of-type {\n",
       "        vertical-align: middle;\n",
       "    }\n",
       "\n",
       "    .dataframe tbody tr th {\n",
       "        vertical-align: top;\n",
       "    }\n",
       "\n",
       "    .dataframe thead th {\n",
       "        text-align: right;\n",
       "    }\n",
       "</style>\n",
       "<table border=\"1\" class=\"dataframe\">\n",
       "  <thead>\n",
       "    <tr style=\"text-align: right;\">\n",
       "      <th></th>\n",
       "      <th>algo</th>\n",
       "      <th>user</th>\n",
       "      <th>Metric</th>\n",
       "      <th>value</th>\n",
       "    </tr>\n",
       "  </thead>\n",
       "  <tbody>\n",
       "    <tr>\n",
       "      <th>0</th>\n",
       "      <td>POP</td>\n",
       "      <td>2</td>\n",
       "      <td>recip_rank</td>\n",
       "      <td>0.076923</td>\n",
       "    </tr>\n",
       "    <tr>\n",
       "      <th>1</th>\n",
       "      <td>POP</td>\n",
       "      <td>7</td>\n",
       "      <td>recip_rank</td>\n",
       "      <td>0.000000</td>\n",
       "    </tr>\n",
       "    <tr>\n",
       "      <th>2</th>\n",
       "      <td>POP</td>\n",
       "      <td>10</td>\n",
       "      <td>recip_rank</td>\n",
       "      <td>0.000000</td>\n",
       "    </tr>\n",
       "    <tr>\n",
       "      <th>3</th>\n",
       "      <td>POP</td>\n",
       "      <td>16</td>\n",
       "      <td>recip_rank</td>\n",
       "      <td>0.058824</td>\n",
       "    </tr>\n",
       "    <tr>\n",
       "      <th>4</th>\n",
       "      <td>POP</td>\n",
       "      <td>18</td>\n",
       "      <td>recip_rank</td>\n",
       "      <td>0.000000</td>\n",
       "    </tr>\n",
       "    <tr>\n",
       "      <th>...</th>\n",
       "      <td>...</td>\n",
       "      <td>...</td>\n",
       "      <td>...</td>\n",
       "      <td>...</td>\n",
       "    </tr>\n",
       "    <tr>\n",
       "      <th>914050</th>\n",
       "      <td>E-MF</td>\n",
       "      <td>138476</td>\n",
       "      <td>ndcg</td>\n",
       "      <td>0.128313</td>\n",
       "    </tr>\n",
       "    <tr>\n",
       "      <th>914051</th>\n",
       "      <td>E-MF</td>\n",
       "      <td>138480</td>\n",
       "      <td>ndcg</td>\n",
       "      <td>0.000000</td>\n",
       "    </tr>\n",
       "    <tr>\n",
       "      <th>914052</th>\n",
       "      <td>E-MF</td>\n",
       "      <td>138481</td>\n",
       "      <td>ndcg</td>\n",
       "      <td>0.000000</td>\n",
       "    </tr>\n",
       "    <tr>\n",
       "      <th>914053</th>\n",
       "      <td>E-MF</td>\n",
       "      <td>138483</td>\n",
       "      <td>ndcg</td>\n",
       "      <td>0.000000</td>\n",
       "    </tr>\n",
       "    <tr>\n",
       "      <th>914054</th>\n",
       "      <td>E-MF</td>\n",
       "      <td>138488</td>\n",
       "      <td>ndcg</td>\n",
       "      <td>0.000000</td>\n",
       "    </tr>\n",
       "  </tbody>\n",
       "</table>\n",
       "<p>914055 rows × 4 columns</p>\n",
       "</div>"
      ],
      "text/plain": [
       "        algo    user      Metric     value\n",
       "0        POP       2  recip_rank  0.076923\n",
       "1        POP       7  recip_rank  0.000000\n",
       "2        POP      10  recip_rank  0.000000\n",
       "3        POP      16  recip_rank  0.058824\n",
       "4        POP      18  recip_rank  0.000000\n",
       "...      ...     ...         ...       ...\n",
       "914050  E-MF  138476        ndcg  0.128313\n",
       "914051  E-MF  138480        ndcg  0.000000\n",
       "914052  E-MF  138481        ndcg  0.000000\n",
       "914053  E-MF  138483        ndcg  0.000000\n",
       "914054  E-MF  138488        ndcg  0.000000\n",
       "\n",
       "[914055 rows x 4 columns]"
      ]
     },
     "execution_count": 42,
     "metadata": {},
     "output_type": "execute_result"
    }
   ],
   "source": [
    "us_tall = user_scores.melt(id_vars=['algo', 'user'], value_vars=['recip_rank', 'hit', 'ndcg'], var_name='Metric')\n",
    "us_tall"
   ]
  },
  {
   "cell_type": "code",
   "execution_count": 43,
   "id": "115a5aac",
   "metadata": {},
   "outputs": [
    {
     "data": {
      "image/png": "[encoded data removed]",
      "text/plain": [
       "<Figure size 1500x500 with 3 Axes>"
      ]
     },
     "metadata": {},
     "output_type": "display_data"
    }
   ],
   "source": [
    "g = sns.catplot(us_tall, x='algo', y='value', col='Metric', kind='bar', sharey=False)\n",
    "g.set_titles('{col_name}')\n",
    "g.set_xlabels(None)\n",
    "plt.show()"
   ]
  },
  {
   "cell_type": "code",
   "execution_count": null,
   "id": "6aff72f7",
   "metadata": {},
   "outputs": [],
   "source": []
  }
 ],
 "metadata": {
  "kernelspec": {
   "display_name": "Python 3 (ipykernel)",
   "language": "python",
   "name": "python3"
  },
  "language_info": {
   "codemirror_mode": {
    "name": "ipython",
    "version": 3
   },
   "file_extension": ".py",
   "mimetype": "text/x-python",
   "name": "python",
   "nbconvert_exporter": "python",
   "pygments_lexer": "ipython3",
   "version": "3.10.9"
  }
 },
 "nbformat": 4,
 "nbformat_minor": 5
}
