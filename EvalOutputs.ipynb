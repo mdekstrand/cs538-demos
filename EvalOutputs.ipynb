{
 "cells": [
  {
   "cell_type": "markdown",
   "id": "da4d453d",
   "metadata": {},
   "source": [
    "# Evaluate Outputs\n",
    "\n",
    "This notebook evaluates outputs of the recommendation model(s)."
   ]
  },
  {
   "cell_type": "markdown",
   "id": "cd4f5cfc",
   "metadata": {},
   "source": [
    "## Setup\n",
    "\n",
    "Let's import some things:"
   ]
  },
  {
   "cell_type": "code",
   "execution_count": 1,
   "id": "028070f9",
   "metadata": {},
   "outputs": [],
   "source": [
    "from pathlib import Path\n",
    "import re\n",
    "import logging"
   ]
  },
  {
   "cell_type": "code",
   "execution_count": 2,
   "id": "8a6ef53d",
   "metadata": {},
   "outputs": [],
   "source": [
    "import numpy as np\n",
    "import pandas as pd\n",
    "import seaborn as sns\n",
    "import matplotlib.pyplot as plt"
   ]
  },
  {
   "cell_type": "code",
   "execution_count": 42,
   "id": "b0a0cba3",
   "metadata": {},
   "outputs": [],
   "source": [
    "from scipy.stats import ttest_rel\n",
    "import statsmodels.api as sm"
   ]
  },
  {
   "cell_type": "code",
   "execution_count": 3,
   "id": "225859f3",
   "metadata": {},
   "outputs": [],
   "source": [
    "from lenskit import topn\n",
    "from lenskit.datasets import MovieLens\n",
    "from lenskit.util.log import log_to_notebook"
   ]
  },
  {
   "cell_type": "code",
   "execution_count": 4,
   "id": "1cb4000a",
   "metadata": {},
   "outputs": [
    {
     "name": "stdout",
     "output_type": "stream",
     "text": [
      "[   INFO] lenskit.util.log notebook logging configured\n"
     ]
    }
   ],
   "source": [
    "_log = logging.getLogger('eval-notebook')\n",
    "log_to_notebook()"
   ]
  },
  {
   "cell_type": "code",
   "execution_count": 5,
   "id": "422a2bbc",
   "metadata": {},
   "outputs": [],
   "source": [
    "from tqdm.notebook import tqdm\n",
    "tqdm.pandas()"
   ]
  },
  {
   "cell_type": "markdown",
   "id": "f28e672e",
   "metadata": {},
   "source": [
    "## Load Data"
   ]
  },
  {
   "cell_type": "markdown",
   "id": "6f37d6c6",
   "metadata": {},
   "source": [
    "### Test Data\n",
    "\n",
    "We're going to start by loading the test data:"
   ]
  },
  {
   "cell_type": "code",
   "execution_count": 6,
   "id": "d6736199",
   "metadata": {},
   "outputs": [],
   "source": [
    "ml = MovieLens('../data/ml-20m')\n",
    "split_dir = Path('../data/ml-20m-split')"
   ]
  },
  {
   "cell_type": "code",
   "execution_count": 7,
   "id": "19d9c8f7",
   "metadata": {},
   "outputs": [
    {
     "data": {
      "text/html": [
       "<div>\n",
       "<style scoped>\n",
       "    .dataframe tbody tr th:only-of-type {\n",
       "        vertical-align: middle;\n",
       "    }\n",
       "\n",
       "    .dataframe tbody tr th {\n",
       "        vertical-align: top;\n",
       "    }\n",
       "\n",
       "    .dataframe thead th {\n",
       "        text-align: right;\n",
       "    }\n",
       "</style>\n",
       "<table border=\"1\" class=\"dataframe\">\n",
       "  <thead>\n",
       "    <tr style=\"text-align: right;\">\n",
       "      <th></th>\n",
       "      <th>title</th>\n",
       "      <th>genres</th>\n",
       "    </tr>\n",
       "    <tr>\n",
       "      <th>item</th>\n",
       "      <th></th>\n",
       "      <th></th>\n",
       "    </tr>\n",
       "  </thead>\n",
       "  <tbody>\n",
       "    <tr>\n",
       "      <th>1</th>\n",
       "      <td>Toy Story (1995)</td>\n",
       "      <td>Adventure|Animation|Children|Comedy|Fantasy</td>\n",
       "    </tr>\n",
       "    <tr>\n",
       "      <th>2</th>\n",
       "      <td>Jumanji (1995)</td>\n",
       "      <td>Adventure|Children|Fantasy</td>\n",
       "    </tr>\n",
       "    <tr>\n",
       "      <th>3</th>\n",
       "      <td>Grumpier Old Men (1995)</td>\n",
       "      <td>Comedy|Romance</td>\n",
       "    </tr>\n",
       "    <tr>\n",
       "      <th>4</th>\n",
       "      <td>Waiting to Exhale (1995)</td>\n",
       "      <td>Comedy|Drama|Romance</td>\n",
       "    </tr>\n",
       "    <tr>\n",
       "      <th>5</th>\n",
       "      <td>Father of the Bride Part II (1995)</td>\n",
       "      <td>Comedy</td>\n",
       "    </tr>\n",
       "  </tbody>\n",
       "</table>\n",
       "</div>"
      ],
      "text/plain": [
       "                                   title  \\\n",
       "item                                       \n",
       "1                       Toy Story (1995)   \n",
       "2                         Jumanji (1995)   \n",
       "3                Grumpier Old Men (1995)   \n",
       "4               Waiting to Exhale (1995)   \n",
       "5     Father of the Bride Part II (1995)   \n",
       "\n",
       "                                           genres  \n",
       "item                                               \n",
       "1     Adventure|Animation|Children|Comedy|Fantasy  \n",
       "2                      Adventure|Children|Fantasy  \n",
       "3                                  Comedy|Romance  \n",
       "4                            Comedy|Drama|Romance  \n",
       "5                                          Comedy  "
      ]
     },
     "execution_count": 7,
     "metadata": {},
     "output_type": "execute_result"
    }
   ],
   "source": [
    "movies = ml.movies\n",
    "movies.head()"
   ]
  },
  {
   "cell_type": "markdown",
   "id": "a28f2f1f",
   "metadata": {},
   "source": [
    "Scan for and load test data:"
   ]
  },
  {
   "cell_type": "code",
   "execution_count": 8,
   "id": "1aa335d8",
   "metadata": {},
   "outputs": [],
   "source": [
    "test_re = re.compile(r'^part(?P<part>\\d+)-test')\n",
    "test_frames = {}\n",
    "for file in split_dir.glob('*-test.parquet'):\n",
    "    match = test_re.match(file.name)\n",
    "    part = int(match.group('part'))\n",
    "    test_frames[part] = pd.read_parquet(file)"
   ]
  },
  {
   "cell_type": "code",
   "execution_count": 9,
   "id": "bd934eb2",
   "metadata": {},
   "outputs": [
    {
     "data": {
      "text/html": [
       "<div>\n",
       "<style scoped>\n",
       "    .dataframe tbody tr th:only-of-type {\n",
       "        vertical-align: middle;\n",
       "    }\n",
       "\n",
       "    .dataframe tbody tr th {\n",
       "        vertical-align: top;\n",
       "    }\n",
       "\n",
       "    .dataframe thead th {\n",
       "        text-align: right;\n",
       "    }\n",
       "</style>\n",
       "<table border=\"1\" class=\"dataframe\">\n",
       "  <thead>\n",
       "    <tr style=\"text-align: right;\">\n",
       "      <th></th>\n",
       "      <th>part</th>\n",
       "      <th>user</th>\n",
       "      <th>item</th>\n",
       "      <th>rating</th>\n",
       "      <th>timestamp</th>\n",
       "    </tr>\n",
       "  </thead>\n",
       "  <tbody>\n",
       "    <tr>\n",
       "      <th>0</th>\n",
       "      <td>0</td>\n",
       "      <td>5</td>\n",
       "      <td>260</td>\n",
       "      <td>5.0</td>\n",
       "      <td>851527608</td>\n",
       "    </tr>\n",
       "    <tr>\n",
       "      <th>1</th>\n",
       "      <td>0</td>\n",
       "      <td>5</td>\n",
       "      <td>588</td>\n",
       "      <td>5.0</td>\n",
       "      <td>851527688</td>\n",
       "    </tr>\n",
       "    <tr>\n",
       "      <th>2</th>\n",
       "      <td>0</td>\n",
       "      <td>5</td>\n",
       "      <td>104</td>\n",
       "      <td>2.0</td>\n",
       "      <td>851526992</td>\n",
       "    </tr>\n",
       "    <tr>\n",
       "      <th>3</th>\n",
       "      <td>0</td>\n",
       "      <td>5</td>\n",
       "      <td>140</td>\n",
       "      <td>2.0</td>\n",
       "      <td>851527012</td>\n",
       "    </tr>\n",
       "    <tr>\n",
       "      <th>4</th>\n",
       "      <td>0</td>\n",
       "      <td>5</td>\n",
       "      <td>648</td>\n",
       "      <td>3.0</td>\n",
       "      <td>851526935</td>\n",
       "    </tr>\n",
       "  </tbody>\n",
       "</table>\n",
       "</div>"
      ],
      "text/plain": [
       "   part  user  item  rating  timestamp\n",
       "0     0     5   260     5.0  851527608\n",
       "1     0     5   588     5.0  851527688\n",
       "2     0     5   104     2.0  851526992\n",
       "3     0     5   140     2.0  851527012\n",
       "4     0     5   648     3.0  851526935"
      ]
     },
     "execution_count": 9,
     "metadata": {},
     "output_type": "execute_result"
    }
   ],
   "source": [
    "test_ratings = pd.concat(test_frames, names=['part'])\n",
    "test_ratings = test_ratings.reset_index('part').reset_index(drop=True)\n",
    "test_ratings.head()"
   ]
  },
  {
   "cell_type": "markdown",
   "id": "f28c6604",
   "metadata": {},
   "source": [
    "### Outputs\n",
    "\n",
    "Now let's load prediction & recommendation data.\n",
    "\n",
    "A regular expression will parse file names:"
   ]
  },
  {
   "cell_type": "code",
   "execution_count": 10,
   "id": "c03f983c",
   "metadata": {},
   "outputs": [],
   "source": [
    "fn_re = re.compile(r'^(?P<algo>.*)-(?P<part>\\d+)-(?:recs|preds)')"
   ]
  },
  {
   "cell_type": "markdown",
   "id": "2ee90865",
   "metadata": {},
   "source": [
    "Load predictions:"
   ]
  },
  {
   "cell_type": "code",
   "execution_count": 11,
   "id": "f8db3b32",
   "metadata": {},
   "outputs": [
    {
     "name": "stdout",
     "output_type": "stream",
     "text": [
      "[   INFO] eval-notebook loading preds/TorchMF-0-preds.parquet\n",
      "[   INFO] eval-notebook loading preds/TorchMF-1-preds.parquet\n",
      "[   INFO] eval-notebook loading preds/TorchMF-2-preds.parquet\n",
      "[   INFO] eval-notebook loading preds/TorchMF-3-preds.parquet\n",
      "[   INFO] eval-notebook loading preds/TorchMF-4-preds.parquet\n",
      "[   INFO] eval-notebook loading preds/E-MF-0-preds.parquet\n",
      "[   INFO] eval-notebook loading preds/E-MF-1-preds.parquet\n",
      "[   INFO] eval-notebook loading preds/E-MF-2-preds.parquet\n",
      "[   INFO] eval-notebook loading preds/E-MF-3-preds.parquet\n",
      "[   INFO] eval-notebook loading preds/E-MF-4-preds.parquet\n",
      "[   INFO] eval-notebook loading preds/I-KNN-0-preds.parquet\n",
      "[   INFO] eval-notebook loading preds/BIAS-0-preds.parquet\n",
      "[   INFO] eval-notebook loading preds/BIAS-1-preds.parquet\n",
      "[   INFO] eval-notebook loading preds/BIAS-2-preds.parquet\n",
      "[   INFO] eval-notebook loading preds/BIAS-3-preds.parquet\n",
      "[   INFO] eval-notebook loading preds/BIAS-4-preds.parquet\n"
     ]
    }
   ],
   "source": [
    "pred_frames = {}\n",
    "for file in Path('preds').glob('*-preds.parquet'):\n",
    "    _log.info('loading %s', file)\n",
    "    match = fn_re.match(file.name)\n",
    "    algo = match.group('algo')\n",
    "    part = int(match.group('part'))\n",
    "    df = pd.read_parquet(file)\n",
    "    pred_frames[(algo, part)] = df"
   ]
  },
  {
   "cell_type": "code",
   "execution_count": 12,
   "id": "baa751de",
   "metadata": {},
   "outputs": [
    {
     "data": {
      "text/html": [
       "<div>\n",
       "<style scoped>\n",
       "    .dataframe tbody tr th:only-of-type {\n",
       "        vertical-align: middle;\n",
       "    }\n",
       "\n",
       "    .dataframe tbody tr th {\n",
       "        vertical-align: top;\n",
       "    }\n",
       "\n",
       "    .dataframe thead th {\n",
       "        text-align: right;\n",
       "    }\n",
       "</style>\n",
       "<table border=\"1\" class=\"dataframe\">\n",
       "  <thead>\n",
       "    <tr style=\"text-align: right;\">\n",
       "      <th></th>\n",
       "      <th>algo</th>\n",
       "      <th>part</th>\n",
       "      <th>user</th>\n",
       "      <th>item</th>\n",
       "      <th>rating</th>\n",
       "      <th>timestamp</th>\n",
       "      <th>prediction</th>\n",
       "    </tr>\n",
       "  </thead>\n",
       "  <tbody>\n",
       "    <tr>\n",
       "      <th>0</th>\n",
       "      <td>TorchMF</td>\n",
       "      <td>0</td>\n",
       "      <td>5</td>\n",
       "      <td>260</td>\n",
       "      <td>5.0</td>\n",
       "      <td>851527608</td>\n",
       "      <td>4.991339</td>\n",
       "    </tr>\n",
       "    <tr>\n",
       "      <th>1</th>\n",
       "      <td>TorchMF</td>\n",
       "      <td>0</td>\n",
       "      <td>5</td>\n",
       "      <td>588</td>\n",
       "      <td>5.0</td>\n",
       "      <td>851527688</td>\n",
       "      <td>5.315952</td>\n",
       "    </tr>\n",
       "    <tr>\n",
       "      <th>2</th>\n",
       "      <td>TorchMF</td>\n",
       "      <td>0</td>\n",
       "      <td>5</td>\n",
       "      <td>104</td>\n",
       "      <td>2.0</td>\n",
       "      <td>851526992</td>\n",
       "      <td>3.682235</td>\n",
       "    </tr>\n",
       "    <tr>\n",
       "      <th>3</th>\n",
       "      <td>TorchMF</td>\n",
       "      <td>0</td>\n",
       "      <td>5</td>\n",
       "      <td>140</td>\n",
       "      <td>2.0</td>\n",
       "      <td>851527012</td>\n",
       "      <td>3.911164</td>\n",
       "    </tr>\n",
       "    <tr>\n",
       "      <th>4</th>\n",
       "      <td>TorchMF</td>\n",
       "      <td>0</td>\n",
       "      <td>5</td>\n",
       "      <td>648</td>\n",
       "      <td>3.0</td>\n",
       "      <td>851526935</td>\n",
       "      <td>5.191190</td>\n",
       "    </tr>\n",
       "  </tbody>\n",
       "</table>\n",
       "</div>"
      ],
      "text/plain": [
       "      algo  part  user  item  rating  timestamp  prediction\n",
       "0  TorchMF     0     5   260     5.0  851527608    4.991339\n",
       "1  TorchMF     0     5   588     5.0  851527688    5.315952\n",
       "2  TorchMF     0     5   104     2.0  851526992    3.682235\n",
       "3  TorchMF     0     5   140     2.0  851527012    3.911164\n",
       "4  TorchMF     0     5   648     3.0  851526935    5.191190"
      ]
     },
     "execution_count": 12,
     "metadata": {},
     "output_type": "execute_result"
    }
   ],
   "source": [
    "preds = pd.concat(pred_frames, names=['algo', 'part'])\n",
    "preds = preds.reset_index(['algo', 'part']).reset_index(drop=True)\n",
    "preds.head()"
   ]
  },
  {
   "cell_type": "markdown",
   "id": "f43c9bdc",
   "metadata": {},
   "source": [
    "And now the recommendations:"
   ]
  },
  {
   "cell_type": "code",
   "execution_count": 21,
   "id": "8cae4e1e",
   "metadata": {},
   "outputs": [
    {
     "name": "stdout",
     "output_type": "stream",
     "text": [
      "[   INFO] eval-notebook loading recs/TorchMF-0-recs.parquet\n",
      "[   INFO] eval-notebook loading recs/TorchMF-1-recs.parquet\n",
      "[   INFO] eval-notebook loading recs/TorchMF-2-recs.parquet\n",
      "[   INFO] eval-notebook loading recs/TorchMF-3-recs.parquet\n",
      "[   INFO] eval-notebook loading recs/TorchMF-4-recs.parquet\n",
      "[   INFO] eval-notebook loading recs/E-MF-0-recs.parquet\n",
      "[   INFO] eval-notebook loading recs/E-MF-1-recs.parquet\n",
      "[   INFO] eval-notebook loading recs/E-MF-2-recs.parquet\n",
      "[   INFO] eval-notebook loading recs/E-MF-3-recs.parquet\n",
      "[   INFO] eval-notebook loading recs/E-MF-4-recs.parquet\n",
      "[   INFO] eval-notebook loading recs/BIAS-0-recs.parquet\n",
      "[   INFO] eval-notebook loading recs/BIAS-1-recs.parquet\n",
      "[   INFO] eval-notebook loading recs/BIAS-2-recs.parquet\n",
      "[   INFO] eval-notebook loading recs/BIAS-3-recs.parquet\n",
      "[   INFO] eval-notebook loading recs/BIAS-4-recs.parquet\n",
      "[   INFO] eval-notebook loading recs/I-KNN-0-recs.parquet\n"
     ]
    }
   ],
   "source": [
    "rec_frames = {}\n",
    "for file in Path('recs').glob('*-recs.parquet'):\n",
    "    _log.info('loading %s', file)\n",
    "    match = fn_re.match(file.name)\n",
    "    algo = match.group('algo')\n",
    "    part = int(match.group('part'))\n",
    "    df = pd.read_parquet(file)\n",
    "    rec_frames[(algo, part)] = df"
   ]
  },
  {
   "cell_type": "code",
   "execution_count": 22,
   "id": "690bd4ca",
   "metadata": {},
   "outputs": [
    {
     "data": {
      "text/html": [
       "<div>\n",
       "<style scoped>\n",
       "    .dataframe tbody tr th:only-of-type {\n",
       "        vertical-align: middle;\n",
       "    }\n",
       "\n",
       "    .dataframe tbody tr th {\n",
       "        vertical-align: top;\n",
       "    }\n",
       "\n",
       "    .dataframe thead th {\n",
       "        text-align: right;\n",
       "    }\n",
       "</style>\n",
       "<table border=\"1\" class=\"dataframe\">\n",
       "  <thead>\n",
       "    <tr style=\"text-align: right;\">\n",
       "      <th></th>\n",
       "      <th>algo</th>\n",
       "      <th>part</th>\n",
       "      <th>item</th>\n",
       "      <th>score</th>\n",
       "      <th>user</th>\n",
       "      <th>rank</th>\n",
       "    </tr>\n",
       "  </thead>\n",
       "  <tbody>\n",
       "    <tr>\n",
       "      <th>0</th>\n",
       "      <td>TorchMF</td>\n",
       "      <td>0</td>\n",
       "      <td>588</td>\n",
       "      <td>5.315952</td>\n",
       "      <td>5</td>\n",
       "      <td>1</td>\n",
       "    </tr>\n",
       "    <tr>\n",
       "      <th>1</th>\n",
       "      <td>TorchMF</td>\n",
       "      <td>0</td>\n",
       "      <td>165</td>\n",
       "      <td>5.240476</td>\n",
       "      <td>5</td>\n",
       "      <td>2</td>\n",
       "    </tr>\n",
       "    <tr>\n",
       "      <th>2</th>\n",
       "      <td>TorchMF</td>\n",
       "      <td>0</td>\n",
       "      <td>2268</td>\n",
       "      <td>5.214736</td>\n",
       "      <td>5</td>\n",
       "      <td>3</td>\n",
       "    </tr>\n",
       "    <tr>\n",
       "      <th>3</th>\n",
       "      <td>TorchMF</td>\n",
       "      <td>0</td>\n",
       "      <td>648</td>\n",
       "      <td>5.191190</td>\n",
       "      <td>5</td>\n",
       "      <td>4</td>\n",
       "    </tr>\n",
       "    <tr>\n",
       "      <th>4</th>\n",
       "      <td>TorchMF</td>\n",
       "      <td>0</td>\n",
       "      <td>2394</td>\n",
       "      <td>5.172477</td>\n",
       "      <td>5</td>\n",
       "      <td>5</td>\n",
       "    </tr>\n",
       "  </tbody>\n",
       "</table>\n",
       "</div>"
      ],
      "text/plain": [
       "      algo  part  item     score  user  rank\n",
       "0  TorchMF     0   588  5.315952     5     1\n",
       "1  TorchMF     0   165  5.240476     5     2\n",
       "2  TorchMF     0  2268  5.214736     5     3\n",
       "3  TorchMF     0   648  5.191190     5     4\n",
       "4  TorchMF     0  2394  5.172477     5     5"
      ]
     },
     "execution_count": 22,
     "metadata": {},
     "output_type": "execute_result"
    }
   ],
   "source": [
    "recs = pd.concat(rec_frames, names=['algo', 'part'])\n",
    "recs = recs.reset_index(['algo', 'part']).reset_index(drop=True)\n",
    "recs.head()"
   ]
  },
  {
   "cell_type": "markdown",
   "id": "b00a7f18",
   "metadata": {},
   "source": [
    "## Prediction Accuracy\n",
    "\n",
    "Now, let's compute the per-user RMSE of each algorithm."
   ]
  },
  {
   "cell_type": "code",
   "execution_count": 23,
   "id": "58b90761",
   "metadata": {},
   "outputs": [
    {
     "data": {
      "text/html": [
       "<div>\n",
       "<style scoped>\n",
       "    .dataframe tbody tr th:only-of-type {\n",
       "        vertical-align: middle;\n",
       "    }\n",
       "\n",
       "    .dataframe tbody tr th {\n",
       "        vertical-align: top;\n",
       "    }\n",
       "\n",
       "    .dataframe thead th {\n",
       "        text-align: right;\n",
       "    }\n",
       "</style>\n",
       "<table border=\"1\" class=\"dataframe\">\n",
       "  <thead>\n",
       "    <tr style=\"text-align: right;\">\n",
       "      <th></th>\n",
       "      <th>algo</th>\n",
       "      <th>user</th>\n",
       "      <th>RMSE</th>\n",
       "    </tr>\n",
       "  </thead>\n",
       "  <tbody>\n",
       "    <tr>\n",
       "      <th>0</th>\n",
       "      <td>BIAS</td>\n",
       "      <td>1</td>\n",
       "      <td>0.103506</td>\n",
       "    </tr>\n",
       "    <tr>\n",
       "      <th>1</th>\n",
       "      <td>BIAS</td>\n",
       "      <td>2</td>\n",
       "      <td>0.564070</td>\n",
       "    </tr>\n",
       "    <tr>\n",
       "      <th>2</th>\n",
       "      <td>BIAS</td>\n",
       "      <td>3</td>\n",
       "      <td>0.064554</td>\n",
       "    </tr>\n",
       "    <tr>\n",
       "      <th>3</th>\n",
       "      <td>BIAS</td>\n",
       "      <td>4</td>\n",
       "      <td>0.337112</td>\n",
       "    </tr>\n",
       "    <tr>\n",
       "      <th>4</th>\n",
       "      <td>BIAS</td>\n",
       "      <td>5</td>\n",
       "      <td>1.986790</td>\n",
       "    </tr>\n",
       "  </tbody>\n",
       "</table>\n",
       "</div>"
      ],
      "text/plain": [
       "   algo  user      RMSE\n",
       "0  BIAS     1  0.103506\n",
       "1  BIAS     2  0.564070\n",
       "2  BIAS     3  0.064554\n",
       "3  BIAS     4  0.337112\n",
       "4  BIAS     5  1.986790"
      ]
     },
     "execution_count": 23,
     "metadata": {},
     "output_type": "execute_result"
    }
   ],
   "source": [
    "preds['sqerr'] = np.square(preds['rating'] - preds['prediction'])\n",
    "user_rmse = preds.groupby(['algo', 'user'])['sqerr'].mean()\n",
    "user_rmse = user_rmse.to_frame('RMSE').reset_index()\n",
    "user_rmse.head()"
   ]
  },
  {
   "cell_type": "markdown",
   "id": "7d66f063",
   "metadata": {},
   "source": [
    "Numeric summaries of RMSE:"
   ]
  },
  {
   "cell_type": "code",
   "execution_count": 24,
   "id": "9fdd9650",
   "metadata": {},
   "outputs": [
    {
     "data": {
      "text/html": [
       "<div>\n",
       "<style scoped>\n",
       "    .dataframe tbody tr th:only-of-type {\n",
       "        vertical-align: middle;\n",
       "    }\n",
       "\n",
       "    .dataframe tbody tr th {\n",
       "        vertical-align: top;\n",
       "    }\n",
       "\n",
       "    .dataframe thead th {\n",
       "        text-align: right;\n",
       "    }\n",
       "</style>\n",
       "<table border=\"1\" class=\"dataframe\">\n",
       "  <thead>\n",
       "    <tr style=\"text-align: right;\">\n",
       "      <th></th>\n",
       "      <th>count</th>\n",
       "      <th>mean</th>\n",
       "      <th>std</th>\n",
       "      <th>min</th>\n",
       "      <th>25%</th>\n",
       "      <th>50%</th>\n",
       "      <th>75%</th>\n",
       "      <th>max</th>\n",
       "    </tr>\n",
       "    <tr>\n",
       "      <th>algo</th>\n",
       "      <th></th>\n",
       "      <th></th>\n",
       "      <th></th>\n",
       "      <th></th>\n",
       "      <th></th>\n",
       "      <th></th>\n",
       "      <th></th>\n",
       "      <th></th>\n",
       "    </tr>\n",
       "  </thead>\n",
       "  <tbody>\n",
       "    <tr>\n",
       "      <th>BIAS</th>\n",
       "      <td>138493.0</td>\n",
       "      <td>0.817252</td>\n",
       "      <td>0.739942</td>\n",
       "      <td>0.002960</td>\n",
       "      <td>0.321015</td>\n",
       "      <td>0.593909</td>\n",
       "      <td>1.060867</td>\n",
       "      <td>10.715646</td>\n",
       "    </tr>\n",
       "    <tr>\n",
       "      <th>E-MF</th>\n",
       "      <td>138493.0</td>\n",
       "      <td>0.701921</td>\n",
       "      <td>0.660656</td>\n",
       "      <td>0.001524</td>\n",
       "      <td>0.267690</td>\n",
       "      <td>0.500326</td>\n",
       "      <td>0.905412</td>\n",
       "      <td>9.646174</td>\n",
       "    </tr>\n",
       "    <tr>\n",
       "      <th>I-KNN</th>\n",
       "      <td>27699.0</td>\n",
       "      <td>0.711498</td>\n",
       "      <td>0.669004</td>\n",
       "      <td>0.002411</td>\n",
       "      <td>0.272021</td>\n",
       "      <td>0.506239</td>\n",
       "      <td>0.914153</td>\n",
       "      <td>8.698016</td>\n",
       "    </tr>\n",
       "    <tr>\n",
       "      <th>TorchMF</th>\n",
       "      <td>138493.0</td>\n",
       "      <td>0.725843</td>\n",
       "      <td>0.655231</td>\n",
       "      <td>0.002071</td>\n",
       "      <td>0.287394</td>\n",
       "      <td>0.531931</td>\n",
       "      <td>0.945189</td>\n",
       "      <td>10.045729</td>\n",
       "    </tr>\n",
       "  </tbody>\n",
       "</table>\n",
       "</div>"
      ],
      "text/plain": [
       "            count      mean       std       min       25%       50%       75%  \\\n",
       "algo                                                                            \n",
       "BIAS     138493.0  0.817252  0.739942  0.002960  0.321015  0.593909  1.060867   \n",
       "E-MF     138493.0  0.701921  0.660656  0.001524  0.267690  0.500326  0.905412   \n",
       "I-KNN     27699.0  0.711498  0.669004  0.002411  0.272021  0.506239  0.914153   \n",
       "TorchMF  138493.0  0.725843  0.655231  0.002071  0.287394  0.531931  0.945189   \n",
       "\n",
       "               max  \n",
       "algo                \n",
       "BIAS     10.715646  \n",
       "E-MF      9.646174  \n",
       "I-KNN     8.698016  \n",
       "TorchMF  10.045729  "
      ]
     },
     "execution_count": 24,
     "metadata": {},
     "output_type": "execute_result"
    }
   ],
   "source": [
    "user_rmse.groupby('algo')['RMSE'].describe()"
   ]
  },
  {
   "cell_type": "markdown",
   "id": "17bfb650",
   "metadata": {},
   "source": [
    "Plot it:"
   ]
  },
  {
   "cell_type": "code",
   "execution_count": 25,
   "id": "d238480a",
   "metadata": {},
   "outputs": [
    {
     "data": {
      "image/png": "[encoded data removed]",
      "text/plain": [
       "<Figure size 500x500 with 1 Axes>"
      ]
     },
     "metadata": {},
     "output_type": "display_data"
    }
   ],
   "source": [
    "sns.catplot(user_rmse, x='algo', y='RMSE', kind='bar')\n",
    "plt.title('Prediction Accuracy')\n",
    "plt.show()"
   ]
  },
  {
   "cell_type": "markdown",
   "id": "36f50704",
   "metadata": {},
   "source": [
    "### Statistical Inference\n",
    "\n",
    "We have these metrics, how do we do inference on them?  The confidence intervals indicate some significance, but we haven't taken into account the **non-independence** of measurements: each RMSE depends on the user across different algorithms!\n",
    "\n",
    "For testing *two* algorithms, we can use a paired t-test:"
   ]
  },
  {
   "cell_type": "code",
   "execution_count": 40,
   "id": "46afe6be",
   "metadata": {},
   "outputs": [
    {
     "data": {
      "text/html": [
       "<div>\n",
       "<style scoped>\n",
       "    .dataframe tbody tr th:only-of-type {\n",
       "        vertical-align: middle;\n",
       "    }\n",
       "\n",
       "    .dataframe tbody tr th {\n",
       "        vertical-align: top;\n",
       "    }\n",
       "\n",
       "    .dataframe thead th {\n",
       "        text-align: right;\n",
       "    }\n",
       "</style>\n",
       "<table border=\"1\" class=\"dataframe\">\n",
       "  <thead>\n",
       "    <tr style=\"text-align: right;\">\n",
       "      <th>algo</th>\n",
       "      <th>BIAS</th>\n",
       "      <th>E-MF</th>\n",
       "      <th>I-KNN</th>\n",
       "      <th>TorchMF</th>\n",
       "    </tr>\n",
       "    <tr>\n",
       "      <th>user</th>\n",
       "      <th></th>\n",
       "      <th></th>\n",
       "      <th></th>\n",
       "      <th></th>\n",
       "    </tr>\n",
       "  </thead>\n",
       "  <tbody>\n",
       "    <tr>\n",
       "      <th>1</th>\n",
       "      <td>0.103506</td>\n",
       "      <td>0.034663</td>\n",
       "      <td>NaN</td>\n",
       "      <td>0.071665</td>\n",
       "    </tr>\n",
       "    <tr>\n",
       "      <th>2</th>\n",
       "      <td>0.564070</td>\n",
       "      <td>0.535744</td>\n",
       "      <td>NaN</td>\n",
       "      <td>0.392388</td>\n",
       "    </tr>\n",
       "    <tr>\n",
       "      <th>3</th>\n",
       "      <td>0.064554</td>\n",
       "      <td>0.113213</td>\n",
       "      <td>NaN</td>\n",
       "      <td>0.120022</td>\n",
       "    </tr>\n",
       "    <tr>\n",
       "      <th>4</th>\n",
       "      <td>0.337112</td>\n",
       "      <td>0.660115</td>\n",
       "      <td>NaN</td>\n",
       "      <td>0.428752</td>\n",
       "    </tr>\n",
       "    <tr>\n",
       "      <th>5</th>\n",
       "      <td>1.986790</td>\n",
       "      <td>2.501450</td>\n",
       "      <td>2.546303</td>\n",
       "      <td>2.276736</td>\n",
       "    </tr>\n",
       "  </tbody>\n",
       "</table>\n",
       "</div>"
      ],
      "text/plain": [
       "algo      BIAS      E-MF     I-KNN   TorchMF\n",
       "user                                        \n",
       "1     0.103506  0.034663       NaN  0.071665\n",
       "2     0.564070  0.535744       NaN  0.392388\n",
       "3     0.064554  0.113213       NaN  0.120022\n",
       "4     0.337112  0.660115       NaN  0.428752\n",
       "5     1.986790  2.501450  2.546303  2.276736"
      ]
     },
     "execution_count": 40,
     "metadata": {},
     "output_type": "execute_result"
    }
   ],
   "source": [
    "rmse_wide = user_rmse.pivot(index='user', columns='algo', values='RMSE')\n",
    "rmse_wide.head()"
   ]
  },
  {
   "cell_type": "code",
   "execution_count": 41,
   "id": "f5576b1a",
   "metadata": {},
   "outputs": [
    {
     "data": {
      "text/plain": [
       "TtestResult(statistic=73.6390452928533, pvalue=0.0, df=138492)"
      ]
     },
     "execution_count": 41,
     "metadata": {},
     "output_type": "execute_result"
    }
   ],
   "source": [
    "ttest_rel(rmse_wide['BIAS'], rmse_wide['TorchMF'])"
   ]
  },
  {
   "cell_type": "markdown",
   "id": "585ad80a",
   "metadata": {},
   "source": [
    "Now, we have a very large sample size. We are always very likely to find significance!"
   ]
  },
  {
   "cell_type": "markdown",
   "id": "4d4790da",
   "metadata": {},
   "source": [
    "For testing multiple ones at the same time, we effectively have a **repeated-measures** problem: each algorithm is measured multiple times, once for each algorithm.  We could use repeated-measures ANOVA, but this doesn't work if measures are missing for any elements, which is the case if we don't get recommendations or predictions for a user.\n",
    "\n",
    "The geneal solution is a **mixed-effects model**.\n",
    "\n",
    "- With 2 levels of our experiment variable, it is equivalent to a paired T-test\n",
    "- With complete data (every user-algo pair is observed), it is equivalent to a repeated-measures ANOVA\n",
    "\n",
    "Statsmodels provides this.\n",
    "\n",
    "We need our **exogenous** variables (in statsmodels terms), which are:\n",
    "\n",
    "- all but 1 algorithm (we will use `Bias` as our baseline)\n",
    "\n",
    "We aren't going to bother with a global intercept - we will let the per-user intercept take care of that."
   ]
  },
  {
   "cell_type": "code",
   "execution_count": 43,
   "id": "33107935",
   "metadata": {},
   "outputs": [
    {
     "data": {
      "text/html": [
       "<div>\n",
       "<style scoped>\n",
       "    .dataframe tbody tr th:only-of-type {\n",
       "        vertical-align: middle;\n",
       "    }\n",
       "\n",
       "    .dataframe tbody tr th {\n",
       "        vertical-align: top;\n",
       "    }\n",
       "\n",
       "    .dataframe thead th {\n",
       "        text-align: right;\n",
       "    }\n",
       "</style>\n",
       "<table border=\"1\" class=\"dataframe\">\n",
       "  <thead>\n",
       "    <tr style=\"text-align: right;\">\n",
       "      <th></th>\n",
       "      <th>E-MF</th>\n",
       "      <th>I-KNN</th>\n",
       "      <th>TorchMF</th>\n",
       "    </tr>\n",
       "  </thead>\n",
       "  <tbody>\n",
       "    <tr>\n",
       "      <th>0</th>\n",
       "      <td>0</td>\n",
       "      <td>0</td>\n",
       "      <td>0</td>\n",
       "    </tr>\n",
       "    <tr>\n",
       "      <th>1</th>\n",
       "      <td>0</td>\n",
       "      <td>0</td>\n",
       "      <td>0</td>\n",
       "    </tr>\n",
       "    <tr>\n",
       "      <th>2</th>\n",
       "      <td>0</td>\n",
       "      <td>0</td>\n",
       "      <td>0</td>\n",
       "    </tr>\n",
       "    <tr>\n",
       "      <th>3</th>\n",
       "      <td>0</td>\n",
       "      <td>0</td>\n",
       "      <td>0</td>\n",
       "    </tr>\n",
       "    <tr>\n",
       "      <th>4</th>\n",
       "      <td>0</td>\n",
       "      <td>0</td>\n",
       "      <td>0</td>\n",
       "    </tr>\n",
       "    <tr>\n",
       "      <th>...</th>\n",
       "      <td>...</td>\n",
       "      <td>...</td>\n",
       "      <td>...</td>\n",
       "    </tr>\n",
       "    <tr>\n",
       "      <th>443173</th>\n",
       "      <td>0</td>\n",
       "      <td>0</td>\n",
       "      <td>1</td>\n",
       "    </tr>\n",
       "    <tr>\n",
       "      <th>443174</th>\n",
       "      <td>0</td>\n",
       "      <td>0</td>\n",
       "      <td>1</td>\n",
       "    </tr>\n",
       "    <tr>\n",
       "      <th>443175</th>\n",
       "      <td>0</td>\n",
       "      <td>0</td>\n",
       "      <td>1</td>\n",
       "    </tr>\n",
       "    <tr>\n",
       "      <th>443176</th>\n",
       "      <td>0</td>\n",
       "      <td>0</td>\n",
       "      <td>1</td>\n",
       "    </tr>\n",
       "    <tr>\n",
       "      <th>443177</th>\n",
       "      <td>0</td>\n",
       "      <td>0</td>\n",
       "      <td>1</td>\n",
       "    </tr>\n",
       "  </tbody>\n",
       "</table>\n",
       "<p>443178 rows × 3 columns</p>\n",
       "</div>"
      ],
      "text/plain": [
       "        E-MF  I-KNN  TorchMF\n",
       "0          0      0        0\n",
       "1          0      0        0\n",
       "2          0      0        0\n",
       "3          0      0        0\n",
       "4          0      0        0\n",
       "...      ...    ...      ...\n",
       "443173     0      0        1\n",
       "443174     0      0        1\n",
       "443175     0      0        1\n",
       "443176     0      0        1\n",
       "443177     0      0        1\n",
       "\n",
       "[443178 rows x 3 columns]"
      ]
     },
     "execution_count": 43,
     "metadata": {},
     "output_type": "execute_result"
    }
   ],
   "source": [
    "rmse_algos = pd.get_dummies(user_rmse['algo']).drop(columns=['BIAS'])\n",
    "rmse_algos"
   ]
  },
  {
   "cell_type": "code",
   "execution_count": 55,
   "id": "44fb0c92",
   "metadata": {},
   "outputs": [
    {
     "data": {
      "text/html": [
       "<table class=\"simpletable\">\n",
       "<tr>\n",
       "       <td>Model:</td>       <td>MixedLM</td> <td>Dependent Variable:</td>     <td>RMSE</td>    \n",
       "</tr>\n",
       "<tr>\n",
       "  <td>No. Observations:</td> <td>443178</td>        <td>Method:</td>           <td>REML</td>    \n",
       "</tr>\n",
       "<tr>\n",
       "     <td>No. Groups:</td>    <td>138493</td>        <td>Scale:</td>           <td>0.1395</td>   \n",
       "</tr>\n",
       "<tr>\n",
       "  <td>Min. group size:</td>     <td>3</td>      <td>Log-Likelihood:</td>   <td>-408569.6856</td>\n",
       "</tr>\n",
       "<tr>\n",
       "  <td>Max. group size:</td>     <td>4</td>        <td>Converged:</td>           <td>Yes</td>    \n",
       "</tr>\n",
       "<tr>\n",
       "  <td>Mean group size:</td>    <td>3.2</td>            <td></td>                 <td></td>      \n",
       "</tr>\n",
       "</table>\n",
       "<table class=\"simpletable\">\n",
       "<tr>\n",
       "      <td></td>       <th>Coef.</th> <th>Std.Err.</th>     <th>z</th>    <th>P>|z|</th> <th>[0.025</th> <th>0.975]</th>\n",
       "</tr>\n",
       "<tr>\n",
       "  <th>E-MF</th>      <td>-0.244</td>   <td>0.001</td>  <td>-173.410</td> <td>0.000</td> <td>-0.247</td> <td>-0.241</td>\n",
       "</tr>\n",
       "<tr>\n",
       "  <th>I-KNN</th>     <td>-0.229</td>   <td>0.003</td>   <td>-84.677</td> <td>0.000</td> <td>-0.234</td> <td>-0.223</td>\n",
       "</tr>\n",
       "<tr>\n",
       "  <th>TorchMF</th>   <td>-0.190</td>   <td>0.001</td>  <td>-135.159</td> <td>0.000</td> <td>-0.193</td> <td>-0.188</td>\n",
       "</tr>\n",
       "<tr>\n",
       "  <th>Group Var</th>  <td>0.952</td>   <td>0.013</td>      <td></td>       <td></td>       <td></td>       <td></td>   \n",
       "</tr>\n",
       "</table>"
      ],
      "text/plain": [
       "<class 'statsmodels.iolib.summary2.Summary'>\n",
       "\"\"\"\n",
       "          Mixed Linear Model Regression Results\n",
       "==========================================================\n",
       "Model:            MixedLM Dependent Variable: RMSE        \n",
       "No. Observations: 443178  Method:             REML        \n",
       "No. Groups:       138493  Scale:              0.1395      \n",
       "Min. group size:  3       Log-Likelihood:     -408569.6856\n",
       "Max. group size:  4       Converged:          Yes         \n",
       "Mean group size:  3.2                                     \n",
       "----------------------------------------------------------\n",
       "              Coef.  Std.Err.    z     P>|z| [0.025 0.975]\n",
       "----------------------------------------------------------\n",
       "E-MF          -0.244    0.001 -173.410 0.000 -0.247 -0.241\n",
       "I-KNN         -0.229    0.003  -84.677 0.000 -0.234 -0.223\n",
       "TorchMF       -0.190    0.001 -135.159 0.000 -0.193 -0.188\n",
       "Group Var      0.952    0.013                             \n",
       "==========================================================\n",
       "\n",
       "\"\"\""
      ]
     },
     "execution_count": 55,
     "metadata": {},
     "output_type": "execute_result"
    }
   ],
   "source": [
    "rmse_lm = sm.MixedLM(np.log(user_rmse['RMSE']), rmse_algos, user_rmse['user'])\n",
    "rmse_fit = rmse_lm.fit()\n",
    "rmse_fit.summary()"
   ]
  },
  {
   "cell_type": "code",
   "execution_count": 50,
   "id": "30e994aa",
   "metadata": {},
   "outputs": [],
   "source": [
    "rmse_resid = rmse_fit.resid"
   ]
  },
  {
   "cell_type": "code",
   "execution_count": 54,
   "id": "13098b36",
   "metadata": {},
   "outputs": [
    {
     "data": {
      "image/png": "[encoded data removed]",
      "text/plain": [
       "<Figure size 640x480 with 1 Axes>"
      ]
     },
     "execution_count": 54,
     "metadata": {},
     "output_type": "execute_result"
    },
    {
     "data": {
      "image/png": "[encoded data removed]",
      "text/plain": [
       "<Figure size 640x480 with 1 Axes>"
      ]
     },
     "metadata": {},
     "output_type": "display_data"
    }
   ],
   "source": [
    "sm.qqplot(rmse_resid, line='45', scale=True)"
   ]
  },
  {
   "cell_type": "markdown",
   "id": "33c90ef4",
   "metadata": {},
   "source": [
    "## Recommendation Utility\n",
    "\n",
    "Now let's evaluate the top-*N* recommendations."
   ]
  },
  {
   "cell_type": "code",
   "execution_count": 26,
   "id": "b8ae198f",
   "metadata": {},
   "outputs": [
    {
     "name": "stdout",
     "output_type": "stream",
     "text": [
      "[   INFO] lenskit.topn analyzing 8863560 recommendations (692465 truth rows)\n",
      "[   INFO] lenskit.topn using rec key columns ['algo', 'part', 'user']\n",
      "[   INFO] lenskit.topn using truth key columns ['part', 'user']\n",
      "[   INFO] lenskit.topn numbering truth lists\n",
      "[   INFO] lenskit.topn numbering rec lists\n",
      "[   INFO] lenskit.topn collecting metric results\n",
      "[   INFO] lenskit.topn measured 443178 lists in 6.31s\n"
     ]
    },
    {
     "data": {
      "text/html": [
       "<div>\n",
       "<style scoped>\n",
       "    .dataframe tbody tr th:only-of-type {\n",
       "        vertical-align: middle;\n",
       "    }\n",
       "\n",
       "    .dataframe tbody tr th {\n",
       "        vertical-align: top;\n",
       "    }\n",
       "\n",
       "    .dataframe thead th {\n",
       "        text-align: right;\n",
       "    }\n",
       "</style>\n",
       "<table border=\"1\" class=\"dataframe\">\n",
       "  <thead>\n",
       "    <tr style=\"text-align: right;\">\n",
       "      <th></th>\n",
       "      <th>algo</th>\n",
       "      <th>part</th>\n",
       "      <th>user</th>\n",
       "      <th>nrecs</th>\n",
       "      <th>hit</th>\n",
       "      <th>recip_rank</th>\n",
       "      <th>ndcg</th>\n",
       "    </tr>\n",
       "  </thead>\n",
       "  <tbody>\n",
       "    <tr>\n",
       "      <th>0</th>\n",
       "      <td>TorchMF</td>\n",
       "      <td>0</td>\n",
       "      <td>5</td>\n",
       "      <td>20</td>\n",
       "      <td>1.0</td>\n",
       "      <td>1.0</td>\n",
       "      <td>0.582017</td>\n",
       "    </tr>\n",
       "    <tr>\n",
       "      <th>1</th>\n",
       "      <td>TorchMF</td>\n",
       "      <td>0</td>\n",
       "      <td>11</td>\n",
       "      <td>20</td>\n",
       "      <td>1.0</td>\n",
       "      <td>0.1</td>\n",
       "      <td>0.096291</td>\n",
       "    </tr>\n",
       "    <tr>\n",
       "      <th>2</th>\n",
       "      <td>TorchMF</td>\n",
       "      <td>0</td>\n",
       "      <td>15</td>\n",
       "      <td>20</td>\n",
       "      <td>0.0</td>\n",
       "      <td>0.0</td>\n",
       "      <td>0.000000</td>\n",
       "    </tr>\n",
       "    <tr>\n",
       "      <th>3</th>\n",
       "      <td>TorchMF</td>\n",
       "      <td>0</td>\n",
       "      <td>17</td>\n",
       "      <td>20</td>\n",
       "      <td>0.0</td>\n",
       "      <td>0.0</td>\n",
       "      <td>0.000000</td>\n",
       "    </tr>\n",
       "    <tr>\n",
       "      <th>4</th>\n",
       "      <td>TorchMF</td>\n",
       "      <td>0</td>\n",
       "      <td>19</td>\n",
       "      <td>20</td>\n",
       "      <td>0.0</td>\n",
       "      <td>0.0</td>\n",
       "      <td>0.000000</td>\n",
       "    </tr>\n",
       "    <tr>\n",
       "      <th>...</th>\n",
       "      <td>...</td>\n",
       "      <td>...</td>\n",
       "      <td>...</td>\n",
       "      <td>...</td>\n",
       "      <td>...</td>\n",
       "      <td>...</td>\n",
       "      <td>...</td>\n",
       "    </tr>\n",
       "    <tr>\n",
       "      <th>443173</th>\n",
       "      <td>I-KNN</td>\n",
       "      <td>0</td>\n",
       "      <td>138487</td>\n",
       "      <td>20</td>\n",
       "      <td>0.0</td>\n",
       "      <td>0.0</td>\n",
       "      <td>0.000000</td>\n",
       "    </tr>\n",
       "    <tr>\n",
       "      <th>443174</th>\n",
       "      <td>I-KNN</td>\n",
       "      <td>0</td>\n",
       "      <td>138488</td>\n",
       "      <td>20</td>\n",
       "      <td>0.0</td>\n",
       "      <td>0.0</td>\n",
       "      <td>0.000000</td>\n",
       "    </tr>\n",
       "    <tr>\n",
       "      <th>443175</th>\n",
       "      <td>I-KNN</td>\n",
       "      <td>0</td>\n",
       "      <td>138489</td>\n",
       "      <td>20</td>\n",
       "      <td>0.0</td>\n",
       "      <td>0.0</td>\n",
       "      <td>0.000000</td>\n",
       "    </tr>\n",
       "    <tr>\n",
       "      <th>443176</th>\n",
       "      <td>I-KNN</td>\n",
       "      <td>0</td>\n",
       "      <td>138492</td>\n",
       "      <td>20</td>\n",
       "      <td>0.0</td>\n",
       "      <td>0.0</td>\n",
       "      <td>0.000000</td>\n",
       "    </tr>\n",
       "    <tr>\n",
       "      <th>443177</th>\n",
       "      <td>I-KNN</td>\n",
       "      <td>0</td>\n",
       "      <td>138493</td>\n",
       "      <td>20</td>\n",
       "      <td>0.0</td>\n",
       "      <td>0.0</td>\n",
       "      <td>0.000000</td>\n",
       "    </tr>\n",
       "  </tbody>\n",
       "</table>\n",
       "<p>443178 rows × 7 columns</p>\n",
       "</div>"
      ],
      "text/plain": [
       "           algo  part    user  nrecs  hit  recip_rank      ndcg\n",
       "0       TorchMF     0       5     20  1.0         1.0  0.582017\n",
       "1       TorchMF     0      11     20  1.0         0.1  0.096291\n",
       "2       TorchMF     0      15     20  0.0         0.0  0.000000\n",
       "3       TorchMF     0      17     20  0.0         0.0  0.000000\n",
       "4       TorchMF     0      19     20  0.0         0.0  0.000000\n",
       "...         ...   ...     ...    ...  ...         ...       ...\n",
       "443173    I-KNN     0  138487     20  0.0         0.0  0.000000\n",
       "443174    I-KNN     0  138488     20  0.0         0.0  0.000000\n",
       "443175    I-KNN     0  138489     20  0.0         0.0  0.000000\n",
       "443176    I-KNN     0  138492     20  0.0         0.0  0.000000\n",
       "443177    I-KNN     0  138493     20  0.0         0.0  0.000000\n",
       "\n",
       "[443178 rows x 7 columns]"
      ]
     },
     "execution_count": 26,
     "metadata": {},
     "output_type": "execute_result"
    }
   ],
   "source": [
    "rla = topn.RecListAnalysis()\n",
    "rla.add_metric(topn.hit, k=20)\n",
    "rla.add_metric(topn.recip_rank, k=20)\n",
    "rla.add_metric(topn.ndcg, k=20)\n",
    "user_scores = rla.compute(recs, test_ratings)\n",
    "user_scores.reset_index(inplace=True)\n",
    "user_scores"
   ]
  },
  {
   "cell_type": "code",
   "execution_count": 27,
   "id": "bec37270",
   "metadata": {
    "scrolled": false
   },
   "outputs": [
    {
     "data": {
      "text/html": [
       "<div>\n",
       "<style scoped>\n",
       "    .dataframe tbody tr th:only-of-type {\n",
       "        vertical-align: middle;\n",
       "    }\n",
       "\n",
       "    .dataframe tbody tr th {\n",
       "        vertical-align: top;\n",
       "    }\n",
       "\n",
       "    .dataframe thead th {\n",
       "        text-align: right;\n",
       "    }\n",
       "</style>\n",
       "<table border=\"1\" class=\"dataframe\">\n",
       "  <thead>\n",
       "    <tr style=\"text-align: right;\">\n",
       "      <th></th>\n",
       "      <th>algo</th>\n",
       "      <th>user</th>\n",
       "      <th>Metric</th>\n",
       "      <th>value</th>\n",
       "    </tr>\n",
       "  </thead>\n",
       "  <tbody>\n",
       "    <tr>\n",
       "      <th>0</th>\n",
       "      <td>TorchMF</td>\n",
       "      <td>5</td>\n",
       "      <td>recip_rank</td>\n",
       "      <td>1.0</td>\n",
       "    </tr>\n",
       "    <tr>\n",
       "      <th>1</th>\n",
       "      <td>TorchMF</td>\n",
       "      <td>11</td>\n",
       "      <td>recip_rank</td>\n",
       "      <td>0.1</td>\n",
       "    </tr>\n",
       "    <tr>\n",
       "      <th>2</th>\n",
       "      <td>TorchMF</td>\n",
       "      <td>15</td>\n",
       "      <td>recip_rank</td>\n",
       "      <td>0.0</td>\n",
       "    </tr>\n",
       "    <tr>\n",
       "      <th>3</th>\n",
       "      <td>TorchMF</td>\n",
       "      <td>17</td>\n",
       "      <td>recip_rank</td>\n",
       "      <td>0.0</td>\n",
       "    </tr>\n",
       "    <tr>\n",
       "      <th>4</th>\n",
       "      <td>TorchMF</td>\n",
       "      <td>19</td>\n",
       "      <td>recip_rank</td>\n",
       "      <td>0.0</td>\n",
       "    </tr>\n",
       "    <tr>\n",
       "      <th>...</th>\n",
       "      <td>...</td>\n",
       "      <td>...</td>\n",
       "      <td>...</td>\n",
       "      <td>...</td>\n",
       "    </tr>\n",
       "    <tr>\n",
       "      <th>1329529</th>\n",
       "      <td>I-KNN</td>\n",
       "      <td>138487</td>\n",
       "      <td>ndcg</td>\n",
       "      <td>0.0</td>\n",
       "    </tr>\n",
       "    <tr>\n",
       "      <th>1329530</th>\n",
       "      <td>I-KNN</td>\n",
       "      <td>138488</td>\n",
       "      <td>ndcg</td>\n",
       "      <td>0.0</td>\n",
       "    </tr>\n",
       "    <tr>\n",
       "      <th>1329531</th>\n",
       "      <td>I-KNN</td>\n",
       "      <td>138489</td>\n",
       "      <td>ndcg</td>\n",
       "      <td>0.0</td>\n",
       "    </tr>\n",
       "    <tr>\n",
       "      <th>1329532</th>\n",
       "      <td>I-KNN</td>\n",
       "      <td>138492</td>\n",
       "      <td>ndcg</td>\n",
       "      <td>0.0</td>\n",
       "    </tr>\n",
       "    <tr>\n",
       "      <th>1329533</th>\n",
       "      <td>I-KNN</td>\n",
       "      <td>138493</td>\n",
       "      <td>ndcg</td>\n",
       "      <td>0.0</td>\n",
       "    </tr>\n",
       "  </tbody>\n",
       "</table>\n",
       "<p>1329534 rows × 4 columns</p>\n",
       "</div>"
      ],
      "text/plain": [
       "            algo    user      Metric  value\n",
       "0        TorchMF       5  recip_rank    1.0\n",
       "1        TorchMF      11  recip_rank    0.1\n",
       "2        TorchMF      15  recip_rank    0.0\n",
       "3        TorchMF      17  recip_rank    0.0\n",
       "4        TorchMF      19  recip_rank    0.0\n",
       "...          ...     ...         ...    ...\n",
       "1329529    I-KNN  138487        ndcg    0.0\n",
       "1329530    I-KNN  138488        ndcg    0.0\n",
       "1329531    I-KNN  138489        ndcg    0.0\n",
       "1329532    I-KNN  138492        ndcg    0.0\n",
       "1329533    I-KNN  138493        ndcg    0.0\n",
       "\n",
       "[1329534 rows x 4 columns]"
      ]
     },
     "execution_count": 27,
     "metadata": {},
     "output_type": "execute_result"
    }
   ],
   "source": [
    "us_tall = user_scores.melt(id_vars=['algo', 'user'], value_vars=['recip_rank', 'hit', 'ndcg'], var_name='Metric')\n",
    "us_tall"
   ]
  },
  {
   "cell_type": "code",
   "execution_count": 28,
   "id": "115a5aac",
   "metadata": {},
   "outputs": [
    {
     "data": {
      "image/png": "[encoded data removed]",
      "text/plain": [
       "<Figure size 1500x500 with 3 Axes>"
      ]
     },
     "metadata": {},
     "output_type": "display_data"
    }
   ],
   "source": [
    "g = sns.catplot(us_tall, x='algo', y='value', col='Metric', kind='bar', sharey=False)\n",
    "g.set_titles('{col_name}')\n",
    "g.set_xlabels(None)\n",
    "plt.show()"
   ]
  },
  {
   "cell_type": "code",
   "execution_count": null,
   "id": "6aff72f7",
   "metadata": {},
   "outputs": [],
   "source": []
  }
 ],
 "metadata": {
  "kernelspec": {
   "display_name": "Python 3 (ipykernel)",
   "language": "python",
   "name": "python3"
  },
  "language_info": {
   "codemirror_mode": {
    "name": "ipython",
    "version": 3
   },
   "file_extension": ".py",
   "mimetype": "text/x-python",
   "name": "python",
   "nbconvert_exporter": "python",
   "pygments_lexer": "ipython3",
   "version": "3.10.9"
  }
 },
 "nbformat": 4,
 "nbformat_minor": 5
}
